{
  "nbformat": 4,
  "nbformat_minor": 0,
  "metadata": {
    "colab": {
      "name": "Optimize_portfolio.ipynb",
      "provenance": []
    },
    "kernelspec": {
      "display_name": "Python 3",
      "language": "python",
      "name": "python3"
    },
    "language_info": {
      "codemirror_mode": {
        "name": "ipython",
        "version": 3
      },
      "file_extension": ".py",
      "mimetype": "text/x-python",
      "name": "python",
      "nbconvert_exporter": "python",
      "pygments_lexer": "ipython3",
      "version": "3.7.6"
    }
  },
  "cells": [
    {
      "cell_type": "code",
      "metadata": {
        "id": "velOlZFWobJ3"
      },
      "source": [
        "# Describe : This program attempts to optimize a user portfolio using the Efficient Frontier.\n"
      ],
      "execution_count": null,
      "outputs": []
    },
    {
      "cell_type": "code",
      "metadata": {
        "id": "GQ7faOLnoyMl"
      },
      "source": [
        "# Import the python Libraries\n",
        "from pandas_datareader import data as web\n",
        "import pandas as pd\n",
        "from datetime import datetime\n",
        "import numpy as np\n",
        "import matplotlib.pyplot as plt\n",
        "plt.style.use('fivethirtyeight')"
      ],
      "execution_count": 1,
      "outputs": []
    },
    {
      "cell_type": "code",
      "metadata": {
        "id": "PA9nujWCpN9v"
      },
      "source": [
        "# Get the stock symbols tickers in the portfolio\n",
        "# FAANG\n",
        "assets = ['SBIN.NS', 'TATACHEM.NS', 'TATASTEEL.NS', 'GAIL.NS', 'IOC.NS']"
      ],
      "execution_count": 18,
      "outputs": []
    },
    {
      "cell_type": "code",
      "metadata": {
        "id": "ffTeVHJUKvYs"
      },
      "source": [
        "# Assign weights to the stock.\n",
        "weights = np.array([0.2, 0.2, 0.2, 0.2, 0.2])"
      ],
      "execution_count": 19,
      "outputs": []
    },
    {
      "cell_type": "code",
      "metadata": {
        "colab": {
          "base_uri": "https://localhost:8080/",
          "height": 35
        },
        "id": "__ojUjrlLL2R",
        "outputId": "24793c15-2fac-45f7-ceb8-dc4b1fd30d65"
      },
      "source": [
        "# Get the Stock/Portfolio starting date\n",
        "stockStarDate = '2010-01-01'\n",
        "\n",
        "# Get the Stock/Portfolio Ending date\n",
        "today = datetime.today().strftime('%Y-%m-%d')\n",
        "today"
      ],
      "execution_count": 20,
      "outputs": [
        {
          "output_type": "execute_result",
          "data": {
            "application/vnd.google.colaboratory.intrinsic+json": {
              "type": "string"
            },
            "text/plain": [
              "'2020-12-08'"
            ]
          },
          "metadata": {
            "tags": []
          },
          "execution_count": 20
        }
      ]
    },
    {
      "cell_type": "code",
      "metadata": {
        "id": "Cmtd5ycdLiER"
      },
      "source": [
        "# Create the Dataframe to storethe adjusted close proce of the stock\n",
        "df = pd.DataFrame()\n",
        "\n",
        "# Store the adjusted close price of the stock into the df\n",
        "for stock in assets:\n",
        "  df[stock] = web.DataReader(stock, data_source='yahoo', start = stockStarDate, end = today)['Adj Close']\n"
      ],
      "execution_count": 21,
      "outputs": []
    },
    {
      "cell_type": "code",
      "metadata": {
        "colab": {
          "base_uri": "https://localhost:8080/",
          "height": 431
        },
        "id": "vCLvDg4KRYad",
        "outputId": "7b00c85d-f00e-48a2-f62a-bea564897eb1"
      },
      "source": [
        "# Show the data Frame\n",
        "df"
      ],
      "execution_count": 22,
      "outputs": [
        {
          "output_type": "execute_result",
          "data": {
            "text/html": [
              "<div>\n",
              "<style scoped>\n",
              "    .dataframe tbody tr th:only-of-type {\n",
              "        vertical-align: middle;\n",
              "    }\n",
              "\n",
              "    .dataframe tbody tr th {\n",
              "        vertical-align: top;\n",
              "    }\n",
              "\n",
              "    .dataframe thead th {\n",
              "        text-align: right;\n",
              "    }\n",
              "</style>\n",
              "<table border=\"1\" class=\"dataframe\">\n",
              "  <thead>\n",
              "    <tr style=\"text-align: right;\">\n",
              "      <th></th>\n",
              "      <th>SBIN.NS</th>\n",
              "      <th>TATACHEM.NS</th>\n",
              "      <th>TATASTEEL.NS</th>\n",
              "      <th>GAIL.NS</th>\n",
              "      <th>IOC.NS</th>\n",
              "    </tr>\n",
              "    <tr>\n",
              "      <th>Date</th>\n",
              "      <th></th>\n",
              "      <th></th>\n",
              "      <th></th>\n",
              "      <th></th>\n",
              "      <th></th>\n",
              "    </tr>\n",
              "  </thead>\n",
              "  <tbody>\n",
              "    <tr>\n",
              "      <th>2010-01-04</th>\n",
              "      <td>95.066895</td>\n",
              "      <td>82.193344</td>\n",
              "      <td>464.420959</td>\n",
              "      <td>60.434708</td>\n",
              "      <td>28.011845</td>\n",
              "    </tr>\n",
              "    <tr>\n",
              "      <th>2010-01-05</th>\n",
              "      <td>95.102180</td>\n",
              "      <td>83.393929</td>\n",
              "      <td>475.669373</td>\n",
              "      <td>60.965874</td>\n",
              "      <td>28.118677</td>\n",
              "    </tr>\n",
              "    <tr>\n",
              "      <th>2010-01-06</th>\n",
              "      <td>95.672699</td>\n",
              "      <td>83.014946</td>\n",
              "      <td>470.503601</td>\n",
              "      <td>60.558430</td>\n",
              "      <td>28.078613</td>\n",
              "    </tr>\n",
              "    <tr>\n",
              "      <th>2010-01-07</th>\n",
              "      <td>95.137444</td>\n",
              "      <td>81.296051</td>\n",
              "      <td>476.182343</td>\n",
              "      <td>62.080009</td>\n",
              "      <td>27.637934</td>\n",
              "    </tr>\n",
              "    <tr>\n",
              "      <th>2010-01-08</th>\n",
              "      <td>94.853218</td>\n",
              "      <td>80.158539</td>\n",
              "      <td>475.193146</td>\n",
              "      <td>62.429455</td>\n",
              "      <td>28.109768</td>\n",
              "    </tr>\n",
              "    <tr>\n",
              "      <th>...</th>\n",
              "      <td>...</td>\n",
              "      <td>...</td>\n",
              "      <td>...</td>\n",
              "      <td>...</td>\n",
              "      <td>...</td>\n",
              "    </tr>\n",
              "    <tr>\n",
              "      <th>2020-12-02</th>\n",
              "      <td>246.949997</td>\n",
              "      <td>427.350006</td>\n",
              "      <td>604.349976</td>\n",
              "      <td>116.699997</td>\n",
              "      <td>88.400002</td>\n",
              "    </tr>\n",
              "    <tr>\n",
              "      <th>2020-12-03</th>\n",
              "      <td>256.299988</td>\n",
              "      <td>455.399994</td>\n",
              "      <td>620.900024</td>\n",
              "      <td>118.250000</td>\n",
              "      <td>89.900002</td>\n",
              "    </tr>\n",
              "    <tr>\n",
              "      <th>2020-12-04</th>\n",
              "      <td>263.500000</td>\n",
              "      <td>490.899994</td>\n",
              "      <td>622.700012</td>\n",
              "      <td>119.800003</td>\n",
              "      <td>90.400002</td>\n",
              "    </tr>\n",
              "    <tr>\n",
              "      <th>2020-12-07</th>\n",
              "      <td>269.600006</td>\n",
              "      <td>509.049988</td>\n",
              "      <td>614.549988</td>\n",
              "      <td>122.400002</td>\n",
              "      <td>91.699997</td>\n",
              "    </tr>\n",
              "    <tr>\n",
              "      <th>2020-12-08</th>\n",
              "      <td>271.899994</td>\n",
              "      <td>510.450012</td>\n",
              "      <td>613.450012</td>\n",
              "      <td>121.750000</td>\n",
              "      <td>91.050003</td>\n",
              "    </tr>\n",
              "  </tbody>\n",
              "</table>\n",
              "<p>2695 rows × 5 columns</p>\n",
              "</div>"
            ],
            "text/plain": [
              "               SBIN.NS  TATACHEM.NS  TATASTEEL.NS     GAIL.NS     IOC.NS\n",
              "Date                                                                    \n",
              "2010-01-04   95.066895    82.193344    464.420959   60.434708  28.011845\n",
              "2010-01-05   95.102180    83.393929    475.669373   60.965874  28.118677\n",
              "2010-01-06   95.672699    83.014946    470.503601   60.558430  28.078613\n",
              "2010-01-07   95.137444    81.296051    476.182343   62.080009  27.637934\n",
              "2010-01-08   94.853218    80.158539    475.193146   62.429455  28.109768\n",
              "...                ...          ...           ...         ...        ...\n",
              "2020-12-02  246.949997   427.350006    604.349976  116.699997  88.400002\n",
              "2020-12-03  256.299988   455.399994    620.900024  118.250000  89.900002\n",
              "2020-12-04  263.500000   490.899994    622.700012  119.800003  90.400002\n",
              "2020-12-07  269.600006   509.049988    614.549988  122.400002  91.699997\n",
              "2020-12-08  271.899994   510.450012    613.450012  121.750000  91.050003\n",
              "\n",
              "[2695 rows x 5 columns]"
            ]
          },
          "metadata": {
            "tags": []
          },
          "execution_count": 22
        }
      ]
    },
    {
      "cell_type": "code",
      "metadata": {
        "colab": {
          "base_uri": "https://localhost:8080/",
          "height": 301
        },
        "id": "2y-FCUNqRe9u",
        "outputId": "b72c0aee-ac32-4809-9145-990a4059f1eb"
      },
      "source": [
        "# Visualize the Stock/Portfolio\n",
        "title = 'Porfolio Adj. Close Price History'\n",
        "\n",
        "# Get the stocks\n",
        "my_stock = df\n",
        "\n",
        "# Creat the plot and graph\n",
        "for c  in my_stock.columns.values:\n",
        "  plt.plot(my_stock[c], label = c)\n",
        "\n",
        "plt.title(title)\n",
        "plt.xlabel('Date', fontsize=18)\n",
        "plt.ylabel('Adj. Price USD($)', fontsize=18)\n",
        "plt.legend(my_stock.columns.values, loc='upper left')\n",
        "plt.show()"
      ],
      "execution_count": 23,
      "outputs": [
        {
          "output_type": "display_data",
          "data": {
            "image/png": "[encoded data removed]",
            "text/plain": [
              "<Figure size 432x288 with 1 Axes>"
            ]
          },
          "metadata": {
            "tags": [],
            "needs_background": "light"
          }
        }
      ]
    },
    {
      "cell_type": "code",
      "metadata": {
        "colab": {
          "base_uri": "https://localhost:8080/",
          "height": 431
        },
        "id": "E_MRVMRPUAD2",
        "outputId": "da9f04b8-abfe-4700-cbd2-90d700b90f28"
      },
      "source": [
        "# Show the daily simple learn\n",
        "returns = df.pct_change()\n",
        "returns"
      ],
      "execution_count": 24,
      "outputs": [
        {
          "output_type": "execute_result",
          "data": {
            "text/html": [
              "<div>\n",
              "<style scoped>\n",
              "    .dataframe tbody tr th:only-of-type {\n",
              "        vertical-align: middle;\n",
              "    }\n",
              "\n",
              "    .dataframe tbody tr th {\n",
              "        vertical-align: top;\n",
              "    }\n",
              "\n",
              "    .dataframe thead th {\n",
              "        text-align: right;\n",
              "    }\n",
              "</style>\n",
              "<table border=\"1\" class=\"dataframe\">\n",
              "  <thead>\n",
              "    <tr style=\"text-align: right;\">\n",
              "      <th></th>\n",
              "      <th>SBIN.NS</th>\n",
              "      <th>TATACHEM.NS</th>\n",
              "      <th>TATASTEEL.NS</th>\n",
              "      <th>GAIL.NS</th>\n",
              "      <th>IOC.NS</th>\n",
              "    </tr>\n",
              "    <tr>\n",
              "      <th>Date</th>\n",
              "      <th></th>\n",
              "      <th></th>\n",
              "      <th></th>\n",
              "      <th></th>\n",
              "      <th></th>\n",
              "    </tr>\n",
              "  </thead>\n",
              "  <tbody>\n",
              "    <tr>\n",
              "      <th>2010-01-04</th>\n",
              "      <td>NaN</td>\n",
              "      <td>NaN</td>\n",
              "      <td>NaN</td>\n",
              "      <td>NaN</td>\n",
              "      <td>NaN</td>\n",
              "    </tr>\n",
              "    <tr>\n",
              "      <th>2010-01-05</th>\n",
              "      <td>0.000371</td>\n",
              "      <td>0.014607</td>\n",
              "      <td>0.024220</td>\n",
              "      <td>0.008789</td>\n",
              "      <td>0.003814</td>\n",
              "    </tr>\n",
              "    <tr>\n",
              "      <th>2010-01-06</th>\n",
              "      <td>0.005999</td>\n",
              "      <td>-0.004544</td>\n",
              "      <td>-0.010860</td>\n",
              "      <td>-0.006683</td>\n",
              "      <td>-0.001425</td>\n",
              "    </tr>\n",
              "    <tr>\n",
              "      <th>2010-01-07</th>\n",
              "      <td>-0.005595</td>\n",
              "      <td>-0.020706</td>\n",
              "      <td>0.012069</td>\n",
              "      <td>0.025126</td>\n",
              "      <td>-0.015694</td>\n",
              "    </tr>\n",
              "    <tr>\n",
              "      <th>2010-01-08</th>\n",
              "      <td>-0.002988</td>\n",
              "      <td>-0.013992</td>\n",
              "      <td>-0.002077</td>\n",
              "      <td>0.005629</td>\n",
              "      <td>0.017072</td>\n",
              "    </tr>\n",
              "    <tr>\n",
              "      <th>...</th>\n",
              "      <td>...</td>\n",
              "      <td>...</td>\n",
              "      <td>...</td>\n",
              "      <td>...</td>\n",
              "      <td>...</td>\n",
              "    </tr>\n",
              "    <tr>\n",
              "      <th>2020-12-02</th>\n",
              "      <td>-0.004435</td>\n",
              "      <td>0.055315</td>\n",
              "      <td>0.031666</td>\n",
              "      <td>0.054201</td>\n",
              "      <td>0.029703</td>\n",
              "    </tr>\n",
              "    <tr>\n",
              "      <th>2020-12-03</th>\n",
              "      <td>0.037862</td>\n",
              "      <td>0.065637</td>\n",
              "      <td>0.027385</td>\n",
              "      <td>0.013282</td>\n",
              "      <td>0.016968</td>\n",
              "    </tr>\n",
              "    <tr>\n",
              "      <th>2020-12-04</th>\n",
              "      <td>0.028092</td>\n",
              "      <td>0.077953</td>\n",
              "      <td>0.002899</td>\n",
              "      <td>0.013108</td>\n",
              "      <td>0.005562</td>\n",
              "    </tr>\n",
              "    <tr>\n",
              "      <th>2020-12-07</th>\n",
              "      <td>0.023150</td>\n",
              "      <td>0.036973</td>\n",
              "      <td>-0.013088</td>\n",
              "      <td>0.021703</td>\n",
              "      <td>0.014380</td>\n",
              "    </tr>\n",
              "    <tr>\n",
              "      <th>2020-12-08</th>\n",
              "      <td>0.008531</td>\n",
              "      <td>0.002750</td>\n",
              "      <td>-0.001790</td>\n",
              "      <td>-0.005310</td>\n",
              "      <td>-0.007088</td>\n",
              "    </tr>\n",
              "  </tbody>\n",
              "</table>\n",
              "<p>2695 rows × 5 columns</p>\n",
              "</div>"
            ],
            "text/plain": [
              "             SBIN.NS  TATACHEM.NS  TATASTEEL.NS   GAIL.NS    IOC.NS\n",
              "Date                                                               \n",
              "2010-01-04       NaN          NaN           NaN       NaN       NaN\n",
              "2010-01-05  0.000371     0.014607      0.024220  0.008789  0.003814\n",
              "2010-01-06  0.005999    -0.004544     -0.010860 -0.006683 -0.001425\n",
              "2010-01-07 -0.005595    -0.020706      0.012069  0.025126 -0.015694\n",
              "2010-01-08 -0.002988    -0.013992     -0.002077  0.005629  0.017072\n",
              "...              ...          ...           ...       ...       ...\n",
              "2020-12-02 -0.004435     0.055315      0.031666  0.054201  0.029703\n",
              "2020-12-03  0.037862     0.065637      0.027385  0.013282  0.016968\n",
              "2020-12-04  0.028092     0.077953      0.002899  0.013108  0.005562\n",
              "2020-12-07  0.023150     0.036973     -0.013088  0.021703  0.014380\n",
              "2020-12-08  0.008531     0.002750     -0.001790 -0.005310 -0.007088\n",
              "\n",
              "[2695 rows x 5 columns]"
            ]
          },
          "metadata": {
            "tags": []
          },
          "execution_count": 24
        }
      ]
    },
    {
      "cell_type": "code",
      "metadata": {
        "colab": {
          "base_uri": "https://localhost:8080/",
          "height": 195
        },
        "id": "C4_efA5vU6h7",
        "outputId": "de7075af-2d6b-4dcc-dfcf-ca6e1fa4e14a"
      },
      "source": [
        "# Create and show the annualized covariance matrix\n",
        "cov_matrix_annual = returns.cov() * 252\n",
        "cov_matrix_annual"
      ],
      "execution_count": 25,
      "outputs": [
        {
          "output_type": "execute_result",
          "data": {
            "text/html": [
              "<div>\n",
              "<style scoped>\n",
              "    .dataframe tbody tr th:only-of-type {\n",
              "        vertical-align: middle;\n",
              "    }\n",
              "\n",
              "    .dataframe tbody tr th {\n",
              "        vertical-align: top;\n",
              "    }\n",
              "\n",
              "    .dataframe thead th {\n",
              "        text-align: right;\n",
              "    }\n",
              "</style>\n",
              "<table border=\"1\" class=\"dataframe\">\n",
              "  <thead>\n",
              "    <tr style=\"text-align: right;\">\n",
              "      <th></th>\n",
              "      <th>SBIN.NS</th>\n",
              "      <th>TATACHEM.NS</th>\n",
              "      <th>TATASTEEL.NS</th>\n",
              "      <th>GAIL.NS</th>\n",
              "      <th>IOC.NS</th>\n",
              "    </tr>\n",
              "  </thead>\n",
              "  <tbody>\n",
              "    <tr>\n",
              "      <th>SBIN.NS</th>\n",
              "      <td>0.134251</td>\n",
              "      <td>0.042276</td>\n",
              "      <td>0.060402</td>\n",
              "      <td>0.036517</td>\n",
              "      <td>0.037447</td>\n",
              "    </tr>\n",
              "    <tr>\n",
              "      <th>TATACHEM.NS</th>\n",
              "      <td>0.042276</td>\n",
              "      <td>0.439256</td>\n",
              "      <td>0.050351</td>\n",
              "      <td>0.027516</td>\n",
              "      <td>0.029389</td>\n",
              "    </tr>\n",
              "    <tr>\n",
              "      <th>TATASTEEL.NS</th>\n",
              "      <td>0.060402</td>\n",
              "      <td>0.050351</td>\n",
              "      <td>0.137314</td>\n",
              "      <td>0.039375</td>\n",
              "      <td>0.034922</td>\n",
              "    </tr>\n",
              "    <tr>\n",
              "      <th>GAIL.NS</th>\n",
              "      <td>0.036517</td>\n",
              "      <td>0.027516</td>\n",
              "      <td>0.039375</td>\n",
              "      <td>0.094741</td>\n",
              "      <td>0.035050</td>\n",
              "    </tr>\n",
              "    <tr>\n",
              "      <th>IOC.NS</th>\n",
              "      <td>0.037447</td>\n",
              "      <td>0.029389</td>\n",
              "      <td>0.034922</td>\n",
              "      <td>0.035050</td>\n",
              "      <td>0.106814</td>\n",
              "    </tr>\n",
              "  </tbody>\n",
              "</table>\n",
              "</div>"
            ],
            "text/plain": [
              "               SBIN.NS  TATACHEM.NS  TATASTEEL.NS   GAIL.NS    IOC.NS\n",
              "SBIN.NS       0.134251     0.042276      0.060402  0.036517  0.037447\n",
              "TATACHEM.NS   0.042276     0.439256      0.050351  0.027516  0.029389\n",
              "TATASTEEL.NS  0.060402     0.050351      0.137314  0.039375  0.034922\n",
              "GAIL.NS       0.036517     0.027516      0.039375  0.094741  0.035050\n",
              "IOC.NS        0.037447     0.029389      0.034922  0.035050  0.106814"
            ]
          },
          "metadata": {
            "tags": []
          },
          "execution_count": 25
        }
      ]
    },
    {
      "cell_type": "code",
      "metadata": {
        "colab": {
          "base_uri": "https://localhost:8080/"
        },
        "id": "MW3wmoepXQEZ",
        "outputId": "c62c0f40-91dd-43e8-c853-1a17233a991a"
      },
      "source": [
        "# Calculate the porfolio variance\n",
        "port_variance = np.dot(weights.T, np.dot(cov_matrix_annual, weights))\n",
        "port_variance"
      ],
      "execution_count": 26,
      "outputs": [
        {
          "output_type": "execute_result",
          "data": {
            "text/plain": [
              "0.06795465623526123"
            ]
          },
          "metadata": {
            "tags": []
          },
          "execution_count": 26
        }
      ]
    },
    {
      "cell_type": "code",
      "metadata": {
        "colab": {
          "base_uri": "https://localhost:8080/"
        },
        "id": "jdPWXt_mXxRE",
        "outputId": "71bef53e-97c4-4196-c638-b6b676a60118"
      },
      "source": [
        "# calculat the portfolio volatility aka standar deviation\n",
        "port_volatility = np.sqrt(port_variance)\n",
        "port_volatility"
      ],
      "execution_count": 27,
      "outputs": [
        {
          "output_type": "execute_result",
          "data": {
            "text/plain": [
              "0.26068113900944434"
            ]
          },
          "metadata": {
            "tags": []
          },
          "execution_count": 27
        }
      ]
    },
    {
      "cell_type": "code",
      "metadata": {
        "colab": {
          "base_uri": "https://localhost:8080/"
        },
        "id": "VelONe7xZJCY",
        "outputId": "1baf4420-a3ea-4247-ea09-5e988da7cd31"
      },
      "source": [
        "# Calculate the annual portfolio return \n",
        "portfolioSimpleAnnualRturn = np.sum(returns.mean() * weights) * 252\n",
        "portfolioSimpleAnnualRturn"
      ],
      "execution_count": 28,
      "outputs": [
        {
          "output_type": "execute_result",
          "data": {
            "text/plain": [
              "0.175780321198361"
            ]
          },
          "metadata": {
            "tags": []
          },
          "execution_count": 28
        }
      ]
    },
    {
      "cell_type": "code",
      "metadata": {
        "colab": {
          "base_uri": "https://localhost:8080/"
        },
        "id": "2p73q_lqZl24",
        "outputId": "ce14fc28-df39-47f5-ee02-f8c20d619fda"
      },
      "source": [
        "# Show the expected annual return, volatility and variance\n",
        "percent_var = str(round(port_variance, 2) * 100) + '%'\n",
        "percent_vols = str(round(port_volatility, 2) * 100) + '%'\n",
        "percent_rets = str(round(portfolioSimpleAnnualRturn, 2) * 100) + '%'\n",
        "\n",
        "print('Expected annual Return:' + percent_rets)\n",
        "print('Annual volatility / Risk:' + percent_vols)\n",
        "print('Annual variance: ' + percent_var)"
      ],
      "execution_count": 29,
      "outputs": [
        {
          "output_type": "stream",
          "text": [
            "Expected annual Return:18.0%\n",
            "Annual volatility / Risk:26.0%\n",
            "Annual variance: 7.000000000000001%\n"
          ],
          "name": "stdout"
        }
      ]
    },
    {
      "cell_type": "code",
      "metadata": {
        "colab": {
          "base_uri": "https://localhost:8080/"
        },
        "id": "iWzWG_1PbgVF",
        "outputId": "21164ff7-00d7-4f55-e1ac-7c262b586ad8"
      },
      "source": [
        "!pip install PyPortfolioOpt"
      ],
      "execution_count": 30,
      "outputs": [
        {
          "output_type": "stream",
          "text": [
            "Requirement already satisfied: PyPortfolioOpt in /usr/local/lib/python3.6/dist-packages (1.2.7)\n",
            "Requirement already satisfied: numpy<2.0,>=1.12 in /usr/local/lib/python3.6/dist-packages (from PyPortfolioOpt) (1.18.5)\n",
            "Requirement already satisfied: cvxpy<2.0,>=1.0 in /usr/local/lib/python3.6/dist-packages (from PyPortfolioOpt) (1.0.31)\n",
            "Requirement already satisfied: cvxopt<2.0,>=1.2 in /usr/local/lib/python3.6/dist-packages (from PyPortfolioOpt) (1.2.5)\n",
            "Requirement already satisfied: pandas>=0.19 in /usr/local/lib/python3.6/dist-packages (from PyPortfolioOpt) (1.1.4)\n",
            "Requirement already satisfied: scipy<2.0,>=1.3 in /usr/local/lib/python3.6/dist-packages (from PyPortfolioOpt) (1.4.1)\n",
            "Requirement already satisfied: multiprocess in /usr/local/lib/python3.6/dist-packages (from cvxpy<2.0,>=1.0->PyPortfolioOpt) (0.70.11.1)\n",
            "Requirement already satisfied: scs>=1.1.3 in /usr/local/lib/python3.6/dist-packages (from cvxpy<2.0,>=1.0->PyPortfolioOpt) (2.1.2)\n",
            "Requirement already satisfied: osqp>=0.4.1 in /usr/local/lib/python3.6/dist-packages (from cvxpy<2.0,>=1.0->PyPortfolioOpt) (0.6.1)\n",
            "Requirement already satisfied: ecos>=2 in /usr/local/lib/python3.6/dist-packages (from cvxpy<2.0,>=1.0->PyPortfolioOpt) (2.0.7.post1)\n",
            "Requirement already satisfied: pytz>=2017.2 in /usr/local/lib/python3.6/dist-packages (from pandas>=0.19->PyPortfolioOpt) (2018.9)\n",
            "Requirement already satisfied: python-dateutil>=2.7.3 in /usr/local/lib/python3.6/dist-packages (from pandas>=0.19->PyPortfolioOpt) (2.8.1)\n",
            "Requirement already satisfied: dill>=0.3.3 in /usr/local/lib/python3.6/dist-packages (from multiprocess->cvxpy<2.0,>=1.0->PyPortfolioOpt) (0.3.3)\n",
            "Requirement already satisfied: future in /usr/local/lib/python3.6/dist-packages (from osqp>=0.4.1->cvxpy<2.0,>=1.0->PyPortfolioOpt) (0.16.0)\n",
            "Requirement already satisfied: six>=1.5 in /usr/local/lib/python3.6/dist-packages (from python-dateutil>=2.7.3->pandas>=0.19->PyPortfolioOpt) (1.15.0)\n"
          ],
          "name": "stdout"
        }
      ]
    },
    {
      "cell_type": "code",
      "metadata": {
        "id": "XuE_dvH_bxkj"
      },
      "source": [
        "from pypfopt.efficient_frontier import EfficientFrontier\n",
        "from pypfopt import risk_models\n",
        "from pypfopt import expected_returns"
      ],
      "execution_count": 31,
      "outputs": []
    },
    {
      "cell_type": "code",
      "metadata": {
        "colab": {
          "base_uri": "https://localhost:8080/"
        },
        "id": "uhzzFWEKcWeM",
        "outputId": "6ce2b6b9-1688-4b46-c9e0-0e8d4b9df15a"
      },
      "source": [
        "# Porfolio Optimization!\n",
        "\n",
        "# Calculated the expected returns and the annualised sampled covariance matrix of asset returns\n",
        "mu = expected_returns.mean_historical_return(df)\n",
        "S = risk_models.sample_cov(df) \n",
        "\n",
        "# optimize the max sharpe ratio \n",
        "ef = EfficientFrontier(mu, S)\n",
        "weights = ef.max_sharpe()\n",
        "cleaned_weights = ef.clean_weights()\n",
        "print(cleaned_weights)\n",
        "ef.portfolio_performance(verbose=True)"
      ],
      "execution_count": 32,
      "outputs": [
        {
          "output_type": "stream",
          "text": [
            "OrderedDict([('SBIN.NS', 0.23825), ('TATACHEM.NS', 0.22074), ('TATASTEEL.NS', 0.0), ('GAIL.NS', 0.0255), ('IOC.NS', 0.51552)])\n",
            "Expected annual return: 12.8%\n",
            "Annual volatility: 28.2%\n",
            "Sharpe Ratio: 0.38\n"
          ],
          "name": "stdout"
        },
        {
          "output_type": "execute_result",
          "data": {
            "text/plain": [
              "(0.1275513096839362, 0.2819219290098461, 0.3814932384354534)"
            ]
          },
          "metadata": {
            "tags": []
          },
          "execution_count": 32
        }
      ]
    },
    {
      "cell_type": "code",
      "metadata": {
        "colab": {
          "base_uri": "https://localhost:8080/"
        },
        "id": "ln5c0K_WeOz4",
        "outputId": "349b48cd-5816-408e-9241-9a30a11806be"
      },
      "source": [
        "# Ge the discrete allocation of each share per stock\n",
        "from pypfopt.discrete_allocation import DiscreteAllocation, get_latest_prices\n",
        "\n",
        "latest_prices = get_latest_prices(df)\n",
        "weights = cleaned_weights\n",
        "da = DiscreteAllocation(weights, latest_prices, total_portfolio_value=15000)\n",
        "\n",
        "allocation, leftover = da.lp_portfolio()\n",
        "print('Discrete allocation:', allocation)\n",
        "print('Funds remaining: $(:.2f)'.format(leftover))"
      ],
      "execution_count": 33,
      "outputs": [
        {
          "output_type": "stream",
          "text": [
            "Discrete allocation: {'SBIN.NS': 13, 'TATACHEM.NS': 7, 'GAIL.NS': 2, 'IOC.NS': 84}\n",
            "Funds remaining: $(:.2f)\n"
          ],
          "name": "stdout"
        }
      ]
    },
    {
      "cell_type": "code",
      "metadata": {
        "id": "_CGfMCcWgNQS"
      },
      "source": [
        ""
      ],
      "execution_count": null,
      "outputs": []
    }
  ]
}