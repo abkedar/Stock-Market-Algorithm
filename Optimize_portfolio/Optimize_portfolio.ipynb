{
 "cells": [
  {
   "cell_type": "code",
   "execution_count": 3,
   "metadata": {
    "id": "velOlZFWobJ3"
   },
   "outputs": [],
   "source": [
    "# Describe : This program attempts to optimize a user portfolio using the Efficient Frontier.\n"
   ]
  },
  {
   "cell_type": "code",
   "execution_count": 9,
   "metadata": {
    "id": "GQ7faOLnoyMl"
   },
   "outputs": [],
   "source": [
    "# Import the python Libraries\n",
    "from pandas_datareader import data as web\n",
    "import pandas as pd\n",
    "from datetime import datetime\n",
    "import numpy as np\n",
    "import matplotlib.pyplot as plt\n",
    "plt.style.use('fivethirtyeight')"
   ]
  },
  {
   "cell_type": "code",
   "execution_count": 5,
   "metadata": {
    "id": "PA9nujWCpN9v"
   },
   "outputs": [],
   "source": [
    "# Get the stock symbols tickers in the portfolio\n",
    "# FAANG\n",
    "assets = ['FB', 'AMZN', 'AAPL', 'NFLX', 'GOOG']"
   ]
  },
  {
   "cell_type": "code",
   "execution_count": 6,
   "metadata": {
    "id": "ffTeVHJUKvYs"
   },
   "outputs": [],
   "source": [
    "# Assign weights to the stock.\n",
    "weights = np.array([0.2, 0.2, 0.2, 0.2, 0.2])"
   ]
  },
  {
   "cell_type": "code",
   "execution_count": 10,
   "metadata": {
    "colab": {
     "base_uri": "https://localhost:8080/",
     "height": 35
    },
    "id": "__ojUjrlLL2R",
    "outputId": "3db7b11b-a6fb-4471-952c-3c08e5a082f2"
   },
   "outputs": [
    {
     "data": {
      "application/vnd.google.colaboratory.intrinsic+json": {
       "type": "string"
      },
      "text/plain": [
       "'2020-10-04'"
      ]
     },
     "execution_count": 10,
     "metadata": {
      "tags": []
     },
     "output_type": "execute_result"
    }
   ],
   "source": [
    "# Get the Stock/Portfolio starting date\n",
    "stockStarDate = '2010-01-01'\n",
    "\n",
    "# Get the Stock/Portfolio Ending date\n",
    "today = datetime.today().strftime('%Y-%m-%d')\n",
    "today"
   ]
  },
  {
   "cell_type": "code",
   "execution_count": 13,
   "metadata": {
    "id": "Cmtd5ycdLiER"
   },
   "outputs": [],
   "source": [
    "# Create the Dataframe to storethe adjusted close proce of the stock\n",
    "df = pd.DataFrame()\n",
    "\n",
    "# Store the adjusted close price of the stock into the df\n",
    "for stock in assets:\n",
    "  df[stock] = web.DataReader(stock, data_source='yahoo', start = stockStarDate, end = today)['Adj Close']\n"
   ]
  },
  {
   "cell_type": "code",
   "execution_count": 14,
   "metadata": {
    "colab": {
     "base_uri": "https://localhost:8080/",
     "height": 402
    },
    "id": "vCLvDg4KRYad",
    "outputId": "224944b7-af18-460a-a692-f2aba6b96e8a"
   },
   "outputs": [
    {
     "data": {
      "text/html": [
       "<div>\n",
       "<style scoped>\n",
       "    .dataframe tbody tr th:only-of-type {\n",
       "        vertical-align: middle;\n",
       "    }\n",
       "\n",
       "    .dataframe tbody tr th {\n",
       "        vertical-align: top;\n",
       "    }\n",
       "\n",
       "    .dataframe thead th {\n",
       "        text-align: right;\n",
       "    }\n",
       "</style>\n",
       "<table border=\"1\" class=\"dataframe\">\n",
       "  <thead>\n",
       "    <tr style=\"text-align: right;\">\n",
       "      <th></th>\n",
       "      <th>FB</th>\n",
       "      <th>AMZN</th>\n",
       "      <th>AAPL</th>\n",
       "      <th>NFLX</th>\n",
       "      <th>GOOG</th>\n",
       "    </tr>\n",
       "  </thead>\n",
       "  <tbody>\n",
       "    <tr>\n",
       "      <th>2012-05-18</th>\n",
       "      <td>38.230000</td>\n",
       "      <td>213.850006</td>\n",
       "      <td>16.368652</td>\n",
       "      <td>9.994286</td>\n",
       "      <td>299.078979</td>\n",
       "    </tr>\n",
       "    <tr>\n",
       "      <th>2012-05-21</th>\n",
       "      <td>34.029999</td>\n",
       "      <td>218.110001</td>\n",
       "      <td>17.322281</td>\n",
       "      <td>10.248571</td>\n",
       "      <td>305.908386</td>\n",
       "    </tr>\n",
       "    <tr>\n",
       "      <th>2012-05-22</th>\n",
       "      <td>31.000000</td>\n",
       "      <td>215.330002</td>\n",
       "      <td>17.189274</td>\n",
       "      <td>9.672857</td>\n",
       "      <td>299.278229</td>\n",
       "    </tr>\n",
       "    <tr>\n",
       "      <th>2012-05-23</th>\n",
       "      <td>32.000000</td>\n",
       "      <td>217.279999</td>\n",
       "      <td>17.608683</td>\n",
       "      <td>10.272857</td>\n",
       "      <td>303.592072</td>\n",
       "    </tr>\n",
       "    <tr>\n",
       "      <th>2012-05-24</th>\n",
       "      <td>33.029999</td>\n",
       "      <td>215.240005</td>\n",
       "      <td>17.446974</td>\n",
       "      <td>10.038571</td>\n",
       "      <td>300.702881</td>\n",
       "    </tr>\n",
       "    <tr>\n",
       "      <th>...</th>\n",
       "      <td>...</td>\n",
       "      <td>...</td>\n",
       "      <td>...</td>\n",
       "      <td>...</td>\n",
       "      <td>...</td>\n",
       "    </tr>\n",
       "    <tr>\n",
       "      <th>2020-09-28</th>\n",
       "      <td>256.820007</td>\n",
       "      <td>3174.050049</td>\n",
       "      <td>114.959999</td>\n",
       "      <td>490.649994</td>\n",
       "      <td>1464.520020</td>\n",
       "    </tr>\n",
       "    <tr>\n",
       "      <th>2020-09-29</th>\n",
       "      <td>261.790009</td>\n",
       "      <td>3144.879883</td>\n",
       "      <td>114.089996</td>\n",
       "      <td>493.480011</td>\n",
       "      <td>1469.329956</td>\n",
       "    </tr>\n",
       "    <tr>\n",
       "      <th>2020-09-30</th>\n",
       "      <td>261.899994</td>\n",
       "      <td>3148.729980</td>\n",
       "      <td>115.809998</td>\n",
       "      <td>500.029999</td>\n",
       "      <td>1469.599976</td>\n",
       "    </tr>\n",
       "    <tr>\n",
       "      <th>2020-10-01</th>\n",
       "      <td>266.630005</td>\n",
       "      <td>3221.260010</td>\n",
       "      <td>116.790001</td>\n",
       "      <td>527.510010</td>\n",
       "      <td>1490.089966</td>\n",
       "    </tr>\n",
       "    <tr>\n",
       "      <th>2020-10-02</th>\n",
       "      <td>259.940002</td>\n",
       "      <td>3125.000000</td>\n",
       "      <td>113.019997</td>\n",
       "      <td>503.059998</td>\n",
       "      <td>1458.420044</td>\n",
       "    </tr>\n",
       "  </tbody>\n",
       "</table>\n",
       "<p>2108 rows × 5 columns</p>\n",
       "</div>"
      ],
      "text/plain": [
       "                    FB         AMZN        AAPL        NFLX         GOOG\n",
       "2012-05-18   38.230000   213.850006   16.368652    9.994286   299.078979\n",
       "2012-05-21   34.029999   218.110001   17.322281   10.248571   305.908386\n",
       "2012-05-22   31.000000   215.330002   17.189274    9.672857   299.278229\n",
       "2012-05-23   32.000000   217.279999   17.608683   10.272857   303.592072\n",
       "2012-05-24   33.029999   215.240005   17.446974   10.038571   300.702881\n",
       "...                ...          ...         ...         ...          ...\n",
       "2020-09-28  256.820007  3174.050049  114.959999  490.649994  1464.520020\n",
       "2020-09-29  261.790009  3144.879883  114.089996  493.480011  1469.329956\n",
       "2020-09-30  261.899994  3148.729980  115.809998  500.029999  1469.599976\n",
       "2020-10-01  266.630005  3221.260010  116.790001  527.510010  1490.089966\n",
       "2020-10-02  259.940002  3125.000000  113.019997  503.059998  1458.420044\n",
       "\n",
       "[2108 rows x 5 columns]"
      ]
     },
     "execution_count": 14,
     "metadata": {
      "tags": []
     },
     "output_type": "execute_result"
    }
   ],
   "source": [
    "# Show the data Frame\n",
    "df"
   ]
  },
  {
   "cell_type": "code",
   "execution_count": 23,
   "metadata": {
    "colab": {
     "base_uri": "https://localhost:8080/",
     "height": 325
    },
    "id": "2y-FCUNqRe9u",
    "outputId": "24723704-2458-4390-91af-7844a20cf72d"
   },
   "outputs": [
    {
     "data": {
      "image/png": "[encoded data removed]",
      "text/plain": [
       "<Figure size 432x288 with 1 Axes>"
      ]
     },
     "metadata": {
      "tags": []
     },
     "output_type": "display_data"
    }
   ],
   "source": [
    "# Visualize the Stock/Portfolio\n",
    "title = 'Porfolio Adj. Close Price History'\n",
    "\n",
    "# Get the stocks\n",
    "my_stock = df\n",
    "\n",
    "# Creat the plot and graph\n",
    "for c  in my_stock.columns.values:\n",
    "  plt.plot(my_stock[c], label = c)\n",
    "\n",
    "plt.title(title)\n",
    "plt.xlabel('Date', fontsize=18)\n",
    "plt.ylabel('Adj. Price USD($)', fontsize=18)\n",
    "plt.legend(my_stock.columns.values, loc='upper left')\n",
    "plt.show()"
   ]
  },
  {
   "cell_type": "code",
   "execution_count": 25,
   "metadata": {
    "colab": {
     "base_uri": "https://localhost:8080/",
     "height": 402
    },
    "id": "E_MRVMRPUAD2",
    "outputId": "642ebe40-b295-4faa-c6fa-cac9621b85fe"
   },
   "outputs": [
    {
     "data": {
      "text/html": [
       "<div>\n",
       "<style scoped>\n",
       "    .dataframe tbody tr th:only-of-type {\n",
       "        vertical-align: middle;\n",
       "    }\n",
       "\n",
       "    .dataframe tbody tr th {\n",
       "        vertical-align: top;\n",
       "    }\n",
       "\n",
       "    .dataframe thead th {\n",
       "        text-align: right;\n",
       "    }\n",
       "</style>\n",
       "<table border=\"1\" class=\"dataframe\">\n",
       "  <thead>\n",
       "    <tr style=\"text-align: right;\">\n",
       "      <th></th>\n",
       "      <th>FB</th>\n",
       "      <th>AMZN</th>\n",
       "      <th>AAPL</th>\n",
       "      <th>NFLX</th>\n",
       "      <th>GOOG</th>\n",
       "    </tr>\n",
       "  </thead>\n",
       "  <tbody>\n",
       "    <tr>\n",
       "      <th>2012-05-18</th>\n",
       "      <td>NaN</td>\n",
       "      <td>NaN</td>\n",
       "      <td>NaN</td>\n",
       "      <td>NaN</td>\n",
       "      <td>NaN</td>\n",
       "    </tr>\n",
       "    <tr>\n",
       "      <th>2012-05-21</th>\n",
       "      <td>-0.109861</td>\n",
       "      <td>0.019920</td>\n",
       "      <td>0.058259</td>\n",
       "      <td>0.025443</td>\n",
       "      <td>0.022835</td>\n",
       "    </tr>\n",
       "    <tr>\n",
       "      <th>2012-05-22</th>\n",
       "      <td>-0.089039</td>\n",
       "      <td>-0.012746</td>\n",
       "      <td>-0.007678</td>\n",
       "      <td>-0.056175</td>\n",
       "      <td>-0.021674</td>\n",
       "    </tr>\n",
       "    <tr>\n",
       "      <th>2012-05-23</th>\n",
       "      <td>0.032258</td>\n",
       "      <td>0.009056</td>\n",
       "      <td>0.024399</td>\n",
       "      <td>0.062029</td>\n",
       "      <td>0.014414</td>\n",
       "    </tr>\n",
       "    <tr>\n",
       "      <th>2012-05-24</th>\n",
       "      <td>0.032187</td>\n",
       "      <td>-0.009389</td>\n",
       "      <td>-0.009183</td>\n",
       "      <td>-0.022806</td>\n",
       "      <td>-0.009517</td>\n",
       "    </tr>\n",
       "    <tr>\n",
       "      <th>...</th>\n",
       "      <td>...</td>\n",
       "      <td>...</td>\n",
       "      <td>...</td>\n",
       "      <td>...</td>\n",
       "      <td>...</td>\n",
       "    </tr>\n",
       "    <tr>\n",
       "      <th>2020-09-28</th>\n",
       "      <td>0.007849</td>\n",
       "      <td>0.025498</td>\n",
       "      <td>0.023869</td>\n",
       "      <td>0.016091</td>\n",
       "      <td>0.013537</td>\n",
       "    </tr>\n",
       "    <tr>\n",
       "      <th>2020-09-29</th>\n",
       "      <td>0.019352</td>\n",
       "      <td>-0.009190</td>\n",
       "      <td>-0.007568</td>\n",
       "      <td>0.005768</td>\n",
       "      <td>0.003284</td>\n",
       "    </tr>\n",
       "    <tr>\n",
       "      <th>2020-09-30</th>\n",
       "      <td>0.000420</td>\n",
       "      <td>0.001224</td>\n",
       "      <td>0.015076</td>\n",
       "      <td>0.013273</td>\n",
       "      <td>0.000184</td>\n",
       "    </tr>\n",
       "    <tr>\n",
       "      <th>2020-10-01</th>\n",
       "      <td>0.018060</td>\n",
       "      <td>0.023035</td>\n",
       "      <td>0.008462</td>\n",
       "      <td>0.054957</td>\n",
       "      <td>0.013943</td>\n",
       "    </tr>\n",
       "    <tr>\n",
       "      <th>2020-10-02</th>\n",
       "      <td>-0.025091</td>\n",
       "      <td>-0.029883</td>\n",
       "      <td>-0.032280</td>\n",
       "      <td>-0.046350</td>\n",
       "      <td>-0.021254</td>\n",
       "    </tr>\n",
       "  </tbody>\n",
       "</table>\n",
       "<p>2108 rows × 5 columns</p>\n",
       "</div>"
      ],
      "text/plain": [
       "                  FB      AMZN      AAPL      NFLX      GOOG\n",
       "2012-05-18       NaN       NaN       NaN       NaN       NaN\n",
       "2012-05-21 -0.109861  0.019920  0.058259  0.025443  0.022835\n",
       "2012-05-22 -0.089039 -0.012746 -0.007678 -0.056175 -0.021674\n",
       "2012-05-23  0.032258  0.009056  0.024399  0.062029  0.014414\n",
       "2012-05-24  0.032187 -0.009389 -0.009183 -0.022806 -0.009517\n",
       "...              ...       ...       ...       ...       ...\n",
       "2020-09-28  0.007849  0.025498  0.023869  0.016091  0.013537\n",
       "2020-09-29  0.019352 -0.009190 -0.007568  0.005768  0.003284\n",
       "2020-09-30  0.000420  0.001224  0.015076  0.013273  0.000184\n",
       "2020-10-01  0.018060  0.023035  0.008462  0.054957  0.013943\n",
       "2020-10-02 -0.025091 -0.029883 -0.032280 -0.046350 -0.021254\n",
       "\n",
       "[2108 rows x 5 columns]"
      ]
     },
     "execution_count": 25,
     "metadata": {
      "tags": []
     },
     "output_type": "execute_result"
    }
   ],
   "source": [
    "# Show the daily simple learn\n",
    "returns = df.pct_change()\n",
    "returns"
   ]
  },
  {
   "cell_type": "code",
   "execution_count": 28,
   "metadata": {
    "colab": {
     "base_uri": "https://localhost:8080/",
     "height": 195
    },
    "id": "C4_efA5vU6h7",
    "outputId": "7c0db758-2216-4a9f-91a6-ebffb9c8690f"
   },
   "outputs": [
    {
     "data": {
      "text/html": [
       "<div>\n",
       "<style scoped>\n",
       "    .dataframe tbody tr th:only-of-type {\n",
       "        vertical-align: middle;\n",
       "    }\n",
       "\n",
       "    .dataframe tbody tr th {\n",
       "        vertical-align: top;\n",
       "    }\n",
       "\n",
       "    .dataframe thead th {\n",
       "        text-align: right;\n",
       "    }\n",
       "</style>\n",
       "<table border=\"1\" class=\"dataframe\">\n",
       "  <thead>\n",
       "    <tr style=\"text-align: right;\">\n",
       "      <th></th>\n",
       "      <th>FB</th>\n",
       "      <th>AMZN</th>\n",
       "      <th>AAPL</th>\n",
       "      <th>NFLX</th>\n",
       "      <th>GOOG</th>\n",
       "    </tr>\n",
       "  </thead>\n",
       "  <tbody>\n",
       "    <tr>\n",
       "      <th>FB</th>\n",
       "      <td>0.139965</td>\n",
       "      <td>0.050046</td>\n",
       "      <td>0.040784</td>\n",
       "      <td>0.051045</td>\n",
       "      <td>0.046427</td>\n",
       "    </tr>\n",
       "    <tr>\n",
       "      <th>AMZN</th>\n",
       "      <td>0.050046</td>\n",
       "      <td>0.091919</td>\n",
       "      <td>0.037806</td>\n",
       "      <td>0.062686</td>\n",
       "      <td>0.046382</td>\n",
       "    </tr>\n",
       "    <tr>\n",
       "      <th>AAPL</th>\n",
       "      <td>0.040784</td>\n",
       "      <td>0.037806</td>\n",
       "      <td>0.080880</td>\n",
       "      <td>0.034633</td>\n",
       "      <td>0.037480</td>\n",
       "    </tr>\n",
       "    <tr>\n",
       "      <th>NFLX</th>\n",
       "      <td>0.051045</td>\n",
       "      <td>0.062686</td>\n",
       "      <td>0.034633</td>\n",
       "      <td>0.230900</td>\n",
       "      <td>0.048744</td>\n",
       "    </tr>\n",
       "    <tr>\n",
       "      <th>GOOG</th>\n",
       "      <td>0.046427</td>\n",
       "      <td>0.046382</td>\n",
       "      <td>0.037480</td>\n",
       "      <td>0.048744</td>\n",
       "      <td>0.064228</td>\n",
       "    </tr>\n",
       "  </tbody>\n",
       "</table>\n",
       "</div>"
      ],
      "text/plain": [
       "            FB      AMZN      AAPL      NFLX      GOOG\n",
       "FB    0.139965  0.050046  0.040784  0.051045  0.046427\n",
       "AMZN  0.050046  0.091919  0.037806  0.062686  0.046382\n",
       "AAPL  0.040784  0.037806  0.080880  0.034633  0.037480\n",
       "NFLX  0.051045  0.062686  0.034633  0.230900  0.048744\n",
       "GOOG  0.046427  0.046382  0.037480  0.048744  0.064228"
      ]
     },
     "execution_count": 28,
     "metadata": {
      "tags": []
     },
     "output_type": "execute_result"
    }
   ],
   "source": [
    "# Create and show the annualized covariance matrix\n",
    "cov_matrix_annual = returns.cov() * 252\n",
    "cov_matrix_annual"
   ]
  },
  {
   "cell_type": "code",
   "execution_count": 32,
   "metadata": {
    "colab": {
     "base_uri": "https://localhost:8080/",
     "height": 34
    },
    "id": "MW3wmoepXQEZ",
    "outputId": "ec94769f-13ae-4bf1-fbe3-b146f5a3ca75"
   },
   "outputs": [
    {
     "data": {
      "text/plain": [
       "0.060798365778907584"
      ]
     },
     "execution_count": 32,
     "metadata": {
      "tags": []
     },
     "output_type": "execute_result"
    }
   ],
   "source": [
    "# Calculate the porfolio variance\n",
    "port_variance = np.dot(weights.T, np.dot(cov_matrix_annual, weights))\n",
    "port_variance"
   ]
  },
  {
   "cell_type": "code",
   "execution_count": 34,
   "metadata": {
    "colab": {
     "base_uri": "https://localhost:8080/",
     "height": 34
    },
    "id": "jdPWXt_mXxRE",
    "outputId": "272d77dc-a170-4f9a-e5db-9720ca9770b7"
   },
   "outputs": [
    {
     "data": {
      "text/plain": [
       "0.24657324627564034"
      ]
     },
     "execution_count": 34,
     "metadata": {
      "tags": []
     },
     "output_type": "execute_result"
    }
   ],
   "source": [
    "# calculat the portfolio volatility aka standar deviation\n",
    "port_volatility = np.sqrt(port_variance)\n",
    "port_volatility"
   ]
  },
  {
   "cell_type": "code",
   "execution_count": 35,
   "metadata": {
    "colab": {
     "base_uri": "https://localhost:8080/",
     "height": 34
    },
    "id": "VelONe7xZJCY",
    "outputId": "5d09e692-de55-4d16-9cfc-1771a1b54c8c"
   },
   "outputs": [
    {
     "data": {
      "text/plain": [
       "0.34798592821030333"
      ]
     },
     "execution_count": 35,
     "metadata": {
      "tags": []
     },
     "output_type": "execute_result"
    }
   ],
   "source": [
    "# Calculate the annual portfolio return \n",
    "portfolioSimpleAnnualRturn = np.sum(returns.mean() * weights) * 252\n",
    "portfolioSimpleAnnualRturn"
   ]
  },
  {
   "cell_type": "code",
   "execution_count": 37,
   "metadata": {
    "colab": {
     "base_uri": "https://localhost:8080/",
     "height": 67
    },
    "id": "2p73q_lqZl24",
    "outputId": "a06df0e2-101c-437d-8ee2-d03f30120370"
   },
   "outputs": [
    {
     "name": "stdout",
     "output_type": "stream",
     "text": [
      "Expected annual Return:35.0%\n",
      "Annual volatility / Risk:25.0%\n",
      "Annual variance: 6.0%\n"
     ]
    }
   ],
   "source": [
    "# Show the expected annual return, volatility and variance\n",
    "percent_var = str(round(port_variance, 2) * 100) + '%'\n",
    "percent_vols = str(round(port_volatility, 2) * 100) + '%'\n",
    "percent_rets = str(round(portfolioSimpleAnnualRturn, 2) * 100) + '%'\n",
    "\n",
    "print('Expected annual Return:' + percent_rets)\n",
    "print('Annual volatility / Risk:' + percent_vols)\n",
    "print('Annual variance: ' + percent_var)"
   ]
  },
  {
   "cell_type": "code",
   "execution_count": 39,
   "metadata": {
    "colab": {
     "base_uri": "https://localhost:8080/",
     "height": 336
    },
    "id": "iWzWG_1PbgVF",
    "outputId": "137908b1-dee1-4b9a-e857-feaeac501593"
   },
   "outputs": [
    {
     "name": "stdout",
     "output_type": "stream",
     "text": [
      "Collecting PyPortfolioOpt\n",
      "\u001b[?25l  Downloading https://files.pythonhosted.org/packages/dc/68/97f33cb76fc8a857a4d59cbb8e636c0a9c09afa09ccbfdcf70d2f15fc811/PyPortfolioOpt-1.2.6-py3-none-any.whl (48kB)\n",
      "\r",
      "\u001b[K     |██████▊                         | 10kB 7.8MB/s eta 0:00:01\r",
      "\u001b[K     |█████████████▍                  | 20kB 1.7MB/s eta 0:00:01\r",
      "\u001b[K     |████████████████████▏           | 30kB 2.2MB/s eta 0:00:01\r",
      "\u001b[K     |██████████████████████████▉     | 40kB 2.4MB/s eta 0:00:01\r",
      "\u001b[K     |████████████████████████████████| 51kB 1.6MB/s \n",
      "\u001b[?25hRequirement already satisfied: scipy<2.0,>=1.3 in /usr/local/lib/python3.6/dist-packages (from PyPortfolioOpt) (1.4.1)\n",
      "Requirement already satisfied: numpy<2.0,>=1.12 in /usr/local/lib/python3.6/dist-packages (from PyPortfolioOpt) (1.18.5)\n",
      "Requirement already satisfied: pandas>=0.19 in /usr/local/lib/python3.6/dist-packages (from PyPortfolioOpt) (1.1.2)\n",
      "Requirement already satisfied: cvxopt<2.0,>=1.2 in /usr/local/lib/python3.6/dist-packages (from PyPortfolioOpt) (1.2.5)\n",
      "Requirement already satisfied: cvxpy<2.0,>=1.0 in /usr/local/lib/python3.6/dist-packages (from PyPortfolioOpt) (1.0.31)\n",
      "Requirement already satisfied: python-dateutil>=2.7.3 in /usr/local/lib/python3.6/dist-packages (from pandas>=0.19->PyPortfolioOpt) (2.8.1)\n",
      "Requirement already satisfied: pytz>=2017.2 in /usr/local/lib/python3.6/dist-packages (from pandas>=0.19->PyPortfolioOpt) (2018.9)\n",
      "Requirement already satisfied: multiprocess in /usr/local/lib/python3.6/dist-packages (from cvxpy<2.0,>=1.0->PyPortfolioOpt) (0.70.10)\n",
      "Requirement already satisfied: osqp>=0.4.1 in /usr/local/lib/python3.6/dist-packages (from cvxpy<2.0,>=1.0->PyPortfolioOpt) (0.6.1)\n",
      "Requirement already satisfied: scs>=1.1.3 in /usr/local/lib/python3.6/dist-packages (from cvxpy<2.0,>=1.0->PyPortfolioOpt) (2.1.2)\n",
      "Requirement already satisfied: ecos>=2 in /usr/local/lib/python3.6/dist-packages (from cvxpy<2.0,>=1.0->PyPortfolioOpt) (2.0.7.post1)\n",
      "Requirement already satisfied: six>=1.5 in /usr/local/lib/python3.6/dist-packages (from python-dateutil>=2.7.3->pandas>=0.19->PyPortfolioOpt) (1.15.0)\n",
      "Requirement already satisfied: dill>=0.3.2 in /usr/local/lib/python3.6/dist-packages (from multiprocess->cvxpy<2.0,>=1.0->PyPortfolioOpt) (0.3.2)\n",
      "Requirement already satisfied: future in /usr/local/lib/python3.6/dist-packages (from osqp>=0.4.1->cvxpy<2.0,>=1.0->PyPortfolioOpt) (0.16.0)\n",
      "Installing collected packages: PyPortfolioOpt\n",
      "Successfully installed PyPortfolioOpt-1.2.6\n"
     ]
    }
   ],
   "source": [
    "!pip install PyPortfolioOpt"
   ]
  },
  {
   "cell_type": "code",
   "execution_count": 41,
   "metadata": {
    "id": "XuE_dvH_bxkj"
   },
   "outputs": [],
   "source": [
    "from pypfopt.efficient_frontier import EfficientFrontier\n",
    "from pypfopt import risk_models\n",
    "from pypfopt import expected_returns"
   ]
  },
  {
   "cell_type": "code",
   "execution_count": 44,
   "metadata": {
    "colab": {
     "base_uri": "https://localhost:8080/",
     "height": 101
    },
    "id": "uhzzFWEKcWeM",
    "outputId": "be4adfd9-9fc1-4f8d-d3be-90f74a38683d"
   },
   "outputs": [
    {
     "name": "stdout",
     "output_type": "stream",
     "text": [
      "OrderedDict([('FB', 0.0), ('AMZN', 0.43529), ('AAPL', 0.23064), ('NFLX', 0.33407), ('GOOG', 0.0)])\n",
      "Expected annual return: 42.4%\n",
      "Annual volatility: 28.0%\n",
      "Sharpe Ratio: 1.44\n"
     ]
    },
    {
     "data": {
      "text/plain": [
       "(0.42431149783202393, 0.2804405980871631, 1.4417010254212936)"
      ]
     },
     "execution_count": 44,
     "metadata": {
      "tags": []
     },
     "output_type": "execute_result"
    }
   ],
   "source": [
    "# Porfolio Optimization!\n",
    "\n",
    "# Calculated the expected returns and the annualised sampled covariance matrix of asset returns\n",
    "mu = expected_returns.mean_historical_return(df)\n",
    "S = risk_models.sample_cov(df) \n",
    "\n",
    "# optimize the max sharpe ratio \n",
    "ef = EfficientFrontier(mu, S)\n",
    "weights = ef.max_sharpe()\n",
    "cleaned_weights = ef.clean_weights()\n",
    "print(cleaned_weights)\n",
    "ef.portfolio_performance(verbose=True)"
   ]
  },
  {
   "cell_type": "code",
   "execution_count": 46,
   "metadata": {
    "colab": {
     "base_uri": "https://localhost:8080/",
     "height": 50
    },
    "id": "ln5c0K_WeOz4",
    "outputId": "2aa2afa0-5a66-435d-c029-a252519bf5c8"
   },
   "outputs": [
    {
     "name": "stdout",
     "output_type": "stream",
     "text": [
      "Discrete allocation: {'AMZN': 2, 'AAPL': 31, 'NFLX': 10}\n",
      "Funds remaining: $(:.2f)\n"
     ]
    }
   ],
   "source": [
    "# Ge the discrete allocation of each share per stock\n",
    "from pypfopt.discrete_allocation import DiscreteAllocation, get_latest_prices\n",
    "\n",
    "latest_prices = get_latest_prices(df)\n",
    "weights = cleaned_weights\n",
    "da = DiscreteAllocation(weights, latest_prices, total_portfolio_value=15000)\n",
    "\n",
    "allocation, leftover = da.lp_portfolio()\n",
    "print('Discrete allocation:', allocation)\n",
    "print('Funds remaining: $(:.2f)'.format(leftover))"
   ]
  },
  {
   "cell_type": "code",
   "execution_count": null,
   "metadata": {
    "id": "_CGfMCcWgNQS"
   },
   "outputs": [],
   "source": []
  }
 ],
 "metadata": {
  "colab": {
   "name": "Untitled19.ipynb",
   "provenance": []
  },
  "kernelspec": {
   "display_name": "Python 3",
   "language": "python",
   "name": "python3"
  },
  "language_info": {
   "codemirror_mode": {
    "name": "ipython",
    "version": 3
   },
   "file_extension": ".py",
   "mimetype": "text/x-python",
   "name": "python",
   "nbconvert_exporter": "python",
   "pygments_lexer": "ipython3",
   "version": "3.7.6"
  }
 },
 "nbformat": 4,
 "nbformat_minor": 1
}
