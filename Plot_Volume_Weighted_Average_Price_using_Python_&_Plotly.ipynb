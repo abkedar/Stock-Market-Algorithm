{
  "nbformat": 4,
  "nbformat_minor": 0,
  "metadata": {
    "colab": {
      "name": "Plot_Volume_Weighted_Average_Price_using_Python_&_Plotly",
      "provenance": []
    },
    "kernelspec": {
      "name": "python3",
      "display_name": "Python 3"
    }
  },
  "cells": [
    {
      "cell_type": "code",
      "metadata": {
        "id": "GOrhFOD2l7Dz"
      },
      "source": [
        "# Discription : Stock Market Analysis and Create graph of Stock Market using VWAP."
      ],
      "execution_count": 2,
      "outputs": []
    },
    {
      "cell_type": "code",
      "metadata": {
        "colab": {
          "base_uri": "https://localhost:8080/"
        },
        "id": "OYvANfb5SIfC",
        "outputId": "a94f835b-73ac-4adb-e85b-89040bfa8c1d"
      },
      "source": [
        "!pip install yfinance"
      ],
      "execution_count": 12,
      "outputs": [
        {
          "output_type": "stream",
          "text": [
            "Collecting yfinance\n",
            "  Downloading https://files.pythonhosted.org/packages/7a/e8/b9d7104d3a4bf39924799067592d9e59119fcfc900a425a12e80a3123ec8/yfinance-0.1.55.tar.gz\n",
            "Requirement already satisfied: pandas>=0.24 in /usr/local/lib/python3.6/dist-packages (from yfinance) (1.1.4)\n",
            "Requirement already satisfied: numpy>=1.15 in /usr/local/lib/python3.6/dist-packages (from yfinance) (1.18.5)\n",
            "Requirement already satisfied: requests>=2.20 in /usr/local/lib/python3.6/dist-packages (from yfinance) (2.23.0)\n",
            "Requirement already satisfied: multitasking>=0.0.7 in /usr/local/lib/python3.6/dist-packages (from yfinance) (0.0.9)\n",
            "Collecting lxml>=4.5.1\n",
            "\u001b[?25l  Downloading https://files.pythonhosted.org/packages/bd/78/56a7c88a57d0d14945472535d0df9fb4bbad7d34ede658ec7961635c790e/lxml-4.6.2-cp36-cp36m-manylinux1_x86_64.whl (5.5MB)\n",
            "\u001b[K     |████████████████████████████████| 5.5MB 11.2MB/s \n",
            "\u001b[?25hRequirement already satisfied: pytz>=2017.2 in /usr/local/lib/python3.6/dist-packages (from pandas>=0.24->yfinance) (2018.9)\n",
            "Requirement already satisfied: python-dateutil>=2.7.3 in /usr/local/lib/python3.6/dist-packages (from pandas>=0.24->yfinance) (2.8.1)\n",
            "Requirement already satisfied: chardet<4,>=3.0.2 in /usr/local/lib/python3.6/dist-packages (from requests>=2.20->yfinance) (3.0.4)\n",
            "Requirement already satisfied: certifi>=2017.4.17 in /usr/local/lib/python3.6/dist-packages (from requests>=2.20->yfinance) (2020.11.8)\n",
            "Requirement already satisfied: urllib3!=1.25.0,!=1.25.1,<1.26,>=1.21.1 in /usr/local/lib/python3.6/dist-packages (from requests>=2.20->yfinance) (1.24.3)\n",
            "Requirement already satisfied: idna<3,>=2.5 in /usr/local/lib/python3.6/dist-packages (from requests>=2.20->yfinance) (2.10)\n",
            "Requirement already satisfied: six>=1.5 in /usr/local/lib/python3.6/dist-packages (from python-dateutil>=2.7.3->pandas>=0.24->yfinance) (1.15.0)\n",
            "Building wheels for collected packages: yfinance\n",
            "  Building wheel for yfinance (setup.py) ... \u001b[?25l\u001b[?25hdone\n",
            "  Created wheel for yfinance: filename=yfinance-0.1.55-py2.py3-none-any.whl size=22618 sha256=b043a66a9a14e17bb9e1593d4e84dc0093faa5d23c99821826731fb6316a6e2a\n",
            "  Stored in directory: /root/.cache/pip/wheels/04/98/cc/2702a4242d60bdc14f48b4557c427ded1fe92aedf257d4565c\n",
            "Successfully built yfinance\n",
            "Installing collected packages: lxml, yfinance\n",
            "  Found existing installation: lxml 4.2.6\n",
            "    Uninstalling lxml-4.2.6:\n",
            "      Successfully uninstalled lxml-4.2.6\n",
            "Successfully installed lxml-4.6.2 yfinance-0.1.55\n"
          ],
          "name": "stdout"
        }
      ]
    },
    {
      "cell_type": "code",
      "metadata": {
        "id": "WVNUGdb8m7Ty"
      },
      "source": [
        "import pandas as pd\n",
        "import numpy as np\n",
        "import pandas_datareader as web\n",
        "import matplotlib.pyplot as plt\n",
        "\n",
        "plt.style.use('fivethirtyeight')\n",
        "\n",
        "import plotly.graph_objects as go"
      ],
      "execution_count": 7,
      "outputs": []
    },
    {
      "cell_type": "code",
      "metadata": {
        "id": "o5LzLwbtpbs2"
      },
      "source": [
        "# Get the Stock Symbol for the Portfolio \n",
        "# FAANG\n",
        "stockSymbols = ['SBIN.NS']\n",
        "\n",
        "# GET the stock starting date\n",
        "stockDate = '2019-01-01'\n",
        "\n",
        "stock_End_date = '2020-06-30'"
      ],
      "execution_count": 40,
      "outputs": []
    },
    {
      "cell_type": "code",
      "metadata": {
        "id": "MkrsuJZDpkRk"
      },
      "source": [
        "# Create a function to get the stock prices in the portfolio\n",
        "def getMyPortfolio(stocks = stockSymbols, start = stockDate, end=stock_End_date):\n",
        "  data = web.DataReader(stocks, data_source='yahoo', start=start, end=end, )\n",
        "  data.columns = ['AdjClose', 'Close', 'High', 'Low', 'Open', 'Volume']\n",
        "  return data"
      ],
      "execution_count": 41,
      "outputs": []
    },
    {
      "cell_type": "code",
      "metadata": {
        "colab": {
          "base_uri": "https://localhost:8080/",
          "height": 431
        },
        "id": "bFO4GtUSp4Xz",
        "outputId": "9a7c4ce6-e9af-40b2-9dcf-313e33043378"
      },
      "source": [
        "# Get the stock portfolio Adj. Close price\n",
        "my_stocks = getMyPortfolio(stockSymbols)\n",
        "my_stocks"
      ],
      "execution_count": 42,
      "outputs": [
        {
          "output_type": "execute_result",
          "data": {
            "text/html": [
              "<div>\n",
              "<style scoped>\n",
              "    .dataframe tbody tr th:only-of-type {\n",
              "        vertical-align: middle;\n",
              "    }\n",
              "\n",
              "    .dataframe tbody tr th {\n",
              "        vertical-align: top;\n",
              "    }\n",
              "\n",
              "    .dataframe thead th {\n",
              "        text-align: right;\n",
              "    }\n",
              "</style>\n",
              "<table border=\"1\" class=\"dataframe\">\n",
              "  <thead>\n",
              "    <tr style=\"text-align: right;\">\n",
              "      <th></th>\n",
              "      <th>AdjClose</th>\n",
              "      <th>Close</th>\n",
              "      <th>High</th>\n",
              "      <th>Low</th>\n",
              "      <th>Open</th>\n",
              "      <th>Volume</th>\n",
              "    </tr>\n",
              "    <tr>\n",
              "      <th>Date</th>\n",
              "      <th></th>\n",
              "      <th></th>\n",
              "      <th></th>\n",
              "      <th></th>\n",
              "      <th></th>\n",
              "      <th></th>\n",
              "    </tr>\n",
              "  </thead>\n",
              "  <tbody>\n",
              "    <tr>\n",
              "      <th>2019-01-01</th>\n",
              "      <td>299.600006</td>\n",
              "      <td>299.600006</td>\n",
              "      <td>300.700012</td>\n",
              "      <td>293.850006</td>\n",
              "      <td>297.500000</td>\n",
              "      <td>11837127.0</td>\n",
              "    </tr>\n",
              "    <tr>\n",
              "      <th>2019-01-02</th>\n",
              "      <td>293.899994</td>\n",
              "      <td>293.899994</td>\n",
              "      <td>302.500000</td>\n",
              "      <td>293.100006</td>\n",
              "      <td>299.100006</td>\n",
              "      <td>25559853.0</td>\n",
              "    </tr>\n",
              "    <tr>\n",
              "      <th>2019-01-03</th>\n",
              "      <td>291.100006</td>\n",
              "      <td>291.100006</td>\n",
              "      <td>295.549988</td>\n",
              "      <td>290.100006</td>\n",
              "      <td>295.000000</td>\n",
              "      <td>17548347.0</td>\n",
              "    </tr>\n",
              "    <tr>\n",
              "      <th>2019-01-04</th>\n",
              "      <td>297.649994</td>\n",
              "      <td>297.649994</td>\n",
              "      <td>299.000000</td>\n",
              "      <td>291.500000</td>\n",
              "      <td>292.100006</td>\n",
              "      <td>19514041.0</td>\n",
              "    </tr>\n",
              "    <tr>\n",
              "      <th>2019-01-07</th>\n",
              "      <td>296.299988</td>\n",
              "      <td>296.299988</td>\n",
              "      <td>301.500000</td>\n",
              "      <td>295.200012</td>\n",
              "      <td>301.049988</td>\n",
              "      <td>14579399.0</td>\n",
              "    </tr>\n",
              "    <tr>\n",
              "      <th>...</th>\n",
              "      <td>...</td>\n",
              "      <td>...</td>\n",
              "      <td>...</td>\n",
              "      <td>...</td>\n",
              "      <td>...</td>\n",
              "      <td>...</td>\n",
              "    </tr>\n",
              "    <tr>\n",
              "      <th>2020-06-25</th>\n",
              "      <td>185.250000</td>\n",
              "      <td>185.250000</td>\n",
              "      <td>186.800003</td>\n",
              "      <td>180.399994</td>\n",
              "      <td>182.199997</td>\n",
              "      <td>73620385.0</td>\n",
              "    </tr>\n",
              "    <tr>\n",
              "      <th>2020-06-26</th>\n",
              "      <td>184.600006</td>\n",
              "      <td>184.600006</td>\n",
              "      <td>188.600006</td>\n",
              "      <td>183.800003</td>\n",
              "      <td>188.000000</td>\n",
              "      <td>49176958.0</td>\n",
              "    </tr>\n",
              "    <tr>\n",
              "      <th>2020-06-29</th>\n",
              "      <td>179.250000</td>\n",
              "      <td>179.250000</td>\n",
              "      <td>183.100006</td>\n",
              "      <td>178.500000</td>\n",
              "      <td>183.000000</td>\n",
              "      <td>50966428.0</td>\n",
              "    </tr>\n",
              "    <tr>\n",
              "      <th>2020-06-30</th>\n",
              "      <td>178.449997</td>\n",
              "      <td>178.449997</td>\n",
              "      <td>182.899994</td>\n",
              "      <td>177.250000</td>\n",
              "      <td>181.100006</td>\n",
              "      <td>43613239.0</td>\n",
              "    </tr>\n",
              "    <tr>\n",
              "      <th>2020-07-01</th>\n",
              "      <td>184.800003</td>\n",
              "      <td>184.800003</td>\n",
              "      <td>185.399994</td>\n",
              "      <td>178.600006</td>\n",
              "      <td>179.449997</td>\n",
              "      <td>54012853.0</td>\n",
              "    </tr>\n",
              "  </tbody>\n",
              "</table>\n",
              "<p>365 rows × 6 columns</p>\n",
              "</div>"
            ],
            "text/plain": [
              "              AdjClose       Close  ...        Open      Volume\n",
              "Date                                ...                        \n",
              "2019-01-01  299.600006  299.600006  ...  297.500000  11837127.0\n",
              "2019-01-02  293.899994  293.899994  ...  299.100006  25559853.0\n",
              "2019-01-03  291.100006  291.100006  ...  295.000000  17548347.0\n",
              "2019-01-04  297.649994  297.649994  ...  292.100006  19514041.0\n",
              "2019-01-07  296.299988  296.299988  ...  301.049988  14579399.0\n",
              "...                ...         ...  ...         ...         ...\n",
              "2020-06-25  185.250000  185.250000  ...  182.199997  73620385.0\n",
              "2020-06-26  184.600006  184.600006  ...  188.000000  49176958.0\n",
              "2020-06-29  179.250000  179.250000  ...  183.000000  50966428.0\n",
              "2020-06-30  178.449997  178.449997  ...  181.100006  43613239.0\n",
              "2020-07-01  184.800003  184.800003  ...  179.449997  54012853.0\n",
              "\n",
              "[365 rows x 6 columns]"
            ]
          },
          "metadata": {
            "tags": []
          },
          "execution_count": 42
        }
      ]
    },
    {
      "cell_type": "code",
      "metadata": {
        "colab": {
          "base_uri": "https://localhost:8080/",
          "height": 242
        },
        "id": "7Sd9OYZXqbiQ",
        "outputId": "fc28546d-c84e-4045-860f-1071aff36754"
      },
      "source": [
        "import yfinance as yf\n",
        "\n",
        "data = yf.download(  # or pdr.get_data_yahoo(...\n",
        "        # tickers list or string as well\n",
        "        tickers = \"SBIN.NS\",\n",
        "\n",
        "        # use \"period\" instead of start/end\n",
        "        # valid periods: 1d,5d,1mo,3mo,6mo,1y,2y,5y,10y,ytd,max\n",
        "        # (optional, default is '1mo')\n",
        "        period = \"7d\",\n",
        "\n",
        "        # fetch data by interval (including intraday if period < 60 days)\n",
        "        # valid intervals: 1m,2m,5m,15m,30m,60m,90m,1h,1d,5d,1wk,1mo,3mo\n",
        "        # (optional, default is '1d')\n",
        "        interval = \"1m\",\n",
        "\n",
        "        # group by ticker (to access via data['SPY'])\n",
        "        # (optional, default is 'column')\n",
        "        group_by = 'ticker',\n",
        "\n",
        "        # adjust all OHLC automatically\n",
        "        # (optional, default is False)\n",
        "        auto_adjust = True,\n",
        "\n",
        "        # download pre/post regular market hours data\n",
        "        # (optional, default is False)\n",
        "        prepost = False,\n",
        "\n",
        "        # use threads for mass downloading? (True/False/Integer)\n",
        "        # (optional, default is True)\n",
        "        threads = True,\n",
        "\n",
        "        # proxy URL scheme use use when downloading?\n",
        "        # (optional, default is None)\n",
        "        proxy = None\n",
        "    )\n",
        "\n",
        "data.head()"
      ],
      "execution_count": 51,
      "outputs": [
        {
          "output_type": "stream",
          "text": [
            "\r[*********************100%***********************]  1 of 1 completed\n"
          ],
          "name": "stdout"
        },
        {
          "output_type": "execute_result",
          "data": {
            "text/html": [
              "<div>\n",
              "<style scoped>\n",
              "    .dataframe tbody tr th:only-of-type {\n",
              "        vertical-align: middle;\n",
              "    }\n",
              "\n",
              "    .dataframe tbody tr th {\n",
              "        vertical-align: top;\n",
              "    }\n",
              "\n",
              "    .dataframe thead th {\n",
              "        text-align: right;\n",
              "    }\n",
              "</style>\n",
              "<table border=\"1\" class=\"dataframe\">\n",
              "  <thead>\n",
              "    <tr style=\"text-align: right;\">\n",
              "      <th></th>\n",
              "      <th>Open</th>\n",
              "      <th>High</th>\n",
              "      <th>Low</th>\n",
              "      <th>Close</th>\n",
              "      <th>Volume</th>\n",
              "    </tr>\n",
              "    <tr>\n",
              "      <th>Datetime</th>\n",
              "      <th></th>\n",
              "      <th></th>\n",
              "      <th></th>\n",
              "      <th></th>\n",
              "      <th></th>\n",
              "    </tr>\n",
              "  </thead>\n",
              "  <tbody>\n",
              "    <tr>\n",
              "      <th>2020-11-19 09:15:00+05:30</th>\n",
              "      <td>247.899994</td>\n",
              "      <td>250.300003</td>\n",
              "      <td>247.199997</td>\n",
              "      <td>249.300003</td>\n",
              "      <td>0</td>\n",
              "    </tr>\n",
              "    <tr>\n",
              "      <th>2020-11-19 09:16:00+05:30</th>\n",
              "      <td>249.449997</td>\n",
              "      <td>249.449997</td>\n",
              "      <td>248.449997</td>\n",
              "      <td>248.600006</td>\n",
              "      <td>762932</td>\n",
              "    </tr>\n",
              "    <tr>\n",
              "      <th>2020-11-19 09:17:00+05:30</th>\n",
              "      <td>248.600006</td>\n",
              "      <td>248.949997</td>\n",
              "      <td>247.350006</td>\n",
              "      <td>247.500000</td>\n",
              "      <td>824853</td>\n",
              "    </tr>\n",
              "    <tr>\n",
              "      <th>2020-11-19 09:18:00+05:30</th>\n",
              "      <td>247.500000</td>\n",
              "      <td>247.500000</td>\n",
              "      <td>247.050003</td>\n",
              "      <td>247.399994</td>\n",
              "      <td>431133</td>\n",
              "    </tr>\n",
              "    <tr>\n",
              "      <th>2020-11-19 09:19:00+05:30</th>\n",
              "      <td>247.399994</td>\n",
              "      <td>247.399994</td>\n",
              "      <td>246.699997</td>\n",
              "      <td>247.100006</td>\n",
              "      <td>639054</td>\n",
              "    </tr>\n",
              "  </tbody>\n",
              "</table>\n",
              "</div>"
            ],
            "text/plain": [
              "                                 Open        High  ...       Close  Volume\n",
              "Datetime                                           ...                    \n",
              "2020-11-19 09:15:00+05:30  247.899994  250.300003  ...  249.300003       0\n",
              "2020-11-19 09:16:00+05:30  249.449997  249.449997  ...  248.600006  762932\n",
              "2020-11-19 09:17:00+05:30  248.600006  248.949997  ...  247.500000  824853\n",
              "2020-11-19 09:18:00+05:30  247.500000  247.500000  ...  247.399994  431133\n",
              "2020-11-19 09:19:00+05:30  247.399994  247.399994  ...  247.100006  639054\n",
              "\n",
              "[5 rows x 5 columns]"
            ]
          },
          "metadata": {
            "tags": []
          },
          "execution_count": 51
        }
      ]
    },
    {
      "cell_type": "code",
      "metadata": {
        "id": "67ob8wdvoclr"
      },
      "source": [
        "my_stocks = data[(data.index > '2020-11-20 09:15:00') & (data.index < '2020-11-20 15:30:00')]"
      ],
      "execution_count": 72,
      "outputs": []
    },
    {
      "cell_type": "code",
      "metadata": {
        "colab": {
          "base_uri": "https://localhost:8080/"
        },
        "id": "fPHak2Tp85Rz",
        "outputId": "6981af65-20d8-434a-ba44-b345846049d9"
      },
      "source": [
        "my_stocks.shape"
      ],
      "execution_count": 73,
      "outputs": [
        {
          "output_type": "execute_result",
          "data": {
            "text/plain": [
              "(374, 7)"
            ]
          },
          "metadata": {
            "tags": []
          },
          "execution_count": 73
        }
      ]
    },
    {
      "cell_type": "markdown",
      "metadata": {
        "id": "ZuoQmooQbHUs"
      },
      "source": [
        "<h1> Formula of VWAP of stock.<h1>\n",
        "<h3> - How to Calculate Volume Weighted Average Price<h3>\n",
        "    The volume weighted average price is calculated for each day. It starts when the markets open and ends when the markets close for the day. Since it is done every day, the calculation uses intraday data. The formula for calculating VWAP is as follows:\n",
        "\n",
        "### *Volumns Weighted Average Price = (Typical Price * Volume) / Cumulative Volume* "
      ]
    },
    {
      "cell_type": "code",
      "metadata": {
        "colab": {
          "base_uri": "https://localhost:8080/",
          "height": 359
        },
        "id": "VIN-1t4jSynb",
        "outputId": "83015839-acea-448b-d999-6c34a2a58e31"
      },
      "source": [
        "# Find Typical Price of Stock by taking average value of \"Open\", \"High\", \"Low\" and save in separate colunms.\n",
        "my_stocks['Price'] = (my_stocks['Open'] + my_stocks['High'] + my_stocks['Close'])/3\n",
        "my_stocks.head()"
      ],
      "execution_count": 74,
      "outputs": [
        {
          "output_type": "stream",
          "text": [
            "/usr/local/lib/python3.6/dist-packages/ipykernel_launcher.py:2: SettingWithCopyWarning:\n",
            "\n",
            "\n",
            "A value is trying to be set on a copy of a slice from a DataFrame.\n",
            "Try using .loc[row_indexer,col_indexer] = value instead\n",
            "\n",
            "See the caveats in the documentation: https://pandas.pydata.org/pandas-docs/stable/user_guide/indexing.html#returning-a-view-versus-a-copy\n",
            "\n"
          ],
          "name": "stderr"
        },
        {
          "output_type": "execute_result",
          "data": {
            "text/html": [
              "<div>\n",
              "<style scoped>\n",
              "    .dataframe tbody tr th:only-of-type {\n",
              "        vertical-align: middle;\n",
              "    }\n",
              "\n",
              "    .dataframe tbody tr th {\n",
              "        vertical-align: top;\n",
              "    }\n",
              "\n",
              "    .dataframe thead th {\n",
              "        text-align: right;\n",
              "    }\n",
              "</style>\n",
              "<table border=\"1\" class=\"dataframe\">\n",
              "  <thead>\n",
              "    <tr style=\"text-align: right;\">\n",
              "      <th></th>\n",
              "      <th>Open</th>\n",
              "      <th>High</th>\n",
              "      <th>Low</th>\n",
              "      <th>Close</th>\n",
              "      <th>Volume</th>\n",
              "      <th>Price</th>\n",
              "      <th>VWAP</th>\n",
              "    </tr>\n",
              "    <tr>\n",
              "      <th>Datetime</th>\n",
              "      <th></th>\n",
              "      <th></th>\n",
              "      <th></th>\n",
              "      <th></th>\n",
              "      <th></th>\n",
              "      <th></th>\n",
              "      <th></th>\n",
              "    </tr>\n",
              "  </thead>\n",
              "  <tbody>\n",
              "    <tr>\n",
              "      <th>2020-11-20 09:16:00+05:30</th>\n",
              "      <td>241.649994</td>\n",
              "      <td>242.000000</td>\n",
              "      <td>240.899994</td>\n",
              "      <td>242.000000</td>\n",
              "      <td>958280</td>\n",
              "      <td>241.883331</td>\n",
              "      <td>245.742551</td>\n",
              "    </tr>\n",
              "    <tr>\n",
              "      <th>2020-11-20 09:17:00+05:30</th>\n",
              "      <td>242.000000</td>\n",
              "      <td>243.399994</td>\n",
              "      <td>242.000000</td>\n",
              "      <td>243.250000</td>\n",
              "      <td>1067650</td>\n",
              "      <td>242.883331</td>\n",
              "      <td>245.705780</td>\n",
              "    </tr>\n",
              "    <tr>\n",
              "      <th>2020-11-20 09:18:00+05:30</th>\n",
              "      <td>243.300003</td>\n",
              "      <td>243.800003</td>\n",
              "      <td>243.149994</td>\n",
              "      <td>243.300003</td>\n",
              "      <td>824695</td>\n",
              "      <td>243.466670</td>\n",
              "      <td>245.683755</td>\n",
              "    </tr>\n",
              "    <tr>\n",
              "      <th>2020-11-20 09:19:00+05:30</th>\n",
              "      <td>243.199997</td>\n",
              "      <td>243.399994</td>\n",
              "      <td>242.600006</td>\n",
              "      <td>243.000000</td>\n",
              "      <td>633293</td>\n",
              "      <td>243.199997</td>\n",
              "      <td>245.665135</td>\n",
              "    </tr>\n",
              "    <tr>\n",
              "      <th>2020-11-20 09:20:00+05:30</th>\n",
              "      <td>243.300003</td>\n",
              "      <td>243.550003</td>\n",
              "      <td>242.300003</td>\n",
              "      <td>242.350006</td>\n",
              "      <td>786563</td>\n",
              "      <td>243.066671</td>\n",
              "      <td>245.641164</td>\n",
              "    </tr>\n",
              "  </tbody>\n",
              "</table>\n",
              "</div>"
            ],
            "text/plain": [
              "                                 Open        High  ...       Price        VWAP\n",
              "Datetime                                           ...                        \n",
              "2020-11-20 09:16:00+05:30  241.649994  242.000000  ...  241.883331  245.742551\n",
              "2020-11-20 09:17:00+05:30  242.000000  243.399994  ...  242.883331  245.705780\n",
              "2020-11-20 09:18:00+05:30  243.300003  243.800003  ...  243.466670  245.683755\n",
              "2020-11-20 09:19:00+05:30  243.199997  243.399994  ...  243.199997  245.665135\n",
              "2020-11-20 09:20:00+05:30  243.300003  243.550003  ...  243.066671  245.641164\n",
              "\n",
              "[5 rows x 7 columns]"
            ]
          },
          "metadata": {
            "tags": []
          },
          "execution_count": 74
        }
      ]
    },
    {
      "cell_type": "markdown",
      "metadata": {
        "id": "VioWGXshiF23"
      },
      "source": [
        "### Multiplying the each row Typical Price by their respective Volume."
      ]
    },
    {
      "cell_type": "code",
      "metadata": {
        "id": "5qTS-55OiFgi"
      },
      "source": [
        "Typical_Price_vol = (my_stocks['Price'] * my_stocks['Volume']).cumsum()"
      ],
      "execution_count": 75,
      "outputs": []
    },
    {
      "cell_type": "markdown",
      "metadata": {
        "id": "KafNOoK6i1Dh"
      },
      "source": [
        "### Finding Volume cumulative of stock using .cumsum()"
      ]
    },
    {
      "cell_type": "code",
      "metadata": {
        "id": "2PvWoNM_bAhg"
      },
      "source": [
        "Vol_cum = my_stocks['Volume'].cumsum()"
      ],
      "execution_count": 76,
      "outputs": []
    },
    {
      "cell_type": "markdown",
      "metadata": {
        "id": "ZK-dEDu_kctS"
      },
      "source": [
        "### Finding VWAP of stock using .cumsum()"
      ]
    },
    {
      "cell_type": "code",
      "metadata": {
        "colab": {
          "base_uri": "https://localhost:8080/"
        },
        "id": "SRsxu_lUjnOm",
        "outputId": "3fcd7aad-b653-46ce-e8a1-b366abce39cf"
      },
      "source": [
        "my_stocks['VWAP'] = Typical_Price_vol / Vol_cum"
      ],
      "execution_count": 77,
      "outputs": [
        {
          "output_type": "stream",
          "text": [
            "/usr/local/lib/python3.6/dist-packages/ipykernel_launcher.py:1: SettingWithCopyWarning:\n",
            "\n",
            "\n",
            "A value is trying to be set on a copy of a slice from a DataFrame.\n",
            "Try using .loc[row_indexer,col_indexer] = value instead\n",
            "\n",
            "See the caveats in the documentation: https://pandas.pydata.org/pandas-docs/stable/user_guide/indexing.html#returning-a-view-versus-a-copy\n",
            "\n"
          ],
          "name": "stderr"
        }
      ]
    },
    {
      "cell_type": "code",
      "metadata": {
        "colab": {
          "base_uri": "https://localhost:8080/"
        },
        "id": "kjld2AJalGER",
        "outputId": "827d6833-c36d-454b-e7a7-c9083f1d8c5a"
      },
      "source": [
        "my_stocks['VWAP']"
      ],
      "execution_count": 78,
      "outputs": [
        {
          "output_type": "execute_result",
          "data": {
            "text/plain": [
              "Datetime\n",
              "2020-11-20 09:16:00+05:30    241.883331\n",
              "2020-11-20 09:17:00+05:30    242.410324\n",
              "2020-11-20 09:18:00+05:30    242.715928\n",
              "2020-11-20 09:19:00+05:30    242.803920\n",
              "2020-11-20 09:20:00+05:30    242.852315\n",
              "                                ...    \n",
              "2020-11-20 15:25:00+05:30    239.948727\n",
              "2020-11-20 15:26:00+05:30    239.951241\n",
              "2020-11-20 15:27:00+05:30    239.956096\n",
              "2020-11-20 15:28:00+05:30    239.969110\n",
              "2020-11-20 15:29:00+05:30    239.975637\n",
              "Name: VWAP, Length: 374, dtype: float64"
            ]
          },
          "metadata": {
            "tags": []
          },
          "execution_count": 78
        }
      ]
    },
    {
      "cell_type": "code",
      "metadata": {
        "colab": {
          "base_uri": "https://localhost:8080/",
          "height": 542
        },
        "id": "LmOlWk2XlP7M",
        "outputId": "dbfb7122-72e7-4965-ae27-926269225a77"
      },
      "source": [
        "# declare a figure\n",
        "fig=go.Figure()\n",
        "\n",
        "fig.add_trace(go.Candlestick(x=my_stocks.index, open=my_stocks['Open'], high=my_stocks['High'], low=my_stocks['Low'], close=my_stocks['Close'], name = 'Market Data'))\n",
        "\n",
        "fig.add_trace(go.Scatter(x=my_stocks.index, y=my_stocks['VWAP']))\n",
        "\n",
        "fig.show()"
      ],
      "execution_count": 83,
      "outputs": [
        {
          "output_type": "display_data",
          "data": {
            "text/html": [
              "<html>\n",
              "<head><meta charset=\"utf-8\" /></head>\n",
              "<body>\n",
              "    <div>\n",
              "            <script src=\"https://cdnjs.cloudflare.com/ajax/libs/mathjax/2.7.5/MathJax.js?config=TeX-AMS-MML_SVG\"></script><script type=\"text/javascript\">if (window.MathJax) {MathJax.Hub.Config({SVG: {font: \"STIX-Web\"}});}</script>\n",
              "                <script type=\"text/javascript\">window.PlotlyConfig = {MathJaxConfig: 'local'};</script>\n",
              "        <script src=\"https://cdn.plot.ly/plotly-latest.min.js\"></script>    \n",
              "            <div id=\"bfa561a3-18f5-4b8f-9b07-be60194b547f\" class=\"plotly-graph-div\" style=\"height:525px; width:100%;\"></div>\n",
              "            <script type=\"text/javascript\">\n",
              "                \n",
              "                    window.PLOTLYENV=window.PLOTLYENV || {};\n",
              "                    \n",
              "                if (document.getElementById(\"bfa561a3-18f5-4b8f-9b07-be60194b547f\")) {\n",
              "                    Plotly.newPlot(\n",
              "                        'bfa561a3-18f5-4b8f-9b07-be60194b547f',\n",
              "                        [{\"close\": [242.0, 243.25, 243.3000030517578, 243.0, 242.35000610351562, 242.39999389648438, 242.5, 241.85000610351562, 241.0500030517578, 240.5500030517578, 240.0500030517578, 239.9499969482422, 239.25, 239.4499969482422, 238.6999969482422, 238.0500030517578, 238.0, 238.1999969482422, 238.8000030517578, 239.10000610351562, 239.3000030517578, 239.75, 238.35000610351562, 239.14999389648438, 239.5, 239.5, 239.5500030517578, 238.9499969482422, 238.75, 238.6999969482422, 238.5, 238.85000610351562, 238.0500030517578, 238.3000030517578, 238.0, 237.64999389648438, 237.6999969482422, 237.64999389648438, 237.9499969482422, 237.3000030517578, 237.5, 236.9499969482422, 236.85000610351562, 237.5, 237.85000610351562, 237.75, 237.9499969482422, 237.85000610351562, 237.5, 237.39999389648438, 237.39999389648438, 237.4499969482422, 238.0, 238.35000610351562, 238.14999389648438, 238.0, 238.5, 238.3000030517578, 238.4499969482422, 237.85000610351562, 237.9499969482422, 238.4499969482422, 238.6999969482422, 238.75, 238.6999969482422, 238.9499969482422, 238.5, 237.6999969482422, 237.85000610351562, 237.85000610351562, 237.8000030517578, 237.64999389648438, 238.1999969482422, 238.0500030517578, 237.89999389648438, 237.9499969482422, 237.85000610351562, 237.89999389648438, 238.0500030517578, 238.0500030517578, 237.89999389648438, 237.75, 237.8000030517578, 237.35000610351562, 237.5, 237.6999969482422, 237.35000610351562, 236.64999389648438, 236.10000610351562, 236.4499969482422, 236.0500030517578, 236.25, 235.9499969482422, 235.89999389648438, 235.5, 234.75, 234.39999389648438, 234.89999389648438, 235.10000610351562, 234.35000610351562, 234.6999969482422, 235.14999389648438, 235.10000610351562, 234.89999389648438, 235.0, 235.25, 235.39999389648438, 235.0500030517578, 235.0, 234.9499969482422, 235.1999969482422, 235.35000610351562, 235.5, 235.64999389648438, 235.4499969482422, 235.25, 235.0500030517578, 234.89999389648438, 234.5, 234.85000610351562, 234.85000610351562, 234.4499969482422, 234.8000030517578, 234.85000610351562, 234.64999389648438, 234.4499969482422, 234.4499969482422, 234.64999389648438, 234.64999389648438, 235.0, 235.25, 235.6999969482422, 235.4499969482422, 235.1999969482422, 235.5, 235.89999389648438, 235.5, 235.4499969482422, 235.25, 235.0500030517578, 234.9499969482422, 234.9499969482422, 235.3000030517578, 235.1999969482422, 235.3000030517578, 235.39999389648438, 235.6999969482422, 235.5500030517578, 235.6999969482422, 235.0500030517578, 235.0, 235.10000610351562, 235.0, 234.9499969482422, 234.85000610351562, 234.9499969482422, 235.10000610351562, 235.14999389648438, 235.5500030517578, 235.60000610351562, 236.14999389648438, 236.5500030517578, 236.5, 237.0500030517578, 237.25, 236.60000610351562, 236.64999389648438, 236.0500030517578, 236.25, 236.10000610351562, 235.85000610351562, 236.1999969482422, 236.1999969482422, 236.60000610351562, 236.1999969482422, 235.89999389648438, 236.0500030517578, 236.0, 235.89999389648438, 236.0, 236.0500030517578, 235.5500030517578, 235.5500030517578, 235.64999389648438, 235.5, 235.4499969482422, 235.39999389648438, 235.64999389648438, 235.85000610351562, 235.64999389648438, 235.8000030517578, 236.35000610351562, 236.0500030517578, 236.14999389648438, 236.25, 236.1999969482422, 236.8000030517578, 236.35000610351562, 236.4499969482422, 236.25, 236.25, 236.10000610351562, 236.0, 235.64999389648438, 235.75, 235.5, 235.75, 235.89999389648438, 236.10000610351562, 236.14999389648438, 236.10000610351562, 236.25, 236.3000030517578, 236.35000610351562, 236.5, 236.25, 236.3000030517578, 236.5, 236.4499969482422, 236.25, 236.39999389648438, 236.39999389648438, 236.5, 236.10000610351562, 236.9499969482422, 238.8000030517578, 238.14999389648438, 240.5500030517578, 240.5500030517578, 241.5500030517578, 241.5, 240.39999389648438, 240.0500030517578, 240.14999389648438, 240.4499969482422, 240.6999969482422, 240.64999389648438, 241.14999389648438, 240.75, 240.35000610351562, 240.3000030517578, 240.14999389648438, 240.0500030517578, 239.5500030517578, 239.85000610351562, 239.89999389648438, 239.85000610351562, 239.89999389648438, 239.89999389648438, 239.10000610351562, 239.35000610351562, 239.5500030517578, 239.39999389648438, 239.4499969482422, 239.75, 238.64999389648438, 238.25, 238.64999389648438, 239.25, 239.14999389648438, 239.0500030517578, 239.4499969482422, 239.89999389648438, 239.89999389648438, 239.89999389648438, 240.1999969482422, 240.3000030517578, 240.75, 240.85000610351562, 241.39999389648438, 241.60000610351562, 241.5, 241.35000610351562, 241.6999969482422, 242.64999389648438, 242.3000030517578, 242.60000610351562, 242.85000610351562, 243.0, 242.3000030517578, 242.4499969482422, 242.85000610351562, 243.0, 242.60000610351562, 242.89999389648438, 242.75, 242.75, 242.35000610351562, 242.89999389648438, 242.5500030517578, 242.39999389648438, 242.6999969482422, 242.5, 242.75, 242.6999969482422, 242.85000610351562, 242.60000610351562, 242.5500030517578, 242.35000610351562, 242.9499969482422, 244.14999389648438, 244.25, 244.60000610351562, 245.0, 244.9499969482422, 245.10000610351562, 244.6999969482422, 244.6999969482422, 244.8000030517578, 245.1999969482422, 244.9499969482422, 244.1999969482422, 243.64999389648438, 243.3000030517578, 242.10000610351562, 242.0500030517578, 242.89999389648438, 243.4499969482422, 243.14999389648438, 242.5500030517578, 242.9499969482422, 242.85000610351562, 242.89999389648438, 242.75, 242.6999969482422, 243.3000030517578, 243.75, 243.4499969482422, 244.35000610351562, 243.89999389648438, 244.0, 243.8000030517578, 243.60000610351562, 243.4499969482422, 243.25, 243.4499969482422, 243.8000030517578, 243.5500030517578, 243.64999389648438, 243.75, 243.4499969482422, 243.60000610351562, 244.10000610351562, 244.0500030517578, 243.8000030517578, 243.8000030517578, 243.3000030517578, 243.1999969482422, 243.0, 243.0500030517578, 243.35000610351562, 243.6999969482422, 243.39999389648438, 243.35000610351562, 243.35000610351562, 243.4499969482422, 243.4499969482422, 243.4499969482422, 243.39999389648438, 243.35000610351562, 243.10000610351562, 242.85000610351562, 242.89999389648438, 242.89999389648438, 242.5, 242.0500030517578, 241.4499969482422, 241.4499969482422, 241.60000610351562, 241.64999389648438, 241.64999389648438, 241.75, 241.9499969482422, 242.10000610351562], \"high\": [242.0, 243.39999389648438, 243.8000030517578, 243.39999389648438, 243.5500030517578, 242.89999389648438, 242.8000030517578, 242.6999969482422, 241.85000610351562, 241.25, 240.5500030517578, 240.35000610351562, 240.0, 239.64999389648438, 239.75, 239.14999389648438, 238.3000030517578, 238.3000030517578, 238.8000030517578, 239.5, 239.39999389648438, 239.75, 239.8000030517578, 239.14999389648438, 239.60000610351562, 239.8000030517578, 239.6999969482422, 239.5500030517578, 239.0, 239.1999969482422, 238.75, 239.0, 238.75, 238.4499969482422, 238.39999389648438, 238.10000610351562, 237.85000610351562, 237.6999969482422, 238.14999389648438, 237.89999389648438, 237.60000610351562, 237.4499969482422, 236.9499969482422, 237.5, 237.85000610351562, 237.85000610351562, 238.3000030517578, 238.0, 237.85000610351562, 237.75, 237.75, 237.60000610351562, 238.0, 238.35000610351562, 238.39999389648438, 238.1999969482422, 238.5500030517578, 238.60000610351562, 238.6999969482422, 238.4499969482422, 238.10000610351562, 238.60000610351562, 238.75, 238.89999389648438, 238.85000610351562, 239.0, 239.0, 238.5500030517578, 238.10000610351562, 238.0, 238.10000610351562, 238.0, 238.3000030517578, 238.25, 238.1999969482422, 238.10000610351562, 238.0, 237.9499969482422, 238.1999969482422, 238.10000610351562, 238.0500030517578, 238.10000610351562, 237.85000610351562, 238.0, 237.5500030517578, 237.6999969482422, 237.64999389648438, 237.39999389648438, 236.8000030517578, 236.5, 236.5, 236.35000610351562, 236.1999969482422, 236.0, 235.9499969482422, 235.5, 234.64999389648438, 234.89999389648438, 235.25, 235.1999969482422, 234.89999389648438, 235.3000030517578, 235.35000610351562, 235.10000610351562, 235.0, 235.5, 235.4499969482422, 235.4499969482422, 235.14999389648438, 235.0, 235.3000030517578, 235.39999389648438, 235.5, 235.75, 235.64999389648438, 235.5, 235.3000030517578, 235.25, 234.9499969482422, 234.85000610351562, 234.85000610351562, 234.85000610351562, 234.89999389648438, 235.0500030517578, 235.10000610351562, 234.6999969482422, 234.5, 234.6999969482422, 234.8000030517578, 235.1999969482422, 235.39999389648438, 235.6999969482422, 235.6999969482422, 235.39999389648438, 235.64999389648438, 235.9499969482422, 235.9499969482422, 235.60000610351562, 235.4499969482422, 235.3000030517578, 235.0500030517578, 235.1999969482422, 235.3000030517578, 235.39999389648438, 235.39999389648438, 235.39999389648438, 235.6999969482422, 235.8000030517578, 235.6999969482422, 235.6999969482422, 235.14999389648438, 235.1999969482422, 235.14999389648438, 235.10000610351562, 235.0, 235.0500030517578, 235.3000030517578, 235.25, 235.60000610351562, 235.6999969482422, 236.14999389648438, 236.5500030517578, 236.8000030517578, 237.60000610351562, 237.39999389648438, 237.25, 236.6999969482422, 236.6999969482422, 236.4499969482422, 236.3000030517578, 236.14999389648438, 236.3000030517578, 236.3000030517578, 236.60000610351562, 236.5500030517578, 236.25, 236.14999389648438, 236.14999389648438, 236.14999389648438, 236.0500030517578, 236.14999389648438, 236.0500030517578, 235.60000610351562, 235.75, 235.9499969482422, 235.5500030517578, 235.5500030517578, 235.64999389648438, 235.85000610351562, 235.8000030517578, 235.8000030517578, 236.35000610351562, 236.35000610351562, 236.1999969482422, 236.3000030517578, 236.25, 236.85000610351562, 236.8000030517578, 236.5, 236.5, 236.4499969482422, 236.39999389648438, 236.1999969482422, 236.0, 235.8000030517578, 235.8000030517578, 235.89999389648438, 235.89999389648438, 236.25, 236.39999389648438, 236.14999389648438, 236.35000610351562, 236.39999389648438, 236.39999389648438, 236.60000610351562, 236.5, 236.4499969482422, 236.5500030517578, 236.60000610351562, 236.4499969482422, 236.4499969482422, 236.4499969482422, 236.60000610351562, 236.5, 237.1999969482422, 239.0500030517578, 238.75, 240.85000610351562, 240.8000030517578, 242.0, 242.60000610351562, 241.60000610351562, 241.0, 240.6999969482422, 240.4499969482422, 240.75, 240.9499969482422, 241.25, 241.14999389648438, 241.0, 240.60000610351562, 240.3000030517578, 240.14999389648438, 240.1999969482422, 240.0, 239.89999389648438, 239.89999389648438, 240.0, 240.0, 239.89999389648438, 239.5, 239.60000610351562, 239.5500030517578, 239.60000610351562, 240.0, 239.75, 238.8000030517578, 238.75, 239.35000610351562, 239.5, 239.4499969482422, 239.5, 240.5500030517578, 240.0, 240.10000610351562, 240.4499969482422, 240.39999389648438, 241.10000610351562, 240.9499969482422, 241.64999389648438, 241.8000030517578, 241.89999389648438, 241.60000610351562, 241.6999969482422, 242.9499969482422, 242.6999969482422, 242.6999969482422, 243.25, 243.14999389648438, 243.0500030517578, 242.5, 242.9499969482422, 243.10000610351562, 243.0, 243.35000610351562, 243.0500030517578, 243.0, 242.89999389648438, 243.0, 242.85000610351562, 242.60000610351562, 242.8000030517578, 242.75, 242.8000030517578, 242.89999389648438, 242.85000610351562, 242.85000610351562, 242.64999389648438, 242.64999389648438, 243.25, 244.4499969482422, 244.4499969482422, 244.85000610351562, 245.0, 245.25, 245.39999389648438, 245.0, 244.89999389648438, 244.85000610351562, 245.3000030517578, 245.3000030517578, 244.9499969482422, 244.1999969482422, 244.14999389648438, 243.35000610351562, 242.60000610351562, 243.0, 243.5500030517578, 243.5, 243.14999389648438, 242.9499969482422, 243.14999389648438, 243.10000610351562, 242.89999389648438, 242.89999389648438, 243.3000030517578, 243.9499969482422, 243.89999389648438, 244.35000610351562, 244.4499969482422, 244.25, 244.0, 244.0, 243.60000610351562, 243.4499969482422, 243.64999389648438, 243.8000030517578, 243.8000030517578, 243.75, 243.8000030517578, 243.75, 243.60000610351562, 244.1999969482422, 244.1999969482422, 244.14999389648438, 243.89999389648438, 243.85000610351562, 243.4499969482422, 243.35000610351562, 243.1999969482422, 243.5, 243.6999969482422, 243.6999969482422, 243.5, 243.5500030517578, 243.5, 243.60000610351562, 243.60000610351562, 243.60000610351562, 243.60000610351562, 243.39999389648438, 243.1999969482422, 243.0, 242.9499969482422, 242.89999389648438, 242.6999969482422, 242.14999389648438, 241.5, 241.75, 241.9499969482422, 241.8000030517578, 241.85000610351562, 242.0500030517578, 242.25], \"low\": [240.89999389648438, 242.0, 243.14999389648438, 242.60000610351562, 242.3000030517578, 242.1999969482422, 242.39999389648438, 241.8000030517578, 241.0500030517578, 240.5500030517578, 239.6999969482422, 239.64999389648438, 238.5500030517578, 239.0500030517578, 238.6999969482422, 238.0, 237.60000610351562, 237.64999389648438, 238.0, 238.75, 238.85000610351562, 239.1999969482422, 238.1999969482422, 237.9499969482422, 238.89999389648438, 239.35000610351562, 239.5, 238.8000030517578, 238.5, 238.60000610351562, 238.25, 238.39999389648438, 238.0, 238.0, 238.0, 237.64999389648438, 237.3000030517578, 237.5, 237.5500030517578, 237.3000030517578, 237.25, 236.5500030517578, 236.64999389648438, 236.64999389648438, 237.25, 237.4499969482422, 237.75, 237.5, 237.5, 237.35000610351562, 237.3000030517578, 237.35000610351562, 237.5, 237.8000030517578, 238.0, 237.89999389648438, 238.0, 238.3000030517578, 238.3000030517578, 237.6999969482422, 237.85000610351562, 237.89999389648438, 238.39999389648438, 238.60000610351562, 238.64999389648438, 238.60000610351562, 238.4499969482422, 237.5500030517578, 237.64999389648438, 237.75, 237.8000030517578, 237.64999389648438, 237.6999969482422, 237.85000610351562, 237.89999389648438, 237.8000030517578, 237.8000030517578, 237.64999389648438, 237.85000610351562, 237.9499969482422, 237.8000030517578, 237.75, 237.6999969482422, 237.35000610351562, 237.3000030517578, 237.3000030517578, 237.3000030517578, 236.3000030517578, 236.10000610351562, 236.0, 236.0500030517578, 235.60000610351562, 235.75, 235.75, 235.39999389648438, 234.60000610351562, 234.10000610351562, 234.3000030517578, 234.75, 234.25, 234.3000030517578, 234.64999389648438, 235.0, 234.8000030517578, 234.5500030517578, 234.9499969482422, 235.1999969482422, 235.0500030517578, 234.8000030517578, 234.8000030517578, 234.85000610351562, 235.14999389648438, 235.35000610351562, 235.39999389648438, 235.3000030517578, 235.1999969482422, 235.0, 234.89999389648438, 234.5, 234.3000030517578, 234.64999389648438, 234.39999389648438, 234.39999389648438, 234.64999389648438, 234.5, 234.0500030517578, 234.0500030517578, 234.35000610351562, 234.60000610351562, 234.6999969482422, 235.0, 235.1999969482422, 235.1999969482422, 235.10000610351562, 235.14999389648438, 235.5, 235.39999389648438, 235.1999969482422, 235.1999969482422, 235.0500030517578, 234.8000030517578, 234.9499969482422, 234.9499969482422, 235.10000610351562, 235.10000610351562, 235.25, 235.3000030517578, 235.39999389648438, 235.5, 235.0, 234.8000030517578, 234.9499969482422, 235.0, 234.8000030517578, 234.85000610351562, 234.85000610351562, 234.9499969482422, 234.89999389648438, 235.14999389648438, 235.5, 235.4499969482422, 235.85000610351562, 236.35000610351562, 236.35000610351562, 236.9499969482422, 236.60000610351562, 236.35000610351562, 236.0, 235.9499969482422, 236.0, 235.85000610351562, 235.6999969482422, 236.0, 236.10000610351562, 236.10000610351562, 235.89999389648438, 235.89999389648438, 236.0, 235.89999389648438, 235.85000610351562, 236.0, 235.5500030517578, 235.1999969482422, 235.39999389648438, 235.39999389648438, 235.3000030517578, 235.3000030517578, 235.39999389648438, 235.5500030517578, 235.64999389648438, 235.64999389648438, 235.75, 235.9499969482422, 235.9499969482422, 236.14999389648438, 236.0, 236.14999389648438, 236.0500030517578, 236.25, 236.25, 236.25, 236.10000610351562, 235.89999389648438, 235.5500030517578, 235.60000610351562, 235.3000030517578, 235.4499969482422, 235.5, 235.8000030517578, 235.9499969482422, 236.0, 236.0, 236.14999389648438, 236.25, 236.25, 236.14999389648438, 236.1999969482422, 236.25, 236.39999389648438, 236.1999969482422, 236.1999969482422, 236.3000030517578, 236.3000030517578, 236.0, 236.0, 236.8000030517578, 238.0, 238.14999389648438, 240.0500030517578, 240.6999969482422, 241.25, 239.89999389648438, 240.0500030517578, 239.60000610351562, 240.0500030517578, 240.35000610351562, 240.60000610351562, 240.4499969482422, 240.75, 240.35000610351562, 240.10000610351562, 239.8000030517578, 239.8000030517578, 239.4499969482422, 239.60000610351562, 239.64999389648438, 239.8000030517578, 239.8000030517578, 239.85000610351562, 239.10000610351562, 239.10000610351562, 239.35000610351562, 239.14999389648438, 239.3000030517578, 239.39999389648438, 238.39999389648438, 238.0, 238.25, 238.64999389648438, 239.10000610351562, 239.0500030517578, 239.0, 239.39999389648438, 239.5500030517578, 239.8000030517578, 239.75, 240.10000610351562, 240.1999969482422, 240.60000610351562, 240.8000030517578, 241.3000030517578, 241.5, 241.3000030517578, 241.3000030517578, 241.64999389648438, 242.25, 242.25, 242.64999389648438, 242.60000610351562, 242.0, 242.1999969482422, 242.39999389648438, 242.5500030517578, 242.5500030517578, 242.60000610351562, 242.60000610351562, 242.75, 242.35000610351562, 242.39999389648438, 242.35000610351562, 242.39999389648438, 242.39999389648438, 242.5, 242.5, 242.60000610351562, 242.6999969482422, 242.60000610351562, 242.14999389648438, 242.35000610351562, 242.39999389648438, 242.89999389648438, 244.10000610351562, 244.1999969482422, 244.5500030517578, 244.8000030517578, 244.85000610351562, 244.3000030517578, 244.5500030517578, 244.60000610351562, 244.75, 244.85000610351562, 244.1999969482422, 243.35000610351562, 243.25, 241.6999969482422, 242.0, 242.0, 242.89999389648438, 243.0, 242.5, 242.5500030517578, 242.8000030517578, 242.8000030517578, 242.60000610351562, 242.60000610351562, 242.6999969482422, 243.3000030517578, 243.25, 243.35000610351562, 243.8000030517578, 243.85000610351562, 243.8000030517578, 243.5, 243.25, 243.1999969482422, 243.14999389648438, 243.39999389648438, 243.5, 243.5, 243.64999389648438, 243.39999389648438, 243.3000030517578, 243.5500030517578, 243.89999389648438, 243.75, 243.6999969482422, 243.3000030517578, 243.10000610351562, 242.8000030517578, 242.8000030517578, 243.0500030517578, 243.3000030517578, 243.35000610351562, 243.25, 243.3000030517578, 243.25, 243.35000610351562, 243.39999389648438, 243.39999389648438, 243.25, 243.10000610351562, 242.8000030517578, 242.8000030517578, 242.8000030517578, 242.4499969482422, 242.0, 241.35000610351562, 241.3000030517578, 241.39999389648438, 241.60000610351562, 241.60000610351562, 241.60000610351562, 241.64999389648438, 241.64999389648438], \"name\": \"Market Data\", \"open\": [241.64999389648438, 242.0, 243.3000030517578, 243.1999969482422, 243.3000030517578, 242.1999969482422, 242.4499969482422, 242.5500030517578, 241.6999969482422, 241.0, 240.5500030517578, 240.10000610351562, 240.0, 239.0500030517578, 239.5, 238.85000610351562, 238.0500030517578, 237.89999389648438, 238.14999389648438, 238.8000030517578, 239.14999389648438, 239.25, 239.64999389648438, 238.39999389648438, 238.89999389648438, 239.39999389648438, 239.60000610351562, 239.4499969482422, 238.9499969482422, 238.6999969482422, 238.60000610351562, 238.5, 238.75, 238.0, 238.35000610351562, 238.0, 237.5, 237.5500030517578, 237.60000610351562, 237.89999389648438, 237.35000610351562, 237.4499969482422, 236.9499969482422, 236.75, 237.3000030517578, 237.6999969482422, 237.75, 238.0, 237.85000610351562, 237.5, 237.5, 237.39999389648438, 237.5500030517578, 237.89999389648438, 238.39999389648438, 238.14999389648438, 238.10000610351562, 238.5, 238.3000030517578, 238.4499969482422, 237.85000610351562, 238.0, 238.5, 238.6999969482422, 238.8000030517578, 238.75, 238.89999389648438, 238.5, 237.75, 237.8000030517578, 237.85000610351562, 237.89999389648438, 237.8000030517578, 238.1999969482422, 238.0500030517578, 237.89999389648438, 237.9499969482422, 237.85000610351562, 238.0, 238.0500030517578, 238.0500030517578, 237.8000030517578, 237.75, 237.89999389648438, 237.39999389648438, 237.39999389648438, 237.64999389648438, 237.39999389648438, 236.5, 236.10000610351562, 236.5, 236.0500030517578, 236.1999969482422, 235.89999389648438, 235.8000030517578, 235.5, 234.60000610351562, 234.35000610351562, 234.85000610351562, 235.14999389648438, 234.3000030517578, 234.64999389648438, 235.3000030517578, 235.10000610351562, 234.85000610351562, 235.0, 235.25, 235.4499969482422, 235.0500030517578, 235.0, 234.85000610351562, 235.25, 235.35000610351562, 235.5, 235.60000610351562, 235.4499969482422, 235.3000030517578, 235.0500030517578, 234.89999389648438, 234.5, 234.85000610351562, 234.6999969482422, 234.4499969482422, 234.89999389648438, 234.85000610351562, 234.64999389648438, 234.39999389648438, 234.4499969482422, 234.6999969482422, 234.75, 235.0500030517578, 235.35000610351562, 235.64999389648438, 235.3000030517578, 235.1999969482422, 235.5500030517578, 235.9499969482422, 235.5, 235.4499969482422, 235.14999389648438, 235.0500030517578, 234.9499969482422, 235.0, 235.25, 235.1999969482422, 235.35000610351562, 235.3000030517578, 235.60000610351562, 235.5, 235.64999389648438, 235.14999389648438, 234.9499969482422, 235.0500030517578, 235.0500030517578, 234.9499969482422, 234.89999389648438, 234.9499969482422, 235.0, 235.1999969482422, 235.60000610351562, 235.5, 236.14999389648438, 236.5, 236.5, 237.0, 237.10000610351562, 236.6999969482422, 236.64999389648438, 236.0, 236.1999969482422, 236.14999389648438, 235.8000030517578, 236.1999969482422, 236.1999969482422, 236.5, 236.14999389648438, 235.9499969482422, 236.0, 236.10000610351562, 235.9499969482422, 236.10000610351562, 236.0, 235.60000610351562, 235.60000610351562, 235.5500030517578, 235.4499969482422, 235.35000610351562, 235.5, 235.60000610351562, 235.75, 235.8000030517578, 235.75, 236.35000610351562, 236.0, 236.1999969482422, 236.25, 236.14999389648438, 236.75, 236.39999389648438, 236.5, 236.3000030517578, 236.3000030517578, 236.10000610351562, 235.89999389648438, 235.64999389648438, 235.6999969482422, 235.4499969482422, 235.60000610351562, 235.8000030517578, 236.0, 236.14999389648438, 236.0, 236.3000030517578, 236.25, 236.25, 236.4499969482422, 236.25, 236.3000030517578, 236.4499969482422, 236.4499969482422, 236.25, 236.4499969482422, 236.39999389648438, 236.4499969482422, 236.0500030517578, 236.89999389648438, 238.75, 238.1999969482422, 240.64999389648438, 240.6999969482422, 241.5, 241.5500030517578, 240.4499969482422, 240.10000610351562, 240.14999389648438, 240.39999389648438, 240.75, 240.6999969482422, 241.14999389648438, 240.85000610351562, 240.60000610351562, 240.25, 240.0500030517578, 240.0500030517578, 239.6999969482422, 239.85000610351562, 239.85000610351562, 239.85000610351562, 239.9499969482422, 239.89999389648438, 239.1999969482422, 239.39999389648438, 239.5, 239.35000610351562, 239.5, 239.75, 238.64999389648438, 238.25, 238.64999389648438, 239.25, 239.1999969482422, 239.0500030517578, 239.39999389648438, 239.8000030517578, 239.9499969482422, 239.8000030517578, 240.1999969482422, 240.3000030517578, 240.75, 240.89999389648438, 241.39999389648438, 241.6999969482422, 241.4499969482422, 241.3000030517578, 241.8000030517578, 242.64999389648438, 242.25, 242.75, 242.8000030517578, 243.0500030517578, 242.1999969482422, 242.39999389648438, 242.89999389648438, 243.0, 242.60000610351562, 242.85000610351562, 242.8000030517578, 242.75, 242.39999389648438, 242.6999969482422, 242.5, 242.39999389648438, 242.64999389648438, 242.5500030517578, 242.75, 242.8000030517578, 242.85000610351562, 242.64999389648438, 242.5500030517578, 242.39999389648438, 242.9499969482422, 244.10000610351562, 244.35000610351562, 244.60000610351562, 245.0, 244.85000610351562, 245.0, 244.60000610351562, 244.6999969482422, 244.8000030517578, 245.10000610351562, 244.8000030517578, 244.1999969482422, 243.60000610351562, 243.25, 242.1999969482422, 242.10000610351562, 243.0, 243.25, 243.14999389648438, 242.64999389648438, 243.0500030517578, 242.9499969482422, 242.85000610351562, 242.64999389648438, 242.6999969482422, 243.39999389648438, 243.75, 243.35000610351562, 244.3000030517578, 244.0, 244.0, 243.9499969482422, 243.5, 243.35000610351562, 243.25, 243.5500030517578, 243.8000030517578, 243.60000610351562, 243.64999389648438, 243.75, 243.4499969482422, 243.60000610351562, 244.10000610351562, 244.14999389648438, 243.85000610351562, 243.75, 243.3000030517578, 243.14999389648438, 242.89999389648438, 243.0500030517578, 243.35000610351562, 243.60000610351562, 243.4499969482422, 243.39999389648438, 243.5, 243.5, 243.5, 243.5500030517578, 243.5, 243.39999389648438, 243.1999969482422, 242.9499969482422, 242.8000030517578, 242.85000610351562, 242.5, 242.0500030517578, 241.39999389648438, 241.4499969482422, 241.6999969482422, 241.64999389648438, 241.64999389648438, 241.6999969482422, 241.89999389648438], \"type\": \"candlestick\", \"x\": [\"2020-11-20T09:16:00+05:30\", \"2020-11-20T09:17:00+05:30\", \"2020-11-20T09:18:00+05:30\", \"2020-11-20T09:19:00+05:30\", \"2020-11-20T09:20:00+05:30\", \"2020-11-20T09:21:00+05:30\", \"2020-11-20T09:22:00+05:30\", \"2020-11-20T09:23:00+05:30\", \"2020-11-20T09:24:00+05:30\", \"2020-11-20T09:25:00+05:30\", \"2020-11-20T09:26:00+05:30\", \"2020-11-20T09:27:00+05:30\", \"2020-11-20T09:28:00+05:30\", \"2020-11-20T09:29:00+05:30\", \"2020-11-20T09:30:00+05:30\", \"2020-11-20T09:31:00+05:30\", \"2020-11-20T09:32:00+05:30\", \"2020-11-20T09:33:00+05:30\", \"2020-11-20T09:34:00+05:30\", \"2020-11-20T09:35:00+05:30\", \"2020-11-20T09:36:00+05:30\", \"2020-11-20T09:37:00+05:30\", \"2020-11-20T09:38:00+05:30\", \"2020-11-20T09:39:00+05:30\", \"2020-11-20T09:40:00+05:30\", \"2020-11-20T09:41:00+05:30\", \"2020-11-20T09:42:00+05:30\", \"2020-11-20T09:43:00+05:30\", \"2020-11-20T09:44:00+05:30\", \"2020-11-20T09:45:00+05:30\", \"2020-11-20T09:46:00+05:30\", \"2020-11-20T09:47:00+05:30\", \"2020-11-20T09:48:00+05:30\", \"2020-11-20T09:49:00+05:30\", \"2020-11-20T09:50:00+05:30\", \"2020-11-20T09:51:00+05:30\", \"2020-11-20T09:52:00+05:30\", \"2020-11-20T09:53:00+05:30\", \"2020-11-20T09:54:00+05:30\", \"2020-11-20T09:55:00+05:30\", \"2020-11-20T09:56:00+05:30\", \"2020-11-20T09:57:00+05:30\", \"2020-11-20T09:58:00+05:30\", \"2020-11-20T09:59:00+05:30\", \"2020-11-20T10:00:00+05:30\", \"2020-11-20T10:01:00+05:30\", \"2020-11-20T10:02:00+05:30\", \"2020-11-20T10:03:00+05:30\", \"2020-11-20T10:04:00+05:30\", \"2020-11-20T10:05:00+05:30\", \"2020-11-20T10:06:00+05:30\", \"2020-11-20T10:07:00+05:30\", \"2020-11-20T10:08:00+05:30\", \"2020-11-20T10:09:00+05:30\", \"2020-11-20T10:10:00+05:30\", \"2020-11-20T10:11:00+05:30\", \"2020-11-20T10:12:00+05:30\", \"2020-11-20T10:13:00+05:30\", \"2020-11-20T10:14:00+05:30\", \"2020-11-20T10:15:00+05:30\", \"2020-11-20T10:16:00+05:30\", \"2020-11-20T10:17:00+05:30\", \"2020-11-20T10:18:00+05:30\", \"2020-11-20T10:19:00+05:30\", \"2020-11-20T10:20:00+05:30\", \"2020-11-20T10:21:00+05:30\", \"2020-11-20T10:22:00+05:30\", \"2020-11-20T10:23:00+05:30\", \"2020-11-20T10:24:00+05:30\", \"2020-11-20T10:25:00+05:30\", \"2020-11-20T10:26:00+05:30\", \"2020-11-20T10:27:00+05:30\", \"2020-11-20T10:28:00+05:30\", \"2020-11-20T10:29:00+05:30\", \"2020-11-20T10:30:00+05:30\", \"2020-11-20T10:31:00+05:30\", \"2020-11-20T10:32:00+05:30\", \"2020-11-20T10:33:00+05:30\", \"2020-11-20T10:34:00+05:30\", \"2020-11-20T10:35:00+05:30\", \"2020-11-20T10:36:00+05:30\", \"2020-11-20T10:37:00+05:30\", \"2020-11-20T10:38:00+05:30\", \"2020-11-20T10:39:00+05:30\", \"2020-11-20T10:40:00+05:30\", \"2020-11-20T10:41:00+05:30\", \"2020-11-20T10:42:00+05:30\", \"2020-11-20T10:43:00+05:30\", \"2020-11-20T10:44:00+05:30\", \"2020-11-20T10:45:00+05:30\", \"2020-11-20T10:46:00+05:30\", \"2020-11-20T10:47:00+05:30\", \"2020-11-20T10:48:00+05:30\", \"2020-11-20T10:49:00+05:30\", \"2020-11-20T10:50:00+05:30\", \"2020-11-20T10:51:00+05:30\", \"2020-11-20T10:52:00+05:30\", \"2020-11-20T10:53:00+05:30\", \"2020-11-20T10:54:00+05:30\", \"2020-11-20T10:55:00+05:30\", \"2020-11-20T10:56:00+05:30\", \"2020-11-20T10:57:00+05:30\", \"2020-11-20T10:58:00+05:30\", \"2020-11-20T10:59:00+05:30\", \"2020-11-20T11:00:00+05:30\", \"2020-11-20T11:01:00+05:30\", \"2020-11-20T11:02:00+05:30\", \"2020-11-20T11:03:00+05:30\", \"2020-11-20T11:04:00+05:30\", \"2020-11-20T11:05:00+05:30\", \"2020-11-20T11:06:00+05:30\", \"2020-11-20T11:07:00+05:30\", \"2020-11-20T11:08:00+05:30\", \"2020-11-20T11:09:00+05:30\", \"2020-11-20T11:10:00+05:30\", \"2020-11-20T11:11:00+05:30\", \"2020-11-20T11:12:00+05:30\", \"2020-11-20T11:13:00+05:30\", \"2020-11-20T11:14:00+05:30\", \"2020-11-20T11:15:00+05:30\", \"2020-11-20T11:16:00+05:30\", \"2020-11-20T11:17:00+05:30\", \"2020-11-20T11:18:00+05:30\", \"2020-11-20T11:19:00+05:30\", \"2020-11-20T11:20:00+05:30\", \"2020-11-20T11:21:00+05:30\", \"2020-11-20T11:22:00+05:30\", \"2020-11-20T11:23:00+05:30\", \"2020-11-20T11:24:00+05:30\", \"2020-11-20T11:25:00+05:30\", \"2020-11-20T11:26:00+05:30\", \"2020-11-20T11:27:00+05:30\", \"2020-11-20T11:28:00+05:30\", \"2020-11-20T11:29:00+05:30\", \"2020-11-20T11:30:00+05:30\", \"2020-11-20T11:31:00+05:30\", \"2020-11-20T11:32:00+05:30\", \"2020-11-20T11:33:00+05:30\", \"2020-11-20T11:34:00+05:30\", \"2020-11-20T11:35:00+05:30\", \"2020-11-20T11:36:00+05:30\", \"2020-11-20T11:37:00+05:30\", \"2020-11-20T11:38:00+05:30\", \"2020-11-20T11:39:00+05:30\", \"2020-11-20T11:40:00+05:30\", \"2020-11-20T11:41:00+05:30\", \"2020-11-20T11:42:00+05:30\", \"2020-11-20T11:43:00+05:30\", \"2020-11-20T11:44:00+05:30\", \"2020-11-20T11:45:00+05:30\", \"2020-11-20T11:46:00+05:30\", \"2020-11-20T11:47:00+05:30\", \"2020-11-20T11:48:00+05:30\", \"2020-11-20T11:49:00+05:30\", \"2020-11-20T11:50:00+05:30\", \"2020-11-20T11:51:00+05:30\", \"2020-11-20T11:52:00+05:30\", \"2020-11-20T11:53:00+05:30\", \"2020-11-20T11:54:00+05:30\", \"2020-11-20T11:55:00+05:30\", \"2020-11-20T11:56:00+05:30\", \"2020-11-20T11:57:00+05:30\", \"2020-11-20T11:58:00+05:30\", \"2020-11-20T11:59:00+05:30\", \"2020-11-20T12:00:00+05:30\", \"2020-11-20T12:01:00+05:30\", \"2020-11-20T12:02:00+05:30\", \"2020-11-20T12:03:00+05:30\", \"2020-11-20T12:04:00+05:30\", \"2020-11-20T12:05:00+05:30\", \"2020-11-20T12:06:00+05:30\", \"2020-11-20T12:07:00+05:30\", \"2020-11-20T12:08:00+05:30\", \"2020-11-20T12:09:00+05:30\", \"2020-11-20T12:10:00+05:30\", \"2020-11-20T12:11:00+05:30\", \"2020-11-20T12:12:00+05:30\", \"2020-11-20T12:13:00+05:30\", \"2020-11-20T12:14:00+05:30\", \"2020-11-20T12:15:00+05:30\", \"2020-11-20T12:16:00+05:30\", \"2020-11-20T12:17:00+05:30\", \"2020-11-20T12:18:00+05:30\", \"2020-11-20T12:19:00+05:30\", \"2020-11-20T12:20:00+05:30\", \"2020-11-20T12:21:00+05:30\", \"2020-11-20T12:22:00+05:30\", \"2020-11-20T12:23:00+05:30\", \"2020-11-20T12:24:00+05:30\", \"2020-11-20T12:25:00+05:30\", \"2020-11-20T12:26:00+05:30\", \"2020-11-20T12:27:00+05:30\", \"2020-11-20T12:28:00+05:30\", \"2020-11-20T12:29:00+05:30\", \"2020-11-20T12:30:00+05:30\", \"2020-11-20T12:31:00+05:30\", \"2020-11-20T12:32:00+05:30\", \"2020-11-20T12:33:00+05:30\", \"2020-11-20T12:34:00+05:30\", \"2020-11-20T12:35:00+05:30\", \"2020-11-20T12:36:00+05:30\", \"2020-11-20T12:37:00+05:30\", \"2020-11-20T12:38:00+05:30\", \"2020-11-20T12:39:00+05:30\", \"2020-11-20T12:40:00+05:30\", \"2020-11-20T12:41:00+05:30\", \"2020-11-20T12:42:00+05:30\", \"2020-11-20T12:43:00+05:30\", \"2020-11-20T12:44:00+05:30\", \"2020-11-20T12:45:00+05:30\", \"2020-11-20T12:46:00+05:30\", \"2020-11-20T12:47:00+05:30\", \"2020-11-20T12:48:00+05:30\", \"2020-11-20T12:49:00+05:30\", \"2020-11-20T12:50:00+05:30\", \"2020-11-20T12:51:00+05:30\", \"2020-11-20T12:52:00+05:30\", \"2020-11-20T12:53:00+05:30\", \"2020-11-20T12:54:00+05:30\", \"2020-11-20T12:55:00+05:30\", \"2020-11-20T12:56:00+05:30\", \"2020-11-20T12:57:00+05:30\", \"2020-11-20T12:58:00+05:30\", \"2020-11-20T12:59:00+05:30\", \"2020-11-20T13:00:00+05:30\", \"2020-11-20T13:01:00+05:30\", \"2020-11-20T13:02:00+05:30\", \"2020-11-20T13:03:00+05:30\", \"2020-11-20T13:04:00+05:30\", \"2020-11-20T13:05:00+05:30\", \"2020-11-20T13:06:00+05:30\", \"2020-11-20T13:07:00+05:30\", \"2020-11-20T13:08:00+05:30\", \"2020-11-20T13:09:00+05:30\", \"2020-11-20T13:10:00+05:30\", \"2020-11-20T13:11:00+05:30\", \"2020-11-20T13:12:00+05:30\", \"2020-11-20T13:13:00+05:30\", \"2020-11-20T13:14:00+05:30\", \"2020-11-20T13:15:00+05:30\", \"2020-11-20T13:16:00+05:30\", \"2020-11-20T13:17:00+05:30\", \"2020-11-20T13:18:00+05:30\", \"2020-11-20T13:19:00+05:30\", \"2020-11-20T13:20:00+05:30\", \"2020-11-20T13:21:00+05:30\", \"2020-11-20T13:22:00+05:30\", \"2020-11-20T13:23:00+05:30\", \"2020-11-20T13:24:00+05:30\", \"2020-11-20T13:25:00+05:30\", \"2020-11-20T13:26:00+05:30\", \"2020-11-20T13:27:00+05:30\", \"2020-11-20T13:28:00+05:30\", \"2020-11-20T13:29:00+05:30\", \"2020-11-20T13:30:00+05:30\", \"2020-11-20T13:31:00+05:30\", \"2020-11-20T13:32:00+05:30\", \"2020-11-20T13:33:00+05:30\", \"2020-11-20T13:34:00+05:30\", \"2020-11-20T13:35:00+05:30\", \"2020-11-20T13:36:00+05:30\", \"2020-11-20T13:37:00+05:30\", \"2020-11-20T13:38:00+05:30\", \"2020-11-20T13:39:00+05:30\", \"2020-11-20T13:40:00+05:30\", \"2020-11-20T13:41:00+05:30\", \"2020-11-20T13:42:00+05:30\", \"2020-11-20T13:43:00+05:30\", \"2020-11-20T13:44:00+05:30\", \"2020-11-20T13:45:00+05:30\", \"2020-11-20T13:46:00+05:30\", \"2020-11-20T13:47:00+05:30\", \"2020-11-20T13:48:00+05:30\", \"2020-11-20T13:49:00+05:30\", \"2020-11-20T13:50:00+05:30\", \"2020-11-20T13:51:00+05:30\", \"2020-11-20T13:52:00+05:30\", \"2020-11-20T13:53:00+05:30\", \"2020-11-20T13:54:00+05:30\", \"2020-11-20T13:55:00+05:30\", \"2020-11-20T13:56:00+05:30\", \"2020-11-20T13:57:00+05:30\", \"2020-11-20T13:58:00+05:30\", \"2020-11-20T13:59:00+05:30\", \"2020-11-20T14:00:00+05:30\", \"2020-11-20T14:01:00+05:30\", \"2020-11-20T14:02:00+05:30\", \"2020-11-20T14:03:00+05:30\", \"2020-11-20T14:04:00+05:30\", \"2020-11-20T14:05:00+05:30\", \"2020-11-20T14:06:00+05:30\", \"2020-11-20T14:07:00+05:30\", \"2020-11-20T14:08:00+05:30\", \"2020-11-20T14:09:00+05:30\", \"2020-11-20T14:10:00+05:30\", \"2020-11-20T14:11:00+05:30\", \"2020-11-20T14:12:00+05:30\", \"2020-11-20T14:13:00+05:30\", \"2020-11-20T14:14:00+05:30\", \"2020-11-20T14:15:00+05:30\", \"2020-11-20T14:16:00+05:30\", \"2020-11-20T14:17:00+05:30\", \"2020-11-20T14:18:00+05:30\", \"2020-11-20T14:19:00+05:30\", \"2020-11-20T14:20:00+05:30\", \"2020-11-20T14:21:00+05:30\", \"2020-11-20T14:22:00+05:30\", \"2020-11-20T14:23:00+05:30\", \"2020-11-20T14:24:00+05:30\", \"2020-11-20T14:25:00+05:30\", \"2020-11-20T14:26:00+05:30\", \"2020-11-20T14:27:00+05:30\", \"2020-11-20T14:28:00+05:30\", \"2020-11-20T14:29:00+05:30\", \"2020-11-20T14:30:00+05:30\", \"2020-11-20T14:31:00+05:30\", \"2020-11-20T14:32:00+05:30\", \"2020-11-20T14:33:00+05:30\", \"2020-11-20T14:34:00+05:30\", \"2020-11-20T14:35:00+05:30\", \"2020-11-20T14:36:00+05:30\", \"2020-11-20T14:37:00+05:30\", \"2020-11-20T14:38:00+05:30\", \"2020-11-20T14:39:00+05:30\", \"2020-11-20T14:40:00+05:30\", \"2020-11-20T14:41:00+05:30\", \"2020-11-20T14:42:00+05:30\", \"2020-11-20T14:43:00+05:30\", \"2020-11-20T14:44:00+05:30\", \"2020-11-20T14:45:00+05:30\", \"2020-11-20T14:46:00+05:30\", \"2020-11-20T14:47:00+05:30\", \"2020-11-20T14:48:00+05:30\", \"2020-11-20T14:49:00+05:30\", \"2020-11-20T14:50:00+05:30\", \"2020-11-20T14:51:00+05:30\", \"2020-11-20T14:52:00+05:30\", \"2020-11-20T14:53:00+05:30\", \"2020-11-20T14:54:00+05:30\", \"2020-11-20T14:55:00+05:30\", \"2020-11-20T14:56:00+05:30\", \"2020-11-20T14:57:00+05:30\", \"2020-11-20T14:58:00+05:30\", \"2020-11-20T14:59:00+05:30\", \"2020-11-20T15:00:00+05:30\", \"2020-11-20T15:01:00+05:30\", \"2020-11-20T15:02:00+05:30\", \"2020-11-20T15:03:00+05:30\", \"2020-11-20T15:04:00+05:30\", \"2020-11-20T15:05:00+05:30\", \"2020-11-20T15:06:00+05:30\", \"2020-11-20T15:07:00+05:30\", \"2020-11-20T15:08:00+05:30\", \"2020-11-20T15:09:00+05:30\", \"2020-11-20T15:10:00+05:30\", \"2020-11-20T15:11:00+05:30\", \"2020-11-20T15:12:00+05:30\", \"2020-11-20T15:13:00+05:30\", \"2020-11-20T15:14:00+05:30\", \"2020-11-20T15:15:00+05:30\", \"2020-11-20T15:16:00+05:30\", \"2020-11-20T15:17:00+05:30\", \"2020-11-20T15:18:00+05:30\", \"2020-11-20T15:19:00+05:30\", \"2020-11-20T15:20:00+05:30\", \"2020-11-20T15:21:00+05:30\", \"2020-11-20T15:22:00+05:30\", \"2020-11-20T15:23:00+05:30\", \"2020-11-20T15:24:00+05:30\", \"2020-11-20T15:25:00+05:30\", \"2020-11-20T15:26:00+05:30\", \"2020-11-20T15:27:00+05:30\", \"2020-11-20T15:28:00+05:30\", \"2020-11-20T15:29:00+05:30\"]}, {\"type\": \"scatter\", \"x\": [\"2020-11-20T09:16:00+05:30\", \"2020-11-20T09:17:00+05:30\", \"2020-11-20T09:18:00+05:30\", \"2020-11-20T09:19:00+05:30\", \"2020-11-20T09:20:00+05:30\", \"2020-11-20T09:21:00+05:30\", \"2020-11-20T09:22:00+05:30\", \"2020-11-20T09:23:00+05:30\", \"2020-11-20T09:24:00+05:30\", \"2020-11-20T09:25:00+05:30\", \"2020-11-20T09:26:00+05:30\", \"2020-11-20T09:27:00+05:30\", \"2020-11-20T09:28:00+05:30\", \"2020-11-20T09:29:00+05:30\", \"2020-11-20T09:30:00+05:30\", \"2020-11-20T09:31:00+05:30\", \"2020-11-20T09:32:00+05:30\", \"2020-11-20T09:33:00+05:30\", \"2020-11-20T09:34:00+05:30\", \"2020-11-20T09:35:00+05:30\", \"2020-11-20T09:36:00+05:30\", \"2020-11-20T09:37:00+05:30\", \"2020-11-20T09:38:00+05:30\", \"2020-11-20T09:39:00+05:30\", \"2020-11-20T09:40:00+05:30\", \"2020-11-20T09:41:00+05:30\", \"2020-11-20T09:42:00+05:30\", \"2020-11-20T09:43:00+05:30\", \"2020-11-20T09:44:00+05:30\", \"2020-11-20T09:45:00+05:30\", \"2020-11-20T09:46:00+05:30\", \"2020-11-20T09:47:00+05:30\", \"2020-11-20T09:48:00+05:30\", \"2020-11-20T09:49:00+05:30\", \"2020-11-20T09:50:00+05:30\", \"2020-11-20T09:51:00+05:30\", \"2020-11-20T09:52:00+05:30\", \"2020-11-20T09:53:00+05:30\", \"2020-11-20T09:54:00+05:30\", \"2020-11-20T09:55:00+05:30\", \"2020-11-20T09:56:00+05:30\", \"2020-11-20T09:57:00+05:30\", \"2020-11-20T09:58:00+05:30\", \"2020-11-20T09:59:00+05:30\", \"2020-11-20T10:00:00+05:30\", \"2020-11-20T10:01:00+05:30\", \"2020-11-20T10:02:00+05:30\", \"2020-11-20T10:03:00+05:30\", \"2020-11-20T10:04:00+05:30\", \"2020-11-20T10:05:00+05:30\", \"2020-11-20T10:06:00+05:30\", \"2020-11-20T10:07:00+05:30\", \"2020-11-20T10:08:00+05:30\", \"2020-11-20T10:09:00+05:30\", \"2020-11-20T10:10:00+05:30\", \"2020-11-20T10:11:00+05:30\", \"2020-11-20T10:12:00+05:30\", \"2020-11-20T10:13:00+05:30\", \"2020-11-20T10:14:00+05:30\", \"2020-11-20T10:15:00+05:30\", \"2020-11-20T10:16:00+05:30\", \"2020-11-20T10:17:00+05:30\", \"2020-11-20T10:18:00+05:30\", \"2020-11-20T10:19:00+05:30\", \"2020-11-20T10:20:00+05:30\", \"2020-11-20T10:21:00+05:30\", \"2020-11-20T10:22:00+05:30\", \"2020-11-20T10:23:00+05:30\", \"2020-11-20T10:24:00+05:30\", \"2020-11-20T10:25:00+05:30\", \"2020-11-20T10:26:00+05:30\", \"2020-11-20T10:27:00+05:30\", \"2020-11-20T10:28:00+05:30\", \"2020-11-20T10:29:00+05:30\", \"2020-11-20T10:30:00+05:30\", \"2020-11-20T10:31:00+05:30\", \"2020-11-20T10:32:00+05:30\", \"2020-11-20T10:33:00+05:30\", \"2020-11-20T10:34:00+05:30\", \"2020-11-20T10:35:00+05:30\", \"2020-11-20T10:36:00+05:30\", \"2020-11-20T10:37:00+05:30\", \"2020-11-20T10:38:00+05:30\", \"2020-11-20T10:39:00+05:30\", \"2020-11-20T10:40:00+05:30\", \"2020-11-20T10:41:00+05:30\", \"2020-11-20T10:42:00+05:30\", \"2020-11-20T10:43:00+05:30\", \"2020-11-20T10:44:00+05:30\", \"2020-11-20T10:45:00+05:30\", \"2020-11-20T10:46:00+05:30\", \"2020-11-20T10:47:00+05:30\", \"2020-11-20T10:48:00+05:30\", \"2020-11-20T10:49:00+05:30\", \"2020-11-20T10:50:00+05:30\", \"2020-11-20T10:51:00+05:30\", \"2020-11-20T10:52:00+05:30\", \"2020-11-20T10:53:00+05:30\", \"2020-11-20T10:54:00+05:30\", \"2020-11-20T10:55:00+05:30\", \"2020-11-20T10:56:00+05:30\", \"2020-11-20T10:57:00+05:30\", \"2020-11-20T10:58:00+05:30\", \"2020-11-20T10:59:00+05:30\", \"2020-11-20T11:00:00+05:30\", \"2020-11-20T11:01:00+05:30\", \"2020-11-20T11:02:00+05:30\", \"2020-11-20T11:03:00+05:30\", \"2020-11-20T11:04:00+05:30\", \"2020-11-20T11:05:00+05:30\", \"2020-11-20T11:06:00+05:30\", \"2020-11-20T11:07:00+05:30\", \"2020-11-20T11:08:00+05:30\", \"2020-11-20T11:09:00+05:30\", \"2020-11-20T11:10:00+05:30\", \"2020-11-20T11:11:00+05:30\", \"2020-11-20T11:12:00+05:30\", \"2020-11-20T11:13:00+05:30\", \"2020-11-20T11:14:00+05:30\", \"2020-11-20T11:15:00+05:30\", \"2020-11-20T11:16:00+05:30\", \"2020-11-20T11:17:00+05:30\", \"2020-11-20T11:18:00+05:30\", \"2020-11-20T11:19:00+05:30\", \"2020-11-20T11:20:00+05:30\", \"2020-11-20T11:21:00+05:30\", \"2020-11-20T11:22:00+05:30\", \"2020-11-20T11:23:00+05:30\", \"2020-11-20T11:24:00+05:30\", \"2020-11-20T11:25:00+05:30\", \"2020-11-20T11:26:00+05:30\", \"2020-11-20T11:27:00+05:30\", \"2020-11-20T11:28:00+05:30\", \"2020-11-20T11:29:00+05:30\", \"2020-11-20T11:30:00+05:30\", \"2020-11-20T11:31:00+05:30\", \"2020-11-20T11:32:00+05:30\", \"2020-11-20T11:33:00+05:30\", \"2020-11-20T11:34:00+05:30\", \"2020-11-20T11:35:00+05:30\", \"2020-11-20T11:36:00+05:30\", \"2020-11-20T11:37:00+05:30\", \"2020-11-20T11:38:00+05:30\", \"2020-11-20T11:39:00+05:30\", \"2020-11-20T11:40:00+05:30\", \"2020-11-20T11:41:00+05:30\", \"2020-11-20T11:42:00+05:30\", \"2020-11-20T11:43:00+05:30\", \"2020-11-20T11:44:00+05:30\", \"2020-11-20T11:45:00+05:30\", \"2020-11-20T11:46:00+05:30\", \"2020-11-20T11:47:00+05:30\", \"2020-11-20T11:48:00+05:30\", \"2020-11-20T11:49:00+05:30\", \"2020-11-20T11:50:00+05:30\", \"2020-11-20T11:51:00+05:30\", \"2020-11-20T11:52:00+05:30\", \"2020-11-20T11:53:00+05:30\", \"2020-11-20T11:54:00+05:30\", \"2020-11-20T11:55:00+05:30\", \"2020-11-20T11:56:00+05:30\", \"2020-11-20T11:57:00+05:30\", \"2020-11-20T11:58:00+05:30\", \"2020-11-20T11:59:00+05:30\", \"2020-11-20T12:00:00+05:30\", \"2020-11-20T12:01:00+05:30\", \"2020-11-20T12:02:00+05:30\", \"2020-11-20T12:03:00+05:30\", \"2020-11-20T12:04:00+05:30\", \"2020-11-20T12:05:00+05:30\", \"2020-11-20T12:06:00+05:30\", \"2020-11-20T12:07:00+05:30\", \"2020-11-20T12:08:00+05:30\", \"2020-11-20T12:09:00+05:30\", \"2020-11-20T12:10:00+05:30\", \"2020-11-20T12:11:00+05:30\", \"2020-11-20T12:12:00+05:30\", \"2020-11-20T12:13:00+05:30\", \"2020-11-20T12:14:00+05:30\", \"2020-11-20T12:15:00+05:30\", \"2020-11-20T12:16:00+05:30\", \"2020-11-20T12:17:00+05:30\", \"2020-11-20T12:18:00+05:30\", \"2020-11-20T12:19:00+05:30\", \"2020-11-20T12:20:00+05:30\", \"2020-11-20T12:21:00+05:30\", \"2020-11-20T12:22:00+05:30\", \"2020-11-20T12:23:00+05:30\", \"2020-11-20T12:24:00+05:30\", \"2020-11-20T12:25:00+05:30\", \"2020-11-20T12:26:00+05:30\", \"2020-11-20T12:27:00+05:30\", \"2020-11-20T12:28:00+05:30\", \"2020-11-20T12:29:00+05:30\", \"2020-11-20T12:30:00+05:30\", \"2020-11-20T12:31:00+05:30\", \"2020-11-20T12:32:00+05:30\", \"2020-11-20T12:33:00+05:30\", \"2020-11-20T12:34:00+05:30\", \"2020-11-20T12:35:00+05:30\", \"2020-11-20T12:36:00+05:30\", \"2020-11-20T12:37:00+05:30\", \"2020-11-20T12:38:00+05:30\", \"2020-11-20T12:39:00+05:30\", \"2020-11-20T12:40:00+05:30\", \"2020-11-20T12:41:00+05:30\", \"2020-11-20T12:42:00+05:30\", \"2020-11-20T12:43:00+05:30\", \"2020-11-20T12:44:00+05:30\", \"2020-11-20T12:45:00+05:30\", \"2020-11-20T12:46:00+05:30\", \"2020-11-20T12:47:00+05:30\", \"2020-11-20T12:48:00+05:30\", \"2020-11-20T12:49:00+05:30\", \"2020-11-20T12:50:00+05:30\", \"2020-11-20T12:51:00+05:30\", \"2020-11-20T12:52:00+05:30\", \"2020-11-20T12:53:00+05:30\", \"2020-11-20T12:54:00+05:30\", \"2020-11-20T12:55:00+05:30\", \"2020-11-20T12:56:00+05:30\", \"2020-11-20T12:57:00+05:30\", \"2020-11-20T12:58:00+05:30\", \"2020-11-20T12:59:00+05:30\", \"2020-11-20T13:00:00+05:30\", \"2020-11-20T13:01:00+05:30\", \"2020-11-20T13:02:00+05:30\", \"2020-11-20T13:03:00+05:30\", \"2020-11-20T13:04:00+05:30\", \"2020-11-20T13:05:00+05:30\", \"2020-11-20T13:06:00+05:30\", \"2020-11-20T13:07:00+05:30\", \"2020-11-20T13:08:00+05:30\", \"2020-11-20T13:09:00+05:30\", \"2020-11-20T13:10:00+05:30\", \"2020-11-20T13:11:00+05:30\", \"2020-11-20T13:12:00+05:30\", \"2020-11-20T13:13:00+05:30\", \"2020-11-20T13:14:00+05:30\", \"2020-11-20T13:15:00+05:30\", \"2020-11-20T13:16:00+05:30\", \"2020-11-20T13:17:00+05:30\", \"2020-11-20T13:18:00+05:30\", \"2020-11-20T13:19:00+05:30\", \"2020-11-20T13:20:00+05:30\", \"2020-11-20T13:21:00+05:30\", \"2020-11-20T13:22:00+05:30\", \"2020-11-20T13:23:00+05:30\", \"2020-11-20T13:24:00+05:30\", \"2020-11-20T13:25:00+05:30\", \"2020-11-20T13:26:00+05:30\", \"2020-11-20T13:27:00+05:30\", \"2020-11-20T13:28:00+05:30\", \"2020-11-20T13:29:00+05:30\", \"2020-11-20T13:30:00+05:30\", \"2020-11-20T13:31:00+05:30\", \"2020-11-20T13:32:00+05:30\", \"2020-11-20T13:33:00+05:30\", \"2020-11-20T13:34:00+05:30\", \"2020-11-20T13:35:00+05:30\", \"2020-11-20T13:36:00+05:30\", \"2020-11-20T13:37:00+05:30\", \"2020-11-20T13:38:00+05:30\", \"2020-11-20T13:39:00+05:30\", \"2020-11-20T13:40:00+05:30\", \"2020-11-20T13:41:00+05:30\", \"2020-11-20T13:42:00+05:30\", \"2020-11-20T13:43:00+05:30\", \"2020-11-20T13:44:00+05:30\", \"2020-11-20T13:45:00+05:30\", \"2020-11-20T13:46:00+05:30\", \"2020-11-20T13:47:00+05:30\", \"2020-11-20T13:48:00+05:30\", \"2020-11-20T13:49:00+05:30\", \"2020-11-20T13:50:00+05:30\", \"2020-11-20T13:51:00+05:30\", \"2020-11-20T13:52:00+05:30\", \"2020-11-20T13:53:00+05:30\", \"2020-11-20T13:54:00+05:30\", \"2020-11-20T13:55:00+05:30\", \"2020-11-20T13:56:00+05:30\", \"2020-11-20T13:57:00+05:30\", \"2020-11-20T13:58:00+05:30\", \"2020-11-20T13:59:00+05:30\", \"2020-11-20T14:00:00+05:30\", \"2020-11-20T14:01:00+05:30\", \"2020-11-20T14:02:00+05:30\", \"2020-11-20T14:03:00+05:30\", \"2020-11-20T14:04:00+05:30\", \"2020-11-20T14:05:00+05:30\", \"2020-11-20T14:06:00+05:30\", \"2020-11-20T14:07:00+05:30\", \"2020-11-20T14:08:00+05:30\", \"2020-11-20T14:09:00+05:30\", \"2020-11-20T14:10:00+05:30\", \"2020-11-20T14:11:00+05:30\", \"2020-11-20T14:12:00+05:30\", \"2020-11-20T14:13:00+05:30\", \"2020-11-20T14:14:00+05:30\", \"2020-11-20T14:15:00+05:30\", \"2020-11-20T14:16:00+05:30\", \"2020-11-20T14:17:00+05:30\", \"2020-11-20T14:18:00+05:30\", \"2020-11-20T14:19:00+05:30\", \"2020-11-20T14:20:00+05:30\", \"2020-11-20T14:21:00+05:30\", \"2020-11-20T14:22:00+05:30\", \"2020-11-20T14:23:00+05:30\", \"2020-11-20T14:24:00+05:30\", \"2020-11-20T14:25:00+05:30\", \"2020-11-20T14:26:00+05:30\", \"2020-11-20T14:27:00+05:30\", \"2020-11-20T14:28:00+05:30\", \"2020-11-20T14:29:00+05:30\", \"2020-11-20T14:30:00+05:30\", \"2020-11-20T14:31:00+05:30\", \"2020-11-20T14:32:00+05:30\", \"2020-11-20T14:33:00+05:30\", \"2020-11-20T14:34:00+05:30\", \"2020-11-20T14:35:00+05:30\", \"2020-11-20T14:36:00+05:30\", \"2020-11-20T14:37:00+05:30\", \"2020-11-20T14:38:00+05:30\", \"2020-11-20T14:39:00+05:30\", \"2020-11-20T14:40:00+05:30\", \"2020-11-20T14:41:00+05:30\", \"2020-11-20T14:42:00+05:30\", \"2020-11-20T14:43:00+05:30\", \"2020-11-20T14:44:00+05:30\", \"2020-11-20T14:45:00+05:30\", \"2020-11-20T14:46:00+05:30\", \"2020-11-20T14:47:00+05:30\", \"2020-11-20T14:48:00+05:30\", \"2020-11-20T14:49:00+05:30\", \"2020-11-20T14:50:00+05:30\", \"2020-11-20T14:51:00+05:30\", \"2020-11-20T14:52:00+05:30\", \"2020-11-20T14:53:00+05:30\", \"2020-11-20T14:54:00+05:30\", \"2020-11-20T14:55:00+05:30\", \"2020-11-20T14:56:00+05:30\", \"2020-11-20T14:57:00+05:30\", \"2020-11-20T14:58:00+05:30\", \"2020-11-20T14:59:00+05:30\", \"2020-11-20T15:00:00+05:30\", \"2020-11-20T15:01:00+05:30\", \"2020-11-20T15:02:00+05:30\", \"2020-11-20T15:03:00+05:30\", \"2020-11-20T15:04:00+05:30\", \"2020-11-20T15:05:00+05:30\", \"2020-11-20T15:06:00+05:30\", \"2020-11-20T15:07:00+05:30\", \"2020-11-20T15:08:00+05:30\", \"2020-11-20T15:09:00+05:30\", \"2020-11-20T15:10:00+05:30\", \"2020-11-20T15:11:00+05:30\", \"2020-11-20T15:12:00+05:30\", \"2020-11-20T15:13:00+05:30\", \"2020-11-20T15:14:00+05:30\", \"2020-11-20T15:15:00+05:30\", \"2020-11-20T15:16:00+05:30\", \"2020-11-20T15:17:00+05:30\", \"2020-11-20T15:18:00+05:30\", \"2020-11-20T15:19:00+05:30\", \"2020-11-20T15:20:00+05:30\", \"2020-11-20T15:21:00+05:30\", \"2020-11-20T15:22:00+05:30\", \"2020-11-20T15:23:00+05:30\", \"2020-11-20T15:24:00+05:30\", \"2020-11-20T15:25:00+05:30\", \"2020-11-20T15:26:00+05:30\", \"2020-11-20T15:27:00+05:30\", \"2020-11-20T15:28:00+05:30\", \"2020-11-20T15:29:00+05:30\"], \"y\": [241.88333129882812, 242.41032384052502, 242.71592810758023, 242.80392024984917, 242.85231522230876, 242.82720608746774, 242.81691931750865, 242.77319543958296, 242.6747419747023, 242.5338158046153, 242.2724429807303, 242.14189287762073, 241.90755164249987, 241.81334505488445, 241.6942621332661, 241.4921624622531, 241.30212264645624, 241.17889891456264, 241.03711103844836, 240.97240376757665, 240.92486405106433, 240.90661210342142, 240.8371100281326, 240.76944987309264, 240.73028172027958, 240.70267061450437, 240.690987799524, 240.67442940900074, 240.6545571469245, 240.63418039497535, 240.61136653455378, 240.60256871124542, 240.55723055766416, 240.53285755368296, 240.51477970111694, 240.48377782437146, 240.42695987427615, 240.3964769322586, 240.3593200777979, 240.328870117378, 240.30265453497853, 240.20433979753918, 240.16710900281848, 240.1229678283025, 240.09774749761826, 240.08118144315324, 240.05757743226636, 240.0412212342172, 240.03226848683866, 240.0124673891724, 239.99560902971885, 239.9893185904809, 239.9804061714566, 239.95470451989766, 239.94425846734367, 239.93425353290164, 239.9249719898924, 239.91756228077105, 239.9094031128062, 239.89345180973427, 239.8841744304757, 239.87795759117427, 239.87001222168323, 239.8646211172974, 239.8604887225293, 239.85249377579296, 239.84712898432866, 239.8346635160191, 239.82563798846522, 239.81543256680342, 239.80952177156703, 239.79807182209575, 239.79131802272178, 239.7855366688221, 239.78259604645487, 239.77595131171915, 239.77378039218465, 239.76806264259216, 239.76241798051265, 239.75980441939433, 239.75755912875712, 239.75105432012526, 239.74788480514417, 239.7320393456778, 239.7218225466815, 239.71188132274122, 239.70557221724042, 239.57943841263435, 239.51635278654814, 239.47830585613443, 239.45709376049098, 239.39924713992065, 239.3516681948875, 239.32646377159944, 239.27054452450875, 239.17520287256767, 239.04833424277757, 239.01528156128938, 238.9761348798699, 238.9467029913993, 238.91811409425708, 238.8891369122798, 238.874665408501, 238.85677198346295, 238.8387198615335, 238.8139338079277, 238.80402951768062, 238.7953681958516, 238.77878129901364, 238.77166336842333, 238.75990943532707, 238.75305397585024, 238.74218686512168, 238.7327584026166, 238.71983339926078, 238.71213597842092, 238.70372301230978, 238.68832998981944, 238.65894646785964, 238.62972159293977, 238.61529615097027, 238.60104744537534, 238.5840429109112, 238.55207377844687, 238.5353430761719, 238.48573100033352, 238.46623813600695, 238.4536144198195, 238.4472556232023, 238.42120546876606, 238.40301880051666, 238.38941140026577, 238.3817940862644, 238.37431515296657, 238.3646364568233, 238.35223011077068, 238.33961980176647, 238.3316223226052, 238.32779319917717, 238.3237507374361, 238.3079745679528, 238.30089637864575, 238.29570790031357, 238.2904822293107, 238.28462011607488, 238.2808767499703, 238.2726519174982, 238.26729940251332, 238.262961969385, 238.2564198790091, 238.24450251734473, 238.23884744816272, 238.2334096139722, 238.22429212033734, 238.22174817656017, 238.21226736868218, 238.20835336749937, 238.20139121635398, 238.1949926755975, 238.1915157605335, 238.17292255688423, 238.15889728559367, 238.14652600058932, 238.12849735534945, 238.12146829125382, 238.112275893748, 238.10723775295747, 238.09974760890748, 238.0924273216101, 238.08727805916635, 238.07677841048437, 238.07105388907627, 238.06660272282727, 238.06315664118856, 238.06101399322145, 238.05615955808432, 238.05074258511345, 238.04493347776165, 238.03996590961208, 238.036416444569, 238.03372585203152, 238.02522989757855, 238.01684726276918, 238.01365629827148, 238.00817227252116, 238.00386591409432, 237.99914182306065, 237.99667199828778, 237.9921655230499, 237.99060823961636, 237.98932906247796, 237.98471977643476, 237.98082001624977, 237.97949166613577, 237.97732881702672, 237.97497126258648, 237.96843243154046, 237.96170775283665, 237.96029919715448, 237.95898562267874, 237.95628705374935, 237.95432589664648, 237.94887181943366, 237.942150425969, 237.9392083025827, 237.93250731345475, 237.92903167372864, 237.92589084594687, 237.92095299678692, 237.91705202297987, 237.9140784975615, 237.9115806366222, 237.9106035664349, 237.90951333060121, 237.90474623813842, 237.9020874750715, 237.9001878039199, 237.89772417842616, 237.89533784650803, 237.8945860087215, 237.89351742351914, 237.8924550608108, 237.89068894517646, 237.8876477609047, 237.87928870610304, 237.89280546783326, 237.8993340369965, 237.9674556499802, 238.00849071322813, 238.09664642914265, 238.1648100765816, 238.21205804261908, 238.23238822850206, 238.24580614727526, 238.25324640552404, 238.26264945101417, 238.27235568937633, 238.29036401468605, 238.30082771760544, 238.30935724403886, 238.31645060873706, 238.32806458157955, 238.33445344496766, 238.34009178462688, 238.34265279428615, 238.3446069575781, 238.34662023111957, 238.34847746353412, 238.35131551212444, 238.3564010790713, 238.3585805986584, 238.3615988295603, 238.36476059646625, 238.36686218447997, 238.3707923054529, 238.37949136839268, 238.3806038130837, 238.38119044008045, 238.3831739210248, 238.38591836758894, 238.3894027646033, 238.3915825759683, 238.4005704014196, 238.40266974390562, 238.4063733735305, 238.41062306049798, 238.41365092023548, 238.42927739740992, 238.43457863754395, 238.45688538382717, 238.46977298364737, 238.48592231114586, 238.49512523915655, 238.50624329841753, 238.55776556833717, 238.58108643688044, 238.597225035999, 238.64815472523955, 238.66786530056646, 238.69076370543092, 238.70080547170548, 238.71025848897483, 238.72997473001212, 238.7441469063303, 238.7755712226467, 238.78426981471392, 238.79453191149605, 238.80623515450077, 238.81652942368623, 238.82164294654072, 238.82955683677608, 238.83518528625078, 238.84041780008351, 238.84500933437516, 238.85045002851112, 238.85587494780225, 238.86106809505108, 238.87262558000606, 238.8779407721809, 238.90524408567586, 239.01245042497877, 239.03528437395929, 239.07069572472008, 239.13342767386317, 239.21691394288655, 239.2629998706218, 239.2985486362396, 239.31172657652357, 239.32167942743538, 239.34406634425304, 239.3637247584419, 239.38622276839558, 239.42831824763658, 239.44767221868426, 239.4988097550024, 239.51782544175964, 239.53047990362623, 239.54584948003983, 239.555057000318, 239.56367354209908, 239.56928980416595, 239.57329453816507, 239.57658876847597, 239.5815096600783, 239.5855365238738, 239.59854108015406, 239.61332115779663, 239.6198547836428, 239.6367482436791, 239.65249517160325, 239.6628570912045, 239.66686314407755, 239.673560308523, 239.67840801986296, 239.68246428296612, 239.68768686253625, 239.69225271756778, 239.6967993555623, 239.70000577099776, 239.70271695948847, 239.7097716009131, 239.71415013385865, 239.7280048403359, 239.73461479933687, 239.74143722933283, 239.74527924337792, 239.75486878818197, 239.76154765693525, 239.77239158088383, 239.7798278487852, 239.7853641896777, 239.79260044519026, 239.8006931997222, 239.80949724283235, 239.82072441662473, 239.82758948327378, 239.83839279309117, 239.84775524378705, 239.85598625179838, 239.8668798923846, 239.87645238086557, 239.8892972914592, 239.8962439648924, 239.9020102797056, 239.91970320232323, 239.93252191934445, 239.94112359926208, 239.94353451306225, 239.94484886792952, 239.94872663823165, 239.95124080011433, 239.95609608184193, 239.9691098689998, 239.975636784494]}],\n",
              "                        {\"template\": {\"data\": {\"bar\": [{\"error_x\": {\"color\": \"#2a3f5f\"}, \"error_y\": {\"color\": \"#2a3f5f\"}, \"marker\": {\"line\": {\"color\": \"#E5ECF6\", \"width\": 0.5}}, \"type\": \"bar\"}], \"barpolar\": [{\"marker\": {\"line\": {\"color\": \"#E5ECF6\", \"width\": 0.5}}, \"type\": \"barpolar\"}], \"carpet\": [{\"aaxis\": {\"endlinecolor\": \"#2a3f5f\", \"gridcolor\": \"white\", \"linecolor\": \"white\", \"minorgridcolor\": \"white\", \"startlinecolor\": \"#2a3f5f\"}, \"baxis\": {\"endlinecolor\": \"#2a3f5f\", \"gridcolor\": \"white\", \"linecolor\": \"white\", \"minorgridcolor\": \"white\", \"startlinecolor\": \"#2a3f5f\"}, \"type\": \"carpet\"}], \"choropleth\": [{\"colorbar\": {\"outlinewidth\": 0, \"ticks\": \"\"}, \"type\": \"choropleth\"}], \"contour\": [{\"colorbar\": {\"outlinewidth\": 0, \"ticks\": \"\"}, \"colorscale\": [[0.0, \"#0d0887\"], [0.1111111111111111, \"#46039f\"], [0.2222222222222222, \"#7201a8\"], [0.3333333333333333, \"#9c179e\"], [0.4444444444444444, \"#bd3786\"], [0.5555555555555556, \"#d8576b\"], [0.6666666666666666, \"#ed7953\"], [0.7777777777777778, \"#fb9f3a\"], [0.8888888888888888, \"#fdca26\"], [1.0, \"#f0f921\"]], \"type\": \"contour\"}], \"contourcarpet\": [{\"colorbar\": {\"outlinewidth\": 0, \"ticks\": \"\"}, \"type\": \"contourcarpet\"}], \"heatmap\": [{\"colorbar\": {\"outlinewidth\": 0, \"ticks\": \"\"}, \"colorscale\": [[0.0, \"#0d0887\"], [0.1111111111111111, \"#46039f\"], [0.2222222222222222, \"#7201a8\"], [0.3333333333333333, \"#9c179e\"], [0.4444444444444444, \"#bd3786\"], [0.5555555555555556, \"#d8576b\"], [0.6666666666666666, \"#ed7953\"], [0.7777777777777778, \"#fb9f3a\"], [0.8888888888888888, \"#fdca26\"], [1.0, \"#f0f921\"]], \"type\": \"heatmap\"}], \"heatmapgl\": [{\"colorbar\": {\"outlinewidth\": 0, \"ticks\": \"\"}, \"colorscale\": [[0.0, \"#0d0887\"], [0.1111111111111111, \"#46039f\"], [0.2222222222222222, \"#7201a8\"], [0.3333333333333333, \"#9c179e\"], [0.4444444444444444, \"#bd3786\"], [0.5555555555555556, \"#d8576b\"], [0.6666666666666666, \"#ed7953\"], [0.7777777777777778, \"#fb9f3a\"], [0.8888888888888888, \"#fdca26\"], [1.0, \"#f0f921\"]], \"type\": \"heatmapgl\"}], \"histogram\": [{\"marker\": {\"colorbar\": {\"outlinewidth\": 0, \"ticks\": \"\"}}, \"type\": \"histogram\"}], \"histogram2d\": [{\"colorbar\": {\"outlinewidth\": 0, \"ticks\": \"\"}, \"colorscale\": [[0.0, \"#0d0887\"], [0.1111111111111111, \"#46039f\"], [0.2222222222222222, \"#7201a8\"], [0.3333333333333333, \"#9c179e\"], [0.4444444444444444, \"#bd3786\"], [0.5555555555555556, \"#d8576b\"], [0.6666666666666666, \"#ed7953\"], [0.7777777777777778, \"#fb9f3a\"], [0.8888888888888888, \"#fdca26\"], [1.0, \"#f0f921\"]], \"type\": \"histogram2d\"}], \"histogram2dcontour\": [{\"colorbar\": {\"outlinewidth\": 0, \"ticks\": \"\"}, \"colorscale\": [[0.0, \"#0d0887\"], [0.1111111111111111, \"#46039f\"], [0.2222222222222222, \"#7201a8\"], [0.3333333333333333, \"#9c179e\"], [0.4444444444444444, \"#bd3786\"], [0.5555555555555556, \"#d8576b\"], [0.6666666666666666, \"#ed7953\"], [0.7777777777777778, \"#fb9f3a\"], [0.8888888888888888, \"#fdca26\"], [1.0, \"#f0f921\"]], \"type\": \"histogram2dcontour\"}], \"mesh3d\": [{\"colorbar\": {\"outlinewidth\": 0, \"ticks\": \"\"}, \"type\": \"mesh3d\"}], \"parcoords\": [{\"line\": {\"colorbar\": {\"outlinewidth\": 0, \"ticks\": \"\"}}, \"type\": \"parcoords\"}], \"pie\": [{\"automargin\": true, \"type\": \"pie\"}], \"scatter\": [{\"marker\": {\"colorbar\": {\"outlinewidth\": 0, \"ticks\": \"\"}}, \"type\": \"scatter\"}], \"scatter3d\": [{\"line\": {\"colorbar\": {\"outlinewidth\": 0, \"ticks\": \"\"}}, \"marker\": {\"colorbar\": {\"outlinewidth\": 0, \"ticks\": \"\"}}, \"type\": \"scatter3d\"}], \"scattercarpet\": [{\"marker\": {\"colorbar\": {\"outlinewidth\": 0, \"ticks\": \"\"}}, \"type\": \"scattercarpet\"}], \"scattergeo\": [{\"marker\": {\"colorbar\": {\"outlinewidth\": 0, \"ticks\": \"\"}}, \"type\": \"scattergeo\"}], \"scattergl\": [{\"marker\": {\"colorbar\": {\"outlinewidth\": 0, \"ticks\": \"\"}}, \"type\": \"scattergl\"}], \"scattermapbox\": [{\"marker\": {\"colorbar\": {\"outlinewidth\": 0, \"ticks\": \"\"}}, \"type\": \"scattermapbox\"}], \"scatterpolar\": [{\"marker\": {\"colorbar\": {\"outlinewidth\": 0, \"ticks\": \"\"}}, \"type\": \"scatterpolar\"}], \"scatterpolargl\": [{\"marker\": {\"colorbar\": {\"outlinewidth\": 0, \"ticks\": \"\"}}, \"type\": \"scatterpolargl\"}], \"scatterternary\": [{\"marker\": {\"colorbar\": {\"outlinewidth\": 0, \"ticks\": \"\"}}, \"type\": \"scatterternary\"}], \"surface\": [{\"colorbar\": {\"outlinewidth\": 0, \"ticks\": \"\"}, \"colorscale\": [[0.0, \"#0d0887\"], [0.1111111111111111, \"#46039f\"], [0.2222222222222222, \"#7201a8\"], [0.3333333333333333, \"#9c179e\"], [0.4444444444444444, \"#bd3786\"], [0.5555555555555556, \"#d8576b\"], [0.6666666666666666, \"#ed7953\"], [0.7777777777777778, \"#fb9f3a\"], [0.8888888888888888, \"#fdca26\"], [1.0, \"#f0f921\"]], \"type\": \"surface\"}], \"table\": [{\"cells\": {\"fill\": {\"color\": \"#EBF0F8\"}, \"line\": {\"color\": \"white\"}}, \"header\": {\"fill\": {\"color\": \"#C8D4E3\"}, \"line\": {\"color\": \"white\"}}, \"type\": \"table\"}]}, \"layout\": {\"annotationdefaults\": {\"arrowcolor\": \"#2a3f5f\", \"arrowhead\": 0, \"arrowwidth\": 1}, \"coloraxis\": {\"colorbar\": {\"outlinewidth\": 0, \"ticks\": \"\"}}, \"colorscale\": {\"diverging\": [[0, \"#8e0152\"], [0.1, \"#c51b7d\"], [0.2, \"#de77ae\"], [0.3, \"#f1b6da\"], [0.4, \"#fde0ef\"], [0.5, \"#f7f7f7\"], [0.6, \"#e6f5d0\"], [0.7, \"#b8e186\"], [0.8, \"#7fbc41\"], [0.9, \"#4d9221\"], [1, \"#276419\"]], \"sequential\": [[0.0, \"#0d0887\"], [0.1111111111111111, \"#46039f\"], [0.2222222222222222, \"#7201a8\"], [0.3333333333333333, \"#9c179e\"], [0.4444444444444444, \"#bd3786\"], [0.5555555555555556, \"#d8576b\"], [0.6666666666666666, \"#ed7953\"], [0.7777777777777778, \"#fb9f3a\"], [0.8888888888888888, \"#fdca26\"], [1.0, \"#f0f921\"]], \"sequentialminus\": [[0.0, \"#0d0887\"], [0.1111111111111111, \"#46039f\"], [0.2222222222222222, \"#7201a8\"], [0.3333333333333333, \"#9c179e\"], [0.4444444444444444, \"#bd3786\"], [0.5555555555555556, \"#d8576b\"], [0.6666666666666666, \"#ed7953\"], [0.7777777777777778, \"#fb9f3a\"], [0.8888888888888888, \"#fdca26\"], [1.0, \"#f0f921\"]]}, \"colorway\": [\"#636efa\", \"#EF553B\", \"#00cc96\", \"#ab63fa\", \"#FFA15A\", \"#19d3f3\", \"#FF6692\", \"#B6E880\", \"#FF97FF\", \"#FECB52\"], \"font\": {\"color\": \"#2a3f5f\"}, \"geo\": {\"bgcolor\": \"white\", \"lakecolor\": \"white\", \"landcolor\": \"#E5ECF6\", \"showlakes\": true, \"showland\": true, \"subunitcolor\": \"white\"}, \"hoverlabel\": {\"align\": \"left\"}, \"hovermode\": \"closest\", \"mapbox\": {\"style\": \"light\"}, \"paper_bgcolor\": \"white\", \"plot_bgcolor\": \"#E5ECF6\", \"polar\": {\"angularaxis\": {\"gridcolor\": \"white\", \"linecolor\": \"white\", \"ticks\": \"\"}, \"bgcolor\": \"#E5ECF6\", \"radialaxis\": {\"gridcolor\": \"white\", \"linecolor\": \"white\", \"ticks\": \"\"}}, \"scene\": {\"xaxis\": {\"backgroundcolor\": \"#E5ECF6\", \"gridcolor\": \"white\", \"gridwidth\": 2, \"linecolor\": \"white\", \"showbackground\": true, \"ticks\": \"\", \"zerolinecolor\": \"white\"}, \"yaxis\": {\"backgroundcolor\": \"#E5ECF6\", \"gridcolor\": \"white\", \"gridwidth\": 2, \"linecolor\": \"white\", \"showbackground\": true, \"ticks\": \"\", \"zerolinecolor\": \"white\"}, \"zaxis\": {\"backgroundcolor\": \"#E5ECF6\", \"gridcolor\": \"white\", \"gridwidth\": 2, \"linecolor\": \"white\", \"showbackground\": true, \"ticks\": \"\", \"zerolinecolor\": \"white\"}}, \"shapedefaults\": {\"line\": {\"color\": \"#2a3f5f\"}}, \"ternary\": {\"aaxis\": {\"gridcolor\": \"white\", \"linecolor\": \"white\", \"ticks\": \"\"}, \"baxis\": {\"gridcolor\": \"white\", \"linecolor\": \"white\", \"ticks\": \"\"}, \"bgcolor\": \"#E5ECF6\", \"caxis\": {\"gridcolor\": \"white\", \"linecolor\": \"white\", \"ticks\": \"\"}}, \"title\": {\"x\": 0.05}, \"xaxis\": {\"automargin\": true, \"gridcolor\": \"white\", \"linecolor\": \"white\", \"ticks\": \"\", \"title\": {\"standoff\": 15}, \"zerolinecolor\": \"white\", \"zerolinewidth\": 2}, \"yaxis\": {\"automargin\": true, \"gridcolor\": \"white\", \"linecolor\": \"white\", \"ticks\": \"\", \"title\": {\"standoff\": 15}, \"zerolinecolor\": \"white\", \"zerolinewidth\": 2}}}},\n",
              "                        {\"responsive\": true}\n",
              "                    ).then(function(){\n",
              "                            \n",
              "var gd = document.getElementById('bfa561a3-18f5-4b8f-9b07-be60194b547f');\n",
              "var x = new MutationObserver(function (mutations, observer) {{\n",
              "        var display = window.getComputedStyle(gd).display;\n",
              "        if (!display || display === 'none') {{\n",
              "            console.log([gd, 'removed!']);\n",
              "            Plotly.purge(gd);\n",
              "            observer.disconnect();\n",
              "        }}\n",
              "}});\n",
              "\n",
              "// Listen for the removal of the full notebook cells\n",
              "var notebookContainer = gd.closest('#notebook-container');\n",
              "if (notebookContainer) {{\n",
              "    x.observe(notebookContainer, {childList: true});\n",
              "}}\n",
              "\n",
              "// Listen for the clearing of the current output cell\n",
              "var outputEl = gd.closest('.output');\n",
              "if (outputEl) {{\n",
              "    x.observe(outputEl, {childList: true});\n",
              "}}\n",
              "\n",
              "                        })\n",
              "                };\n",
              "                \n",
              "            </script>\n",
              "        </div>\n",
              "</body>\n",
              "</html>"
            ]
          },
          "metadata": {
            "tags": []
          }
        }
      ]
    },
    {
      "cell_type": "markdown",
      "metadata": {
        "id": "7Ugpyk4ut_9m"
      },
      "source": [
        "#### Using Numpy"
      ]
    },
    {
      "cell_type": "code",
      "metadata": {
        "id": "LrQPfxDAl_GS"
      },
      "source": [
        "V = my_stocks.Volume.values\n",
        "O = my_stocks.Open.values\n",
        "C = my_stocks.Close.values\n",
        "H = my_stocks.High.values\n",
        "\n",
        "vwap_numpy = np.cumsum(V*(O+C+H)/3) / np.cumsum(V)"
      ],
      "execution_count": 90,
      "outputs": []
    },
    {
      "cell_type": "code",
      "metadata": {
        "colab": {
          "base_uri": "https://localhost:8080/",
          "height": 542
        },
        "id": "HrfVjRnKte9s",
        "outputId": "a7bc1a67-de55-4c73-96f2-10ac7c601332"
      },
      "source": [
        "#vwap_numpy\n",
        "\n",
        "# declare a figure\n",
        "fig=go.Figure()\n",
        "\n",
        "fig.add_trace(go.Candlestick(x=my_stocks.index, open=my_stocks['Open'], high=my_stocks['High'], low=my_stocks['Low'], close=my_stocks['Close'], name = 'Market Data'))\n",
        "\n",
        "fig.add_trace(go.Scatter(x=my_stocks.index, y=vwap_numpy))\n",
        "\n",
        "fig.show()"
      ],
      "execution_count": 91,
      "outputs": [
        {
          "output_type": "display_data",
          "data": {
            "text/html": [
              "<html>\n",
              "<head><meta charset=\"utf-8\" /></head>\n",
              "<body>\n",
              "    <div>\n",
              "            <script src=\"https://cdnjs.cloudflare.com/ajax/libs/mathjax/2.7.5/MathJax.js?config=TeX-AMS-MML_SVG\"></script><script type=\"text/javascript\">if (window.MathJax) {MathJax.Hub.Config({SVG: {font: \"STIX-Web\"}});}</script>\n",
              "                <script type=\"text/javascript\">window.PlotlyConfig = {MathJaxConfig: 'local'};</script>\n",
              "        <script src=\"https://cdn.plot.ly/plotly-latest.min.js\"></script>    \n",
              "            <div id=\"29d55874-de0e-49cb-94df-d07c6b069b56\" class=\"plotly-graph-div\" style=\"height:525px; width:100%;\"></div>\n",
              "            <script type=\"text/javascript\">\n",
              "                \n",
              "                    window.PLOTLYENV=window.PLOTLYENV || {};\n",
              "                    \n",
              "                if (document.getElementById(\"29d55874-de0e-49cb-94df-d07c6b069b56\")) {\n",
              "                    Plotly.newPlot(\n",
              "                        '29d55874-de0e-49cb-94df-d07c6b069b56',\n",
              "                        [{\"close\": [242.0, 243.25, 243.3000030517578, 243.0, 242.35000610351562, 242.39999389648438, 242.5, 241.85000610351562, 241.0500030517578, 240.5500030517578, 240.0500030517578, 239.9499969482422, 239.25, 239.4499969482422, 238.6999969482422, 238.0500030517578, 238.0, 238.1999969482422, 238.8000030517578, 239.10000610351562, 239.3000030517578, 239.75, 238.35000610351562, 239.14999389648438, 239.5, 239.5, 239.5500030517578, 238.9499969482422, 238.75, 238.6999969482422, 238.5, 238.85000610351562, 238.0500030517578, 238.3000030517578, 238.0, 237.64999389648438, 237.6999969482422, 237.64999389648438, 237.9499969482422, 237.3000030517578, 237.5, 236.9499969482422, 236.85000610351562, 237.5, 237.85000610351562, 237.75, 237.9499969482422, 237.85000610351562, 237.5, 237.39999389648438, 237.39999389648438, 237.4499969482422, 238.0, 238.35000610351562, 238.14999389648438, 238.0, 238.5, 238.3000030517578, 238.4499969482422, 237.85000610351562, 237.9499969482422, 238.4499969482422, 238.6999969482422, 238.75, 238.6999969482422, 238.9499969482422, 238.5, 237.6999969482422, 237.85000610351562, 237.85000610351562, 237.8000030517578, 237.64999389648438, 238.1999969482422, 238.0500030517578, 237.89999389648438, 237.9499969482422, 237.85000610351562, 237.89999389648438, 238.0500030517578, 238.0500030517578, 237.89999389648438, 237.75, 237.8000030517578, 237.35000610351562, 237.5, 237.6999969482422, 237.35000610351562, 236.64999389648438, 236.10000610351562, 236.4499969482422, 236.0500030517578, 236.25, 235.9499969482422, 235.89999389648438, 235.5, 234.75, 234.39999389648438, 234.89999389648438, 235.10000610351562, 234.35000610351562, 234.6999969482422, 235.14999389648438, 235.10000610351562, 234.89999389648438, 235.0, 235.25, 235.39999389648438, 235.0500030517578, 235.0, 234.9499969482422, 235.1999969482422, 235.35000610351562, 235.5, 235.64999389648438, 235.4499969482422, 235.25, 235.0500030517578, 234.89999389648438, 234.5, 234.85000610351562, 234.85000610351562, 234.4499969482422, 234.8000030517578, 234.85000610351562, 234.64999389648438, 234.4499969482422, 234.4499969482422, 234.64999389648438, 234.64999389648438, 235.0, 235.25, 235.6999969482422, 235.4499969482422, 235.1999969482422, 235.5, 235.89999389648438, 235.5, 235.4499969482422, 235.25, 235.0500030517578, 234.9499969482422, 234.9499969482422, 235.3000030517578, 235.1999969482422, 235.3000030517578, 235.39999389648438, 235.6999969482422, 235.5500030517578, 235.6999969482422, 235.0500030517578, 235.0, 235.10000610351562, 235.0, 234.9499969482422, 234.85000610351562, 234.9499969482422, 235.10000610351562, 235.14999389648438, 235.5500030517578, 235.60000610351562, 236.14999389648438, 236.5500030517578, 236.5, 237.0500030517578, 237.25, 236.60000610351562, 236.64999389648438, 236.0500030517578, 236.25, 236.10000610351562, 235.85000610351562, 236.1999969482422, 236.1999969482422, 236.60000610351562, 236.1999969482422, 235.89999389648438, 236.0500030517578, 236.0, 235.89999389648438, 236.0, 236.0500030517578, 235.5500030517578, 235.5500030517578, 235.64999389648438, 235.5, 235.4499969482422, 235.39999389648438, 235.64999389648438, 235.85000610351562, 235.64999389648438, 235.8000030517578, 236.35000610351562, 236.0500030517578, 236.14999389648438, 236.25, 236.1999969482422, 236.8000030517578, 236.35000610351562, 236.4499969482422, 236.25, 236.25, 236.10000610351562, 236.0, 235.64999389648438, 235.75, 235.5, 235.75, 235.89999389648438, 236.10000610351562, 236.14999389648438, 236.10000610351562, 236.25, 236.3000030517578, 236.35000610351562, 236.5, 236.25, 236.3000030517578, 236.5, 236.4499969482422, 236.25, 236.39999389648438, 236.39999389648438, 236.5, 236.10000610351562, 236.9499969482422, 238.8000030517578, 238.14999389648438, 240.5500030517578, 240.5500030517578, 241.5500030517578, 241.5, 240.39999389648438, 240.0500030517578, 240.14999389648438, 240.4499969482422, 240.6999969482422, 240.64999389648438, 241.14999389648438, 240.75, 240.35000610351562, 240.3000030517578, 240.14999389648438, 240.0500030517578, 239.5500030517578, 239.85000610351562, 239.89999389648438, 239.85000610351562, 239.89999389648438, 239.89999389648438, 239.10000610351562, 239.35000610351562, 239.5500030517578, 239.39999389648438, 239.4499969482422, 239.75, 238.64999389648438, 238.25, 238.64999389648438, 239.25, 239.14999389648438, 239.0500030517578, 239.4499969482422, 239.89999389648438, 239.89999389648438, 239.89999389648438, 240.1999969482422, 240.3000030517578, 240.75, 240.85000610351562, 241.39999389648438, 241.60000610351562, 241.5, 241.35000610351562, 241.6999969482422, 242.64999389648438, 242.3000030517578, 242.60000610351562, 242.85000610351562, 243.0, 242.3000030517578, 242.4499969482422, 242.85000610351562, 243.0, 242.60000610351562, 242.89999389648438, 242.75, 242.75, 242.35000610351562, 242.89999389648438, 242.5500030517578, 242.39999389648438, 242.6999969482422, 242.5, 242.75, 242.6999969482422, 242.85000610351562, 242.60000610351562, 242.5500030517578, 242.35000610351562, 242.9499969482422, 244.14999389648438, 244.25, 244.60000610351562, 245.0, 244.9499969482422, 245.10000610351562, 244.6999969482422, 244.6999969482422, 244.8000030517578, 245.1999969482422, 244.9499969482422, 244.1999969482422, 243.64999389648438, 243.3000030517578, 242.10000610351562, 242.0500030517578, 242.89999389648438, 243.4499969482422, 243.14999389648438, 242.5500030517578, 242.9499969482422, 242.85000610351562, 242.89999389648438, 242.75, 242.6999969482422, 243.3000030517578, 243.75, 243.4499969482422, 244.35000610351562, 243.89999389648438, 244.0, 243.8000030517578, 243.60000610351562, 243.4499969482422, 243.25, 243.4499969482422, 243.8000030517578, 243.5500030517578, 243.64999389648438, 243.75, 243.4499969482422, 243.60000610351562, 244.10000610351562, 244.0500030517578, 243.8000030517578, 243.8000030517578, 243.3000030517578, 243.1999969482422, 243.0, 243.0500030517578, 243.35000610351562, 243.6999969482422, 243.39999389648438, 243.35000610351562, 243.35000610351562, 243.4499969482422, 243.4499969482422, 243.4499969482422, 243.39999389648438, 243.35000610351562, 243.10000610351562, 242.85000610351562, 242.89999389648438, 242.89999389648438, 242.5, 242.0500030517578, 241.4499969482422, 241.4499969482422, 241.60000610351562, 241.64999389648438, 241.64999389648438, 241.75, 241.9499969482422, 242.10000610351562], \"high\": [242.0, 243.39999389648438, 243.8000030517578, 243.39999389648438, 243.5500030517578, 242.89999389648438, 242.8000030517578, 242.6999969482422, 241.85000610351562, 241.25, 240.5500030517578, 240.35000610351562, 240.0, 239.64999389648438, 239.75, 239.14999389648438, 238.3000030517578, 238.3000030517578, 238.8000030517578, 239.5, 239.39999389648438, 239.75, 239.8000030517578, 239.14999389648438, 239.60000610351562, 239.8000030517578, 239.6999969482422, 239.5500030517578, 239.0, 239.1999969482422, 238.75, 239.0, 238.75, 238.4499969482422, 238.39999389648438, 238.10000610351562, 237.85000610351562, 237.6999969482422, 238.14999389648438, 237.89999389648438, 237.60000610351562, 237.4499969482422, 236.9499969482422, 237.5, 237.85000610351562, 237.85000610351562, 238.3000030517578, 238.0, 237.85000610351562, 237.75, 237.75, 237.60000610351562, 238.0, 238.35000610351562, 238.39999389648438, 238.1999969482422, 238.5500030517578, 238.60000610351562, 238.6999969482422, 238.4499969482422, 238.10000610351562, 238.60000610351562, 238.75, 238.89999389648438, 238.85000610351562, 239.0, 239.0, 238.5500030517578, 238.10000610351562, 238.0, 238.10000610351562, 238.0, 238.3000030517578, 238.25, 238.1999969482422, 238.10000610351562, 238.0, 237.9499969482422, 238.1999969482422, 238.10000610351562, 238.0500030517578, 238.10000610351562, 237.85000610351562, 238.0, 237.5500030517578, 237.6999969482422, 237.64999389648438, 237.39999389648438, 236.8000030517578, 236.5, 236.5, 236.35000610351562, 236.1999969482422, 236.0, 235.9499969482422, 235.5, 234.64999389648438, 234.89999389648438, 235.25, 235.1999969482422, 234.89999389648438, 235.3000030517578, 235.35000610351562, 235.10000610351562, 235.0, 235.5, 235.4499969482422, 235.4499969482422, 235.14999389648438, 235.0, 235.3000030517578, 235.39999389648438, 235.5, 235.75, 235.64999389648438, 235.5, 235.3000030517578, 235.25, 234.9499969482422, 234.85000610351562, 234.85000610351562, 234.85000610351562, 234.89999389648438, 235.0500030517578, 235.10000610351562, 234.6999969482422, 234.5, 234.6999969482422, 234.8000030517578, 235.1999969482422, 235.39999389648438, 235.6999969482422, 235.6999969482422, 235.39999389648438, 235.64999389648438, 235.9499969482422, 235.9499969482422, 235.60000610351562, 235.4499969482422, 235.3000030517578, 235.0500030517578, 235.1999969482422, 235.3000030517578, 235.39999389648438, 235.39999389648438, 235.39999389648438, 235.6999969482422, 235.8000030517578, 235.6999969482422, 235.6999969482422, 235.14999389648438, 235.1999969482422, 235.14999389648438, 235.10000610351562, 235.0, 235.0500030517578, 235.3000030517578, 235.25, 235.60000610351562, 235.6999969482422, 236.14999389648438, 236.5500030517578, 236.8000030517578, 237.60000610351562, 237.39999389648438, 237.25, 236.6999969482422, 236.6999969482422, 236.4499969482422, 236.3000030517578, 236.14999389648438, 236.3000030517578, 236.3000030517578, 236.60000610351562, 236.5500030517578, 236.25, 236.14999389648438, 236.14999389648438, 236.14999389648438, 236.0500030517578, 236.14999389648438, 236.0500030517578, 235.60000610351562, 235.75, 235.9499969482422, 235.5500030517578, 235.5500030517578, 235.64999389648438, 235.85000610351562, 235.8000030517578, 235.8000030517578, 236.35000610351562, 236.35000610351562, 236.1999969482422, 236.3000030517578, 236.25, 236.85000610351562, 236.8000030517578, 236.5, 236.5, 236.4499969482422, 236.39999389648438, 236.1999969482422, 236.0, 235.8000030517578, 235.8000030517578, 235.89999389648438, 235.89999389648438, 236.25, 236.39999389648438, 236.14999389648438, 236.35000610351562, 236.39999389648438, 236.39999389648438, 236.60000610351562, 236.5, 236.4499969482422, 236.5500030517578, 236.60000610351562, 236.4499969482422, 236.4499969482422, 236.4499969482422, 236.60000610351562, 236.5, 237.1999969482422, 239.0500030517578, 238.75, 240.85000610351562, 240.8000030517578, 242.0, 242.60000610351562, 241.60000610351562, 241.0, 240.6999969482422, 240.4499969482422, 240.75, 240.9499969482422, 241.25, 241.14999389648438, 241.0, 240.60000610351562, 240.3000030517578, 240.14999389648438, 240.1999969482422, 240.0, 239.89999389648438, 239.89999389648438, 240.0, 240.0, 239.89999389648438, 239.5, 239.60000610351562, 239.5500030517578, 239.60000610351562, 240.0, 239.75, 238.8000030517578, 238.75, 239.35000610351562, 239.5, 239.4499969482422, 239.5, 240.5500030517578, 240.0, 240.10000610351562, 240.4499969482422, 240.39999389648438, 241.10000610351562, 240.9499969482422, 241.64999389648438, 241.8000030517578, 241.89999389648438, 241.60000610351562, 241.6999969482422, 242.9499969482422, 242.6999969482422, 242.6999969482422, 243.25, 243.14999389648438, 243.0500030517578, 242.5, 242.9499969482422, 243.10000610351562, 243.0, 243.35000610351562, 243.0500030517578, 243.0, 242.89999389648438, 243.0, 242.85000610351562, 242.60000610351562, 242.8000030517578, 242.75, 242.8000030517578, 242.89999389648438, 242.85000610351562, 242.85000610351562, 242.64999389648438, 242.64999389648438, 243.25, 244.4499969482422, 244.4499969482422, 244.85000610351562, 245.0, 245.25, 245.39999389648438, 245.0, 244.89999389648438, 244.85000610351562, 245.3000030517578, 245.3000030517578, 244.9499969482422, 244.1999969482422, 244.14999389648438, 243.35000610351562, 242.60000610351562, 243.0, 243.5500030517578, 243.5, 243.14999389648438, 242.9499969482422, 243.14999389648438, 243.10000610351562, 242.89999389648438, 242.89999389648438, 243.3000030517578, 243.9499969482422, 243.89999389648438, 244.35000610351562, 244.4499969482422, 244.25, 244.0, 244.0, 243.60000610351562, 243.4499969482422, 243.64999389648438, 243.8000030517578, 243.8000030517578, 243.75, 243.8000030517578, 243.75, 243.60000610351562, 244.1999969482422, 244.1999969482422, 244.14999389648438, 243.89999389648438, 243.85000610351562, 243.4499969482422, 243.35000610351562, 243.1999969482422, 243.5, 243.6999969482422, 243.6999969482422, 243.5, 243.5500030517578, 243.5, 243.60000610351562, 243.60000610351562, 243.60000610351562, 243.60000610351562, 243.39999389648438, 243.1999969482422, 243.0, 242.9499969482422, 242.89999389648438, 242.6999969482422, 242.14999389648438, 241.5, 241.75, 241.9499969482422, 241.8000030517578, 241.85000610351562, 242.0500030517578, 242.25], \"low\": [240.89999389648438, 242.0, 243.14999389648438, 242.60000610351562, 242.3000030517578, 242.1999969482422, 242.39999389648438, 241.8000030517578, 241.0500030517578, 240.5500030517578, 239.6999969482422, 239.64999389648438, 238.5500030517578, 239.0500030517578, 238.6999969482422, 238.0, 237.60000610351562, 237.64999389648438, 238.0, 238.75, 238.85000610351562, 239.1999969482422, 238.1999969482422, 237.9499969482422, 238.89999389648438, 239.35000610351562, 239.5, 238.8000030517578, 238.5, 238.60000610351562, 238.25, 238.39999389648438, 238.0, 238.0, 238.0, 237.64999389648438, 237.3000030517578, 237.5, 237.5500030517578, 237.3000030517578, 237.25, 236.5500030517578, 236.64999389648438, 236.64999389648438, 237.25, 237.4499969482422, 237.75, 237.5, 237.5, 237.35000610351562, 237.3000030517578, 237.35000610351562, 237.5, 237.8000030517578, 238.0, 237.89999389648438, 238.0, 238.3000030517578, 238.3000030517578, 237.6999969482422, 237.85000610351562, 237.89999389648438, 238.39999389648438, 238.60000610351562, 238.64999389648438, 238.60000610351562, 238.4499969482422, 237.5500030517578, 237.64999389648438, 237.75, 237.8000030517578, 237.64999389648438, 237.6999969482422, 237.85000610351562, 237.89999389648438, 237.8000030517578, 237.8000030517578, 237.64999389648438, 237.85000610351562, 237.9499969482422, 237.8000030517578, 237.75, 237.6999969482422, 237.35000610351562, 237.3000030517578, 237.3000030517578, 237.3000030517578, 236.3000030517578, 236.10000610351562, 236.0, 236.0500030517578, 235.60000610351562, 235.75, 235.75, 235.39999389648438, 234.60000610351562, 234.10000610351562, 234.3000030517578, 234.75, 234.25, 234.3000030517578, 234.64999389648438, 235.0, 234.8000030517578, 234.5500030517578, 234.9499969482422, 235.1999969482422, 235.0500030517578, 234.8000030517578, 234.8000030517578, 234.85000610351562, 235.14999389648438, 235.35000610351562, 235.39999389648438, 235.3000030517578, 235.1999969482422, 235.0, 234.89999389648438, 234.5, 234.3000030517578, 234.64999389648438, 234.39999389648438, 234.39999389648438, 234.64999389648438, 234.5, 234.0500030517578, 234.0500030517578, 234.35000610351562, 234.60000610351562, 234.6999969482422, 235.0, 235.1999969482422, 235.1999969482422, 235.10000610351562, 235.14999389648438, 235.5, 235.39999389648438, 235.1999969482422, 235.1999969482422, 235.0500030517578, 234.8000030517578, 234.9499969482422, 234.9499969482422, 235.10000610351562, 235.10000610351562, 235.25, 235.3000030517578, 235.39999389648438, 235.5, 235.0, 234.8000030517578, 234.9499969482422, 235.0, 234.8000030517578, 234.85000610351562, 234.85000610351562, 234.9499969482422, 234.89999389648438, 235.14999389648438, 235.5, 235.4499969482422, 235.85000610351562, 236.35000610351562, 236.35000610351562, 236.9499969482422, 236.60000610351562, 236.35000610351562, 236.0, 235.9499969482422, 236.0, 235.85000610351562, 235.6999969482422, 236.0, 236.10000610351562, 236.10000610351562, 235.89999389648438, 235.89999389648438, 236.0, 235.89999389648438, 235.85000610351562, 236.0, 235.5500030517578, 235.1999969482422, 235.39999389648438, 235.39999389648438, 235.3000030517578, 235.3000030517578, 235.39999389648438, 235.5500030517578, 235.64999389648438, 235.64999389648438, 235.75, 235.9499969482422, 235.9499969482422, 236.14999389648438, 236.0, 236.14999389648438, 236.0500030517578, 236.25, 236.25, 236.25, 236.10000610351562, 235.89999389648438, 235.5500030517578, 235.60000610351562, 235.3000030517578, 235.4499969482422, 235.5, 235.8000030517578, 235.9499969482422, 236.0, 236.0, 236.14999389648438, 236.25, 236.25, 236.14999389648438, 236.1999969482422, 236.25, 236.39999389648438, 236.1999969482422, 236.1999969482422, 236.3000030517578, 236.3000030517578, 236.0, 236.0, 236.8000030517578, 238.0, 238.14999389648438, 240.0500030517578, 240.6999969482422, 241.25, 239.89999389648438, 240.0500030517578, 239.60000610351562, 240.0500030517578, 240.35000610351562, 240.60000610351562, 240.4499969482422, 240.75, 240.35000610351562, 240.10000610351562, 239.8000030517578, 239.8000030517578, 239.4499969482422, 239.60000610351562, 239.64999389648438, 239.8000030517578, 239.8000030517578, 239.85000610351562, 239.10000610351562, 239.10000610351562, 239.35000610351562, 239.14999389648438, 239.3000030517578, 239.39999389648438, 238.39999389648438, 238.0, 238.25, 238.64999389648438, 239.10000610351562, 239.0500030517578, 239.0, 239.39999389648438, 239.5500030517578, 239.8000030517578, 239.75, 240.10000610351562, 240.1999969482422, 240.60000610351562, 240.8000030517578, 241.3000030517578, 241.5, 241.3000030517578, 241.3000030517578, 241.64999389648438, 242.25, 242.25, 242.64999389648438, 242.60000610351562, 242.0, 242.1999969482422, 242.39999389648438, 242.5500030517578, 242.5500030517578, 242.60000610351562, 242.60000610351562, 242.75, 242.35000610351562, 242.39999389648438, 242.35000610351562, 242.39999389648438, 242.39999389648438, 242.5, 242.5, 242.60000610351562, 242.6999969482422, 242.60000610351562, 242.14999389648438, 242.35000610351562, 242.39999389648438, 242.89999389648438, 244.10000610351562, 244.1999969482422, 244.5500030517578, 244.8000030517578, 244.85000610351562, 244.3000030517578, 244.5500030517578, 244.60000610351562, 244.75, 244.85000610351562, 244.1999969482422, 243.35000610351562, 243.25, 241.6999969482422, 242.0, 242.0, 242.89999389648438, 243.0, 242.5, 242.5500030517578, 242.8000030517578, 242.8000030517578, 242.60000610351562, 242.60000610351562, 242.6999969482422, 243.3000030517578, 243.25, 243.35000610351562, 243.8000030517578, 243.85000610351562, 243.8000030517578, 243.5, 243.25, 243.1999969482422, 243.14999389648438, 243.39999389648438, 243.5, 243.5, 243.64999389648438, 243.39999389648438, 243.3000030517578, 243.5500030517578, 243.89999389648438, 243.75, 243.6999969482422, 243.3000030517578, 243.10000610351562, 242.8000030517578, 242.8000030517578, 243.0500030517578, 243.3000030517578, 243.35000610351562, 243.25, 243.3000030517578, 243.25, 243.35000610351562, 243.39999389648438, 243.39999389648438, 243.25, 243.10000610351562, 242.8000030517578, 242.8000030517578, 242.8000030517578, 242.4499969482422, 242.0, 241.35000610351562, 241.3000030517578, 241.39999389648438, 241.60000610351562, 241.60000610351562, 241.60000610351562, 241.64999389648438, 241.64999389648438], \"name\": \"Market Data\", \"open\": [241.64999389648438, 242.0, 243.3000030517578, 243.1999969482422, 243.3000030517578, 242.1999969482422, 242.4499969482422, 242.5500030517578, 241.6999969482422, 241.0, 240.5500030517578, 240.10000610351562, 240.0, 239.0500030517578, 239.5, 238.85000610351562, 238.0500030517578, 237.89999389648438, 238.14999389648438, 238.8000030517578, 239.14999389648438, 239.25, 239.64999389648438, 238.39999389648438, 238.89999389648438, 239.39999389648438, 239.60000610351562, 239.4499969482422, 238.9499969482422, 238.6999969482422, 238.60000610351562, 238.5, 238.75, 238.0, 238.35000610351562, 238.0, 237.5, 237.5500030517578, 237.60000610351562, 237.89999389648438, 237.35000610351562, 237.4499969482422, 236.9499969482422, 236.75, 237.3000030517578, 237.6999969482422, 237.75, 238.0, 237.85000610351562, 237.5, 237.5, 237.39999389648438, 237.5500030517578, 237.89999389648438, 238.39999389648438, 238.14999389648438, 238.10000610351562, 238.5, 238.3000030517578, 238.4499969482422, 237.85000610351562, 238.0, 238.5, 238.6999969482422, 238.8000030517578, 238.75, 238.89999389648438, 238.5, 237.75, 237.8000030517578, 237.85000610351562, 237.89999389648438, 237.8000030517578, 238.1999969482422, 238.0500030517578, 237.89999389648438, 237.9499969482422, 237.85000610351562, 238.0, 238.0500030517578, 238.0500030517578, 237.8000030517578, 237.75, 237.89999389648438, 237.39999389648438, 237.39999389648438, 237.64999389648438, 237.39999389648438, 236.5, 236.10000610351562, 236.5, 236.0500030517578, 236.1999969482422, 235.89999389648438, 235.8000030517578, 235.5, 234.60000610351562, 234.35000610351562, 234.85000610351562, 235.14999389648438, 234.3000030517578, 234.64999389648438, 235.3000030517578, 235.10000610351562, 234.85000610351562, 235.0, 235.25, 235.4499969482422, 235.0500030517578, 235.0, 234.85000610351562, 235.25, 235.35000610351562, 235.5, 235.60000610351562, 235.4499969482422, 235.3000030517578, 235.0500030517578, 234.89999389648438, 234.5, 234.85000610351562, 234.6999969482422, 234.4499969482422, 234.89999389648438, 234.85000610351562, 234.64999389648438, 234.39999389648438, 234.4499969482422, 234.6999969482422, 234.75, 235.0500030517578, 235.35000610351562, 235.64999389648438, 235.3000030517578, 235.1999969482422, 235.5500030517578, 235.9499969482422, 235.5, 235.4499969482422, 235.14999389648438, 235.0500030517578, 234.9499969482422, 235.0, 235.25, 235.1999969482422, 235.35000610351562, 235.3000030517578, 235.60000610351562, 235.5, 235.64999389648438, 235.14999389648438, 234.9499969482422, 235.0500030517578, 235.0500030517578, 234.9499969482422, 234.89999389648438, 234.9499969482422, 235.0, 235.1999969482422, 235.60000610351562, 235.5, 236.14999389648438, 236.5, 236.5, 237.0, 237.10000610351562, 236.6999969482422, 236.64999389648438, 236.0, 236.1999969482422, 236.14999389648438, 235.8000030517578, 236.1999969482422, 236.1999969482422, 236.5, 236.14999389648438, 235.9499969482422, 236.0, 236.10000610351562, 235.9499969482422, 236.10000610351562, 236.0, 235.60000610351562, 235.60000610351562, 235.5500030517578, 235.4499969482422, 235.35000610351562, 235.5, 235.60000610351562, 235.75, 235.8000030517578, 235.75, 236.35000610351562, 236.0, 236.1999969482422, 236.25, 236.14999389648438, 236.75, 236.39999389648438, 236.5, 236.3000030517578, 236.3000030517578, 236.10000610351562, 235.89999389648438, 235.64999389648438, 235.6999969482422, 235.4499969482422, 235.60000610351562, 235.8000030517578, 236.0, 236.14999389648438, 236.0, 236.3000030517578, 236.25, 236.25, 236.4499969482422, 236.25, 236.3000030517578, 236.4499969482422, 236.4499969482422, 236.25, 236.4499969482422, 236.39999389648438, 236.4499969482422, 236.0500030517578, 236.89999389648438, 238.75, 238.1999969482422, 240.64999389648438, 240.6999969482422, 241.5, 241.5500030517578, 240.4499969482422, 240.10000610351562, 240.14999389648438, 240.39999389648438, 240.75, 240.6999969482422, 241.14999389648438, 240.85000610351562, 240.60000610351562, 240.25, 240.0500030517578, 240.0500030517578, 239.6999969482422, 239.85000610351562, 239.85000610351562, 239.85000610351562, 239.9499969482422, 239.89999389648438, 239.1999969482422, 239.39999389648438, 239.5, 239.35000610351562, 239.5, 239.75, 238.64999389648438, 238.25, 238.64999389648438, 239.25, 239.1999969482422, 239.0500030517578, 239.39999389648438, 239.8000030517578, 239.9499969482422, 239.8000030517578, 240.1999969482422, 240.3000030517578, 240.75, 240.89999389648438, 241.39999389648438, 241.6999969482422, 241.4499969482422, 241.3000030517578, 241.8000030517578, 242.64999389648438, 242.25, 242.75, 242.8000030517578, 243.0500030517578, 242.1999969482422, 242.39999389648438, 242.89999389648438, 243.0, 242.60000610351562, 242.85000610351562, 242.8000030517578, 242.75, 242.39999389648438, 242.6999969482422, 242.5, 242.39999389648438, 242.64999389648438, 242.5500030517578, 242.75, 242.8000030517578, 242.85000610351562, 242.64999389648438, 242.5500030517578, 242.39999389648438, 242.9499969482422, 244.10000610351562, 244.35000610351562, 244.60000610351562, 245.0, 244.85000610351562, 245.0, 244.60000610351562, 244.6999969482422, 244.8000030517578, 245.10000610351562, 244.8000030517578, 244.1999969482422, 243.60000610351562, 243.25, 242.1999969482422, 242.10000610351562, 243.0, 243.25, 243.14999389648438, 242.64999389648438, 243.0500030517578, 242.9499969482422, 242.85000610351562, 242.64999389648438, 242.6999969482422, 243.39999389648438, 243.75, 243.35000610351562, 244.3000030517578, 244.0, 244.0, 243.9499969482422, 243.5, 243.35000610351562, 243.25, 243.5500030517578, 243.8000030517578, 243.60000610351562, 243.64999389648438, 243.75, 243.4499969482422, 243.60000610351562, 244.10000610351562, 244.14999389648438, 243.85000610351562, 243.75, 243.3000030517578, 243.14999389648438, 242.89999389648438, 243.0500030517578, 243.35000610351562, 243.60000610351562, 243.4499969482422, 243.39999389648438, 243.5, 243.5, 243.5, 243.5500030517578, 243.5, 243.39999389648438, 243.1999969482422, 242.9499969482422, 242.8000030517578, 242.85000610351562, 242.5, 242.0500030517578, 241.39999389648438, 241.4499969482422, 241.6999969482422, 241.64999389648438, 241.64999389648438, 241.6999969482422, 241.89999389648438], \"type\": \"candlestick\", \"x\": [\"2020-11-20T09:16:00+05:30\", \"2020-11-20T09:17:00+05:30\", \"2020-11-20T09:18:00+05:30\", \"2020-11-20T09:19:00+05:30\", \"2020-11-20T09:20:00+05:30\", \"2020-11-20T09:21:00+05:30\", \"2020-11-20T09:22:00+05:30\", \"2020-11-20T09:23:00+05:30\", \"2020-11-20T09:24:00+05:30\", \"2020-11-20T09:25:00+05:30\", \"2020-11-20T09:26:00+05:30\", \"2020-11-20T09:27:00+05:30\", \"2020-11-20T09:28:00+05:30\", \"2020-11-20T09:29:00+05:30\", \"2020-11-20T09:30:00+05:30\", \"2020-11-20T09:31:00+05:30\", \"2020-11-20T09:32:00+05:30\", \"2020-11-20T09:33:00+05:30\", \"2020-11-20T09:34:00+05:30\", \"2020-11-20T09:35:00+05:30\", \"2020-11-20T09:36:00+05:30\", \"2020-11-20T09:37:00+05:30\", \"2020-11-20T09:38:00+05:30\", \"2020-11-20T09:39:00+05:30\", \"2020-11-20T09:40:00+05:30\", \"2020-11-20T09:41:00+05:30\", \"2020-11-20T09:42:00+05:30\", \"2020-11-20T09:43:00+05:30\", \"2020-11-20T09:44:00+05:30\", \"2020-11-20T09:45:00+05:30\", \"2020-11-20T09:46:00+05:30\", \"2020-11-20T09:47:00+05:30\", \"2020-11-20T09:48:00+05:30\", \"2020-11-20T09:49:00+05:30\", \"2020-11-20T09:50:00+05:30\", \"2020-11-20T09:51:00+05:30\", \"2020-11-20T09:52:00+05:30\", \"2020-11-20T09:53:00+05:30\", \"2020-11-20T09:54:00+05:30\", \"2020-11-20T09:55:00+05:30\", \"2020-11-20T09:56:00+05:30\", \"2020-11-20T09:57:00+05:30\", \"2020-11-20T09:58:00+05:30\", \"2020-11-20T09:59:00+05:30\", \"2020-11-20T10:00:00+05:30\", \"2020-11-20T10:01:00+05:30\", \"2020-11-20T10:02:00+05:30\", \"2020-11-20T10:03:00+05:30\", \"2020-11-20T10:04:00+05:30\", \"2020-11-20T10:05:00+05:30\", \"2020-11-20T10:06:00+05:30\", \"2020-11-20T10:07:00+05:30\", \"2020-11-20T10:08:00+05:30\", \"2020-11-20T10:09:00+05:30\", \"2020-11-20T10:10:00+05:30\", \"2020-11-20T10:11:00+05:30\", \"2020-11-20T10:12:00+05:30\", \"2020-11-20T10:13:00+05:30\", \"2020-11-20T10:14:00+05:30\", \"2020-11-20T10:15:00+05:30\", \"2020-11-20T10:16:00+05:30\", \"2020-11-20T10:17:00+05:30\", \"2020-11-20T10:18:00+05:30\", \"2020-11-20T10:19:00+05:30\", \"2020-11-20T10:20:00+05:30\", \"2020-11-20T10:21:00+05:30\", \"2020-11-20T10:22:00+05:30\", \"2020-11-20T10:23:00+05:30\", \"2020-11-20T10:24:00+05:30\", \"2020-11-20T10:25:00+05:30\", \"2020-11-20T10:26:00+05:30\", \"2020-11-20T10:27:00+05:30\", \"2020-11-20T10:28:00+05:30\", \"2020-11-20T10:29:00+05:30\", \"2020-11-20T10:30:00+05:30\", \"2020-11-20T10:31:00+05:30\", \"2020-11-20T10:32:00+05:30\", \"2020-11-20T10:33:00+05:30\", \"2020-11-20T10:34:00+05:30\", \"2020-11-20T10:35:00+05:30\", \"2020-11-20T10:36:00+05:30\", \"2020-11-20T10:37:00+05:30\", \"2020-11-20T10:38:00+05:30\", \"2020-11-20T10:39:00+05:30\", \"2020-11-20T10:40:00+05:30\", \"2020-11-20T10:41:00+05:30\", \"2020-11-20T10:42:00+05:30\", \"2020-11-20T10:43:00+05:30\", \"2020-11-20T10:44:00+05:30\", \"2020-11-20T10:45:00+05:30\", \"2020-11-20T10:46:00+05:30\", \"2020-11-20T10:47:00+05:30\", \"2020-11-20T10:48:00+05:30\", \"2020-11-20T10:49:00+05:30\", \"2020-11-20T10:50:00+05:30\", \"2020-11-20T10:51:00+05:30\", \"2020-11-20T10:52:00+05:30\", \"2020-11-20T10:53:00+05:30\", \"2020-11-20T10:54:00+05:30\", \"2020-11-20T10:55:00+05:30\", \"2020-11-20T10:56:00+05:30\", \"2020-11-20T10:57:00+05:30\", \"2020-11-20T10:58:00+05:30\", \"2020-11-20T10:59:00+05:30\", \"2020-11-20T11:00:00+05:30\", \"2020-11-20T11:01:00+05:30\", \"2020-11-20T11:02:00+05:30\", \"2020-11-20T11:03:00+05:30\", \"2020-11-20T11:04:00+05:30\", \"2020-11-20T11:05:00+05:30\", \"2020-11-20T11:06:00+05:30\", \"2020-11-20T11:07:00+05:30\", \"2020-11-20T11:08:00+05:30\", \"2020-11-20T11:09:00+05:30\", \"2020-11-20T11:10:00+05:30\", \"2020-11-20T11:11:00+05:30\", \"2020-11-20T11:12:00+05:30\", \"2020-11-20T11:13:00+05:30\", \"2020-11-20T11:14:00+05:30\", \"2020-11-20T11:15:00+05:30\", \"2020-11-20T11:16:00+05:30\", \"2020-11-20T11:17:00+05:30\", \"2020-11-20T11:18:00+05:30\", \"2020-11-20T11:19:00+05:30\", \"2020-11-20T11:20:00+05:30\", \"2020-11-20T11:21:00+05:30\", \"2020-11-20T11:22:00+05:30\", \"2020-11-20T11:23:00+05:30\", \"2020-11-20T11:24:00+05:30\", \"2020-11-20T11:25:00+05:30\", \"2020-11-20T11:26:00+05:30\", \"2020-11-20T11:27:00+05:30\", \"2020-11-20T11:28:00+05:30\", \"2020-11-20T11:29:00+05:30\", \"2020-11-20T11:30:00+05:30\", \"2020-11-20T11:31:00+05:30\", \"2020-11-20T11:32:00+05:30\", \"2020-11-20T11:33:00+05:30\", \"2020-11-20T11:34:00+05:30\", \"2020-11-20T11:35:00+05:30\", \"2020-11-20T11:36:00+05:30\", \"2020-11-20T11:37:00+05:30\", \"2020-11-20T11:38:00+05:30\", \"2020-11-20T11:39:00+05:30\", \"2020-11-20T11:40:00+05:30\", \"2020-11-20T11:41:00+05:30\", \"2020-11-20T11:42:00+05:30\", \"2020-11-20T11:43:00+05:30\", \"2020-11-20T11:44:00+05:30\", \"2020-11-20T11:45:00+05:30\", \"2020-11-20T11:46:00+05:30\", \"2020-11-20T11:47:00+05:30\", \"2020-11-20T11:48:00+05:30\", \"2020-11-20T11:49:00+05:30\", \"2020-11-20T11:50:00+05:30\", \"2020-11-20T11:51:00+05:30\", \"2020-11-20T11:52:00+05:30\", \"2020-11-20T11:53:00+05:30\", \"2020-11-20T11:54:00+05:30\", \"2020-11-20T11:55:00+05:30\", \"2020-11-20T11:56:00+05:30\", \"2020-11-20T11:57:00+05:30\", \"2020-11-20T11:58:00+05:30\", \"2020-11-20T11:59:00+05:30\", \"2020-11-20T12:00:00+05:30\", \"2020-11-20T12:01:00+05:30\", \"2020-11-20T12:02:00+05:30\", \"2020-11-20T12:03:00+05:30\", \"2020-11-20T12:04:00+05:30\", \"2020-11-20T12:05:00+05:30\", \"2020-11-20T12:06:00+05:30\", \"2020-11-20T12:07:00+05:30\", \"2020-11-20T12:08:00+05:30\", \"2020-11-20T12:09:00+05:30\", \"2020-11-20T12:10:00+05:30\", \"2020-11-20T12:11:00+05:30\", \"2020-11-20T12:12:00+05:30\", \"2020-11-20T12:13:00+05:30\", \"2020-11-20T12:14:00+05:30\", \"2020-11-20T12:15:00+05:30\", \"2020-11-20T12:16:00+05:30\", \"2020-11-20T12:17:00+05:30\", \"2020-11-20T12:18:00+05:30\", \"2020-11-20T12:19:00+05:30\", \"2020-11-20T12:20:00+05:30\", \"2020-11-20T12:21:00+05:30\", \"2020-11-20T12:22:00+05:30\", \"2020-11-20T12:23:00+05:30\", \"2020-11-20T12:24:00+05:30\", \"2020-11-20T12:25:00+05:30\", \"2020-11-20T12:26:00+05:30\", \"2020-11-20T12:27:00+05:30\", \"2020-11-20T12:28:00+05:30\", \"2020-11-20T12:29:00+05:30\", \"2020-11-20T12:30:00+05:30\", \"2020-11-20T12:31:00+05:30\", \"2020-11-20T12:32:00+05:30\", \"2020-11-20T12:33:00+05:30\", \"2020-11-20T12:34:00+05:30\", \"2020-11-20T12:35:00+05:30\", \"2020-11-20T12:36:00+05:30\", \"2020-11-20T12:37:00+05:30\", \"2020-11-20T12:38:00+05:30\", \"2020-11-20T12:39:00+05:30\", \"2020-11-20T12:40:00+05:30\", \"2020-11-20T12:41:00+05:30\", \"2020-11-20T12:42:00+05:30\", \"2020-11-20T12:43:00+05:30\", \"2020-11-20T12:44:00+05:30\", \"2020-11-20T12:45:00+05:30\", \"2020-11-20T12:46:00+05:30\", \"2020-11-20T12:47:00+05:30\", \"2020-11-20T12:48:00+05:30\", \"2020-11-20T12:49:00+05:30\", \"2020-11-20T12:50:00+05:30\", \"2020-11-20T12:51:00+05:30\", \"2020-11-20T12:52:00+05:30\", \"2020-11-20T12:53:00+05:30\", \"2020-11-20T12:54:00+05:30\", \"2020-11-20T12:55:00+05:30\", \"2020-11-20T12:56:00+05:30\", \"2020-11-20T12:57:00+05:30\", \"2020-11-20T12:58:00+05:30\", \"2020-11-20T12:59:00+05:30\", \"2020-11-20T13:00:00+05:30\", \"2020-11-20T13:01:00+05:30\", \"2020-11-20T13:02:00+05:30\", \"2020-11-20T13:03:00+05:30\", \"2020-11-20T13:04:00+05:30\", \"2020-11-20T13:05:00+05:30\", \"2020-11-20T13:06:00+05:30\", \"2020-11-20T13:07:00+05:30\", \"2020-11-20T13:08:00+05:30\", \"2020-11-20T13:09:00+05:30\", \"2020-11-20T13:10:00+05:30\", \"2020-11-20T13:11:00+05:30\", \"2020-11-20T13:12:00+05:30\", \"2020-11-20T13:13:00+05:30\", \"2020-11-20T13:14:00+05:30\", \"2020-11-20T13:15:00+05:30\", \"2020-11-20T13:16:00+05:30\", \"2020-11-20T13:17:00+05:30\", \"2020-11-20T13:18:00+05:30\", \"2020-11-20T13:19:00+05:30\", \"2020-11-20T13:20:00+05:30\", \"2020-11-20T13:21:00+05:30\", \"2020-11-20T13:22:00+05:30\", \"2020-11-20T13:23:00+05:30\", \"2020-11-20T13:24:00+05:30\", \"2020-11-20T13:25:00+05:30\", \"2020-11-20T13:26:00+05:30\", \"2020-11-20T13:27:00+05:30\", \"2020-11-20T13:28:00+05:30\", \"2020-11-20T13:29:00+05:30\", \"2020-11-20T13:30:00+05:30\", \"2020-11-20T13:31:00+05:30\", \"2020-11-20T13:32:00+05:30\", \"2020-11-20T13:33:00+05:30\", \"2020-11-20T13:34:00+05:30\", \"2020-11-20T13:35:00+05:30\", \"2020-11-20T13:36:00+05:30\", \"2020-11-20T13:37:00+05:30\", \"2020-11-20T13:38:00+05:30\", \"2020-11-20T13:39:00+05:30\", \"2020-11-20T13:40:00+05:30\", \"2020-11-20T13:41:00+05:30\", \"2020-11-20T13:42:00+05:30\", \"2020-11-20T13:43:00+05:30\", \"2020-11-20T13:44:00+05:30\", \"2020-11-20T13:45:00+05:30\", \"2020-11-20T13:46:00+05:30\", \"2020-11-20T13:47:00+05:30\", \"2020-11-20T13:48:00+05:30\", \"2020-11-20T13:49:00+05:30\", \"2020-11-20T13:50:00+05:30\", \"2020-11-20T13:51:00+05:30\", \"2020-11-20T13:52:00+05:30\", \"2020-11-20T13:53:00+05:30\", \"2020-11-20T13:54:00+05:30\", \"2020-11-20T13:55:00+05:30\", \"2020-11-20T13:56:00+05:30\", \"2020-11-20T13:57:00+05:30\", \"2020-11-20T13:58:00+05:30\", \"2020-11-20T13:59:00+05:30\", \"2020-11-20T14:00:00+05:30\", \"2020-11-20T14:01:00+05:30\", \"2020-11-20T14:02:00+05:30\", \"2020-11-20T14:03:00+05:30\", \"2020-11-20T14:04:00+05:30\", \"2020-11-20T14:05:00+05:30\", \"2020-11-20T14:06:00+05:30\", \"2020-11-20T14:07:00+05:30\", \"2020-11-20T14:08:00+05:30\", \"2020-11-20T14:09:00+05:30\", \"2020-11-20T14:10:00+05:30\", \"2020-11-20T14:11:00+05:30\", \"2020-11-20T14:12:00+05:30\", \"2020-11-20T14:13:00+05:30\", \"2020-11-20T14:14:00+05:30\", \"2020-11-20T14:15:00+05:30\", \"2020-11-20T14:16:00+05:30\", \"2020-11-20T14:17:00+05:30\", \"2020-11-20T14:18:00+05:30\", \"2020-11-20T14:19:00+05:30\", \"2020-11-20T14:20:00+05:30\", \"2020-11-20T14:21:00+05:30\", \"2020-11-20T14:22:00+05:30\", \"2020-11-20T14:23:00+05:30\", \"2020-11-20T14:24:00+05:30\", \"2020-11-20T14:25:00+05:30\", \"2020-11-20T14:26:00+05:30\", \"2020-11-20T14:27:00+05:30\", \"2020-11-20T14:28:00+05:30\", \"2020-11-20T14:29:00+05:30\", \"2020-11-20T14:30:00+05:30\", \"2020-11-20T14:31:00+05:30\", \"2020-11-20T14:32:00+05:30\", \"2020-11-20T14:33:00+05:30\", \"2020-11-20T14:34:00+05:30\", \"2020-11-20T14:35:00+05:30\", \"2020-11-20T14:36:00+05:30\", \"2020-11-20T14:37:00+05:30\", \"2020-11-20T14:38:00+05:30\", \"2020-11-20T14:39:00+05:30\", \"2020-11-20T14:40:00+05:30\", \"2020-11-20T14:41:00+05:30\", \"2020-11-20T14:42:00+05:30\", \"2020-11-20T14:43:00+05:30\", \"2020-11-20T14:44:00+05:30\", \"2020-11-20T14:45:00+05:30\", \"2020-11-20T14:46:00+05:30\", \"2020-11-20T14:47:00+05:30\", \"2020-11-20T14:48:00+05:30\", \"2020-11-20T14:49:00+05:30\", \"2020-11-20T14:50:00+05:30\", \"2020-11-20T14:51:00+05:30\", \"2020-11-20T14:52:00+05:30\", \"2020-11-20T14:53:00+05:30\", \"2020-11-20T14:54:00+05:30\", \"2020-11-20T14:55:00+05:30\", \"2020-11-20T14:56:00+05:30\", \"2020-11-20T14:57:00+05:30\", \"2020-11-20T14:58:00+05:30\", \"2020-11-20T14:59:00+05:30\", \"2020-11-20T15:00:00+05:30\", \"2020-11-20T15:01:00+05:30\", \"2020-11-20T15:02:00+05:30\", \"2020-11-20T15:03:00+05:30\", \"2020-11-20T15:04:00+05:30\", \"2020-11-20T15:05:00+05:30\", \"2020-11-20T15:06:00+05:30\", \"2020-11-20T15:07:00+05:30\", \"2020-11-20T15:08:00+05:30\", \"2020-11-20T15:09:00+05:30\", \"2020-11-20T15:10:00+05:30\", \"2020-11-20T15:11:00+05:30\", \"2020-11-20T15:12:00+05:30\", \"2020-11-20T15:13:00+05:30\", \"2020-11-20T15:14:00+05:30\", \"2020-11-20T15:15:00+05:30\", \"2020-11-20T15:16:00+05:30\", \"2020-11-20T15:17:00+05:30\", \"2020-11-20T15:18:00+05:30\", \"2020-11-20T15:19:00+05:30\", \"2020-11-20T15:20:00+05:30\", \"2020-11-20T15:21:00+05:30\", \"2020-11-20T15:22:00+05:30\", \"2020-11-20T15:23:00+05:30\", \"2020-11-20T15:24:00+05:30\", \"2020-11-20T15:25:00+05:30\", \"2020-11-20T15:26:00+05:30\", \"2020-11-20T15:27:00+05:30\", \"2020-11-20T15:28:00+05:30\", \"2020-11-20T15:29:00+05:30\"]}, {\"type\": \"scatter\", \"x\": [\"2020-11-20T09:16:00+05:30\", \"2020-11-20T09:17:00+05:30\", \"2020-11-20T09:18:00+05:30\", \"2020-11-20T09:19:00+05:30\", \"2020-11-20T09:20:00+05:30\", \"2020-11-20T09:21:00+05:30\", \"2020-11-20T09:22:00+05:30\", \"2020-11-20T09:23:00+05:30\", \"2020-11-20T09:24:00+05:30\", \"2020-11-20T09:25:00+05:30\", \"2020-11-20T09:26:00+05:30\", \"2020-11-20T09:27:00+05:30\", \"2020-11-20T09:28:00+05:30\", \"2020-11-20T09:29:00+05:30\", \"2020-11-20T09:30:00+05:30\", \"2020-11-20T09:31:00+05:30\", \"2020-11-20T09:32:00+05:30\", \"2020-11-20T09:33:00+05:30\", \"2020-11-20T09:34:00+05:30\", \"2020-11-20T09:35:00+05:30\", \"2020-11-20T09:36:00+05:30\", \"2020-11-20T09:37:00+05:30\", \"2020-11-20T09:38:00+05:30\", \"2020-11-20T09:39:00+05:30\", \"2020-11-20T09:40:00+05:30\", \"2020-11-20T09:41:00+05:30\", \"2020-11-20T09:42:00+05:30\", \"2020-11-20T09:43:00+05:30\", \"2020-11-20T09:44:00+05:30\", \"2020-11-20T09:45:00+05:30\", \"2020-11-20T09:46:00+05:30\", \"2020-11-20T09:47:00+05:30\", \"2020-11-20T09:48:00+05:30\", \"2020-11-20T09:49:00+05:30\", \"2020-11-20T09:50:00+05:30\", \"2020-11-20T09:51:00+05:30\", \"2020-11-20T09:52:00+05:30\", \"2020-11-20T09:53:00+05:30\", \"2020-11-20T09:54:00+05:30\", \"2020-11-20T09:55:00+05:30\", \"2020-11-20T09:56:00+05:30\", \"2020-11-20T09:57:00+05:30\", \"2020-11-20T09:58:00+05:30\", \"2020-11-20T09:59:00+05:30\", \"2020-11-20T10:00:00+05:30\", \"2020-11-20T10:01:00+05:30\", \"2020-11-20T10:02:00+05:30\", \"2020-11-20T10:03:00+05:30\", \"2020-11-20T10:04:00+05:30\", \"2020-11-20T10:05:00+05:30\", \"2020-11-20T10:06:00+05:30\", \"2020-11-20T10:07:00+05:30\", \"2020-11-20T10:08:00+05:30\", \"2020-11-20T10:09:00+05:30\", \"2020-11-20T10:10:00+05:30\", \"2020-11-20T10:11:00+05:30\", \"2020-11-20T10:12:00+05:30\", \"2020-11-20T10:13:00+05:30\", \"2020-11-20T10:14:00+05:30\", \"2020-11-20T10:15:00+05:30\", \"2020-11-20T10:16:00+05:30\", \"2020-11-20T10:17:00+05:30\", \"2020-11-20T10:18:00+05:30\", \"2020-11-20T10:19:00+05:30\", \"2020-11-20T10:20:00+05:30\", \"2020-11-20T10:21:00+05:30\", \"2020-11-20T10:22:00+05:30\", \"2020-11-20T10:23:00+05:30\", \"2020-11-20T10:24:00+05:30\", \"2020-11-20T10:25:00+05:30\", \"2020-11-20T10:26:00+05:30\", \"2020-11-20T10:27:00+05:30\", \"2020-11-20T10:28:00+05:30\", \"2020-11-20T10:29:00+05:30\", \"2020-11-20T10:30:00+05:30\", \"2020-11-20T10:31:00+05:30\", \"2020-11-20T10:32:00+05:30\", \"2020-11-20T10:33:00+05:30\", \"2020-11-20T10:34:00+05:30\", \"2020-11-20T10:35:00+05:30\", \"2020-11-20T10:36:00+05:30\", \"2020-11-20T10:37:00+05:30\", \"2020-11-20T10:38:00+05:30\", \"2020-11-20T10:39:00+05:30\", \"2020-11-20T10:40:00+05:30\", \"2020-11-20T10:41:00+05:30\", \"2020-11-20T10:42:00+05:30\", \"2020-11-20T10:43:00+05:30\", \"2020-11-20T10:44:00+05:30\", \"2020-11-20T10:45:00+05:30\", \"2020-11-20T10:46:00+05:30\", \"2020-11-20T10:47:00+05:30\", \"2020-11-20T10:48:00+05:30\", \"2020-11-20T10:49:00+05:30\", \"2020-11-20T10:50:00+05:30\", \"2020-11-20T10:51:00+05:30\", \"2020-11-20T10:52:00+05:30\", \"2020-11-20T10:53:00+05:30\", \"2020-11-20T10:54:00+05:30\", \"2020-11-20T10:55:00+05:30\", \"2020-11-20T10:56:00+05:30\", \"2020-11-20T10:57:00+05:30\", \"2020-11-20T10:58:00+05:30\", \"2020-11-20T10:59:00+05:30\", \"2020-11-20T11:00:00+05:30\", \"2020-11-20T11:01:00+05:30\", \"2020-11-20T11:02:00+05:30\", \"2020-11-20T11:03:00+05:30\", \"2020-11-20T11:04:00+05:30\", \"2020-11-20T11:05:00+05:30\", \"2020-11-20T11:06:00+05:30\", \"2020-11-20T11:07:00+05:30\", \"2020-11-20T11:08:00+05:30\", \"2020-11-20T11:09:00+05:30\", \"2020-11-20T11:10:00+05:30\", \"2020-11-20T11:11:00+05:30\", \"2020-11-20T11:12:00+05:30\", \"2020-11-20T11:13:00+05:30\", \"2020-11-20T11:14:00+05:30\", \"2020-11-20T11:15:00+05:30\", \"2020-11-20T11:16:00+05:30\", \"2020-11-20T11:17:00+05:30\", \"2020-11-20T11:18:00+05:30\", \"2020-11-20T11:19:00+05:30\", \"2020-11-20T11:20:00+05:30\", \"2020-11-20T11:21:00+05:30\", \"2020-11-20T11:22:00+05:30\", \"2020-11-20T11:23:00+05:30\", \"2020-11-20T11:24:00+05:30\", \"2020-11-20T11:25:00+05:30\", \"2020-11-20T11:26:00+05:30\", \"2020-11-20T11:27:00+05:30\", \"2020-11-20T11:28:00+05:30\", \"2020-11-20T11:29:00+05:30\", \"2020-11-20T11:30:00+05:30\", \"2020-11-20T11:31:00+05:30\", \"2020-11-20T11:32:00+05:30\", \"2020-11-20T11:33:00+05:30\", \"2020-11-20T11:34:00+05:30\", \"2020-11-20T11:35:00+05:30\", \"2020-11-20T11:36:00+05:30\", \"2020-11-20T11:37:00+05:30\", \"2020-11-20T11:38:00+05:30\", \"2020-11-20T11:39:00+05:30\", \"2020-11-20T11:40:00+05:30\", \"2020-11-20T11:41:00+05:30\", \"2020-11-20T11:42:00+05:30\", \"2020-11-20T11:43:00+05:30\", \"2020-11-20T11:44:00+05:30\", \"2020-11-20T11:45:00+05:30\", \"2020-11-20T11:46:00+05:30\", \"2020-11-20T11:47:00+05:30\", \"2020-11-20T11:48:00+05:30\", \"2020-11-20T11:49:00+05:30\", \"2020-11-20T11:50:00+05:30\", \"2020-11-20T11:51:00+05:30\", \"2020-11-20T11:52:00+05:30\", \"2020-11-20T11:53:00+05:30\", \"2020-11-20T11:54:00+05:30\", \"2020-11-20T11:55:00+05:30\", \"2020-11-20T11:56:00+05:30\", \"2020-11-20T11:57:00+05:30\", \"2020-11-20T11:58:00+05:30\", \"2020-11-20T11:59:00+05:30\", \"2020-11-20T12:00:00+05:30\", \"2020-11-20T12:01:00+05:30\", \"2020-11-20T12:02:00+05:30\", \"2020-11-20T12:03:00+05:30\", \"2020-11-20T12:04:00+05:30\", \"2020-11-20T12:05:00+05:30\", \"2020-11-20T12:06:00+05:30\", \"2020-11-20T12:07:00+05:30\", \"2020-11-20T12:08:00+05:30\", \"2020-11-20T12:09:00+05:30\", \"2020-11-20T12:10:00+05:30\", \"2020-11-20T12:11:00+05:30\", \"2020-11-20T12:12:00+05:30\", \"2020-11-20T12:13:00+05:30\", \"2020-11-20T12:14:00+05:30\", \"2020-11-20T12:15:00+05:30\", \"2020-11-20T12:16:00+05:30\", \"2020-11-20T12:17:00+05:30\", \"2020-11-20T12:18:00+05:30\", \"2020-11-20T12:19:00+05:30\", \"2020-11-20T12:20:00+05:30\", \"2020-11-20T12:21:00+05:30\", \"2020-11-20T12:22:00+05:30\", \"2020-11-20T12:23:00+05:30\", \"2020-11-20T12:24:00+05:30\", \"2020-11-20T12:25:00+05:30\", \"2020-11-20T12:26:00+05:30\", \"2020-11-20T12:27:00+05:30\", \"2020-11-20T12:28:00+05:30\", \"2020-11-20T12:29:00+05:30\", \"2020-11-20T12:30:00+05:30\", \"2020-11-20T12:31:00+05:30\", \"2020-11-20T12:32:00+05:30\", \"2020-11-20T12:33:00+05:30\", \"2020-11-20T12:34:00+05:30\", \"2020-11-20T12:35:00+05:30\", \"2020-11-20T12:36:00+05:30\", \"2020-11-20T12:37:00+05:30\", \"2020-11-20T12:38:00+05:30\", \"2020-11-20T12:39:00+05:30\", \"2020-11-20T12:40:00+05:30\", \"2020-11-20T12:41:00+05:30\", \"2020-11-20T12:42:00+05:30\", \"2020-11-20T12:43:00+05:30\", \"2020-11-20T12:44:00+05:30\", \"2020-11-20T12:45:00+05:30\", \"2020-11-20T12:46:00+05:30\", \"2020-11-20T12:47:00+05:30\", \"2020-11-20T12:48:00+05:30\", \"2020-11-20T12:49:00+05:30\", \"2020-11-20T12:50:00+05:30\", \"2020-11-20T12:51:00+05:30\", \"2020-11-20T12:52:00+05:30\", \"2020-11-20T12:53:00+05:30\", \"2020-11-20T12:54:00+05:30\", \"2020-11-20T12:55:00+05:30\", \"2020-11-20T12:56:00+05:30\", \"2020-11-20T12:57:00+05:30\", \"2020-11-20T12:58:00+05:30\", \"2020-11-20T12:59:00+05:30\", \"2020-11-20T13:00:00+05:30\", \"2020-11-20T13:01:00+05:30\", \"2020-11-20T13:02:00+05:30\", \"2020-11-20T13:03:00+05:30\", \"2020-11-20T13:04:00+05:30\", \"2020-11-20T13:05:00+05:30\", \"2020-11-20T13:06:00+05:30\", \"2020-11-20T13:07:00+05:30\", \"2020-11-20T13:08:00+05:30\", \"2020-11-20T13:09:00+05:30\", \"2020-11-20T13:10:00+05:30\", \"2020-11-20T13:11:00+05:30\", \"2020-11-20T13:12:00+05:30\", \"2020-11-20T13:13:00+05:30\", \"2020-11-20T13:14:00+05:30\", \"2020-11-20T13:15:00+05:30\", \"2020-11-20T13:16:00+05:30\", \"2020-11-20T13:17:00+05:30\", \"2020-11-20T13:18:00+05:30\", \"2020-11-20T13:19:00+05:30\", \"2020-11-20T13:20:00+05:30\", \"2020-11-20T13:21:00+05:30\", \"2020-11-20T13:22:00+05:30\", \"2020-11-20T13:23:00+05:30\", \"2020-11-20T13:24:00+05:30\", \"2020-11-20T13:25:00+05:30\", \"2020-11-20T13:26:00+05:30\", \"2020-11-20T13:27:00+05:30\", \"2020-11-20T13:28:00+05:30\", \"2020-11-20T13:29:00+05:30\", \"2020-11-20T13:30:00+05:30\", \"2020-11-20T13:31:00+05:30\", \"2020-11-20T13:32:00+05:30\", \"2020-11-20T13:33:00+05:30\", \"2020-11-20T13:34:00+05:30\", \"2020-11-20T13:35:00+05:30\", \"2020-11-20T13:36:00+05:30\", \"2020-11-20T13:37:00+05:30\", \"2020-11-20T13:38:00+05:30\", \"2020-11-20T13:39:00+05:30\", \"2020-11-20T13:40:00+05:30\", \"2020-11-20T13:41:00+05:30\", \"2020-11-20T13:42:00+05:30\", \"2020-11-20T13:43:00+05:30\", \"2020-11-20T13:44:00+05:30\", \"2020-11-20T13:45:00+05:30\", \"2020-11-20T13:46:00+05:30\", \"2020-11-20T13:47:00+05:30\", \"2020-11-20T13:48:00+05:30\", \"2020-11-20T13:49:00+05:30\", \"2020-11-20T13:50:00+05:30\", \"2020-11-20T13:51:00+05:30\", \"2020-11-20T13:52:00+05:30\", \"2020-11-20T13:53:00+05:30\", \"2020-11-20T13:54:00+05:30\", \"2020-11-20T13:55:00+05:30\", \"2020-11-20T13:56:00+05:30\", \"2020-11-20T13:57:00+05:30\", \"2020-11-20T13:58:00+05:30\", \"2020-11-20T13:59:00+05:30\", \"2020-11-20T14:00:00+05:30\", \"2020-11-20T14:01:00+05:30\", \"2020-11-20T14:02:00+05:30\", \"2020-11-20T14:03:00+05:30\", \"2020-11-20T14:04:00+05:30\", \"2020-11-20T14:05:00+05:30\", \"2020-11-20T14:06:00+05:30\", \"2020-11-20T14:07:00+05:30\", \"2020-11-20T14:08:00+05:30\", \"2020-11-20T14:09:00+05:30\", \"2020-11-20T14:10:00+05:30\", \"2020-11-20T14:11:00+05:30\", \"2020-11-20T14:12:00+05:30\", \"2020-11-20T14:13:00+05:30\", \"2020-11-20T14:14:00+05:30\", \"2020-11-20T14:15:00+05:30\", \"2020-11-20T14:16:00+05:30\", \"2020-11-20T14:17:00+05:30\", \"2020-11-20T14:18:00+05:30\", \"2020-11-20T14:19:00+05:30\", \"2020-11-20T14:20:00+05:30\", \"2020-11-20T14:21:00+05:30\", \"2020-11-20T14:22:00+05:30\", \"2020-11-20T14:23:00+05:30\", \"2020-11-20T14:24:00+05:30\", \"2020-11-20T14:25:00+05:30\", \"2020-11-20T14:26:00+05:30\", \"2020-11-20T14:27:00+05:30\", \"2020-11-20T14:28:00+05:30\", \"2020-11-20T14:29:00+05:30\", \"2020-11-20T14:30:00+05:30\", \"2020-11-20T14:31:00+05:30\", \"2020-11-20T14:32:00+05:30\", \"2020-11-20T14:33:00+05:30\", \"2020-11-20T14:34:00+05:30\", \"2020-11-20T14:35:00+05:30\", \"2020-11-20T14:36:00+05:30\", \"2020-11-20T14:37:00+05:30\", \"2020-11-20T14:38:00+05:30\", \"2020-11-20T14:39:00+05:30\", \"2020-11-20T14:40:00+05:30\", \"2020-11-20T14:41:00+05:30\", \"2020-11-20T14:42:00+05:30\", \"2020-11-20T14:43:00+05:30\", \"2020-11-20T14:44:00+05:30\", \"2020-11-20T14:45:00+05:30\", \"2020-11-20T14:46:00+05:30\", \"2020-11-20T14:47:00+05:30\", \"2020-11-20T14:48:00+05:30\", \"2020-11-20T14:49:00+05:30\", \"2020-11-20T14:50:00+05:30\", \"2020-11-20T14:51:00+05:30\", \"2020-11-20T14:52:00+05:30\", \"2020-11-20T14:53:00+05:30\", \"2020-11-20T14:54:00+05:30\", \"2020-11-20T14:55:00+05:30\", \"2020-11-20T14:56:00+05:30\", \"2020-11-20T14:57:00+05:30\", \"2020-11-20T14:58:00+05:30\", \"2020-11-20T14:59:00+05:30\", \"2020-11-20T15:00:00+05:30\", \"2020-11-20T15:01:00+05:30\", \"2020-11-20T15:02:00+05:30\", \"2020-11-20T15:03:00+05:30\", \"2020-11-20T15:04:00+05:30\", \"2020-11-20T15:05:00+05:30\", \"2020-11-20T15:06:00+05:30\", \"2020-11-20T15:07:00+05:30\", \"2020-11-20T15:08:00+05:30\", \"2020-11-20T15:09:00+05:30\", \"2020-11-20T15:10:00+05:30\", \"2020-11-20T15:11:00+05:30\", \"2020-11-20T15:12:00+05:30\", \"2020-11-20T15:13:00+05:30\", \"2020-11-20T15:14:00+05:30\", \"2020-11-20T15:15:00+05:30\", \"2020-11-20T15:16:00+05:30\", \"2020-11-20T15:17:00+05:30\", \"2020-11-20T15:18:00+05:30\", \"2020-11-20T15:19:00+05:30\", \"2020-11-20T15:20:00+05:30\", \"2020-11-20T15:21:00+05:30\", \"2020-11-20T15:22:00+05:30\", \"2020-11-20T15:23:00+05:30\", \"2020-11-20T15:24:00+05:30\", \"2020-11-20T15:25:00+05:30\", \"2020-11-20T15:26:00+05:30\", \"2020-11-20T15:27:00+05:30\", \"2020-11-20T15:28:00+05:30\", \"2020-11-20T15:29:00+05:30\"], \"y\": [241.88333129882812, 242.41032384052502, 242.71592810758023, 242.80392024984917, 242.85231522230876, 242.82720608746774, 242.81691931750865, 242.77319543958296, 242.6747419747023, 242.5338158046153, 242.2724429807303, 242.14189287762073, 241.90755164249987, 241.81334505488445, 241.6942621332661, 241.4921624622531, 241.30212264645624, 241.17889891456264, 241.03711103844836, 240.97240376757665, 240.92486405106433, 240.90661210342142, 240.8371100281326, 240.76944987309264, 240.73028172027958, 240.70267061450437, 240.690987799524, 240.67442940900074, 240.6545571469245, 240.63418039497535, 240.61136653455378, 240.60256871124542, 240.55723055766416, 240.53285755368296, 240.51477970111694, 240.48377782437146, 240.42695987427615, 240.3964769322586, 240.3593200777979, 240.328870117378, 240.30265453497853, 240.20433979753918, 240.16710900281848, 240.1229678283025, 240.09774749761826, 240.08118144315324, 240.05757743226636, 240.0412212342172, 240.03226848683866, 240.0124673891724, 239.99560902971885, 239.9893185904809, 239.9804061714566, 239.95470451989766, 239.94425846734367, 239.93425353290164, 239.9249719898924, 239.91756228077105, 239.9094031128062, 239.89345180973427, 239.8841744304757, 239.87795759117427, 239.87001222168323, 239.8646211172974, 239.8604887225293, 239.85249377579296, 239.84712898432866, 239.8346635160191, 239.82563798846522, 239.81543256680342, 239.80952177156703, 239.79807182209575, 239.79131802272178, 239.7855366688221, 239.78259604645487, 239.77595131171915, 239.77378039218465, 239.76806264259216, 239.76241798051265, 239.75980441939433, 239.75755912875712, 239.75105432012526, 239.74788480514417, 239.7320393456778, 239.7218225466815, 239.71188132274122, 239.70557221724042, 239.57943841263435, 239.51635278654814, 239.47830585613443, 239.45709376049098, 239.39924713992065, 239.3516681948875, 239.32646377159944, 239.27054452450875, 239.17520287256767, 239.04833424277757, 239.01528156128938, 238.9761348798699, 238.9467029913993, 238.91811409425708, 238.8891369122798, 238.874665408501, 238.85677198346295, 238.8387198615335, 238.8139338079277, 238.80402951768062, 238.7953681958516, 238.77878129901364, 238.77166336842333, 238.75990943532707, 238.75305397585024, 238.74218686512168, 238.7327584026166, 238.71983339926078, 238.71213597842092, 238.70372301230978, 238.68832998981944, 238.65894646785964, 238.62972159293977, 238.61529615097027, 238.60104744537534, 238.5840429109112, 238.55207377844687, 238.5353430761719, 238.48573100033352, 238.46623813600695, 238.4536144198195, 238.4472556232023, 238.42120546876606, 238.40301880051666, 238.38941140026577, 238.3817940862644, 238.37431515296657, 238.3646364568233, 238.35223011077068, 238.33961980176647, 238.3316223226052, 238.32779319917717, 238.3237507374361, 238.3079745679528, 238.30089637864575, 238.29570790031357, 238.2904822293107, 238.28462011607488, 238.2808767499703, 238.2726519174982, 238.26729940251332, 238.262961969385, 238.2564198790091, 238.24450251734473, 238.23884744816272, 238.2334096139722, 238.22429212033734, 238.22174817656017, 238.21226736868218, 238.20835336749937, 238.20139121635398, 238.1949926755975, 238.1915157605335, 238.17292255688423, 238.15889728559367, 238.14652600058932, 238.12849735534945, 238.12146829125382, 238.112275893748, 238.10723775295747, 238.09974760890748, 238.0924273216101, 238.08727805916635, 238.07677841048437, 238.07105388907627, 238.06660272282727, 238.06315664118856, 238.06101399322145, 238.05615955808432, 238.05074258511345, 238.04493347776165, 238.03996590961208, 238.036416444569, 238.03372585203152, 238.02522989757855, 238.01684726276918, 238.01365629827148, 238.00817227252116, 238.00386591409432, 237.99914182306065, 237.99667199828778, 237.9921655230499, 237.99060823961636, 237.98932906247796, 237.98471977643476, 237.98082001624977, 237.97949166613577, 237.97732881702672, 237.97497126258648, 237.96843243154046, 237.96170775283665, 237.96029919715448, 237.95898562267874, 237.95628705374935, 237.95432589664648, 237.94887181943366, 237.942150425969, 237.9392083025827, 237.93250731345475, 237.92903167372864, 237.92589084594687, 237.92095299678692, 237.91705202297987, 237.9140784975615, 237.9115806366222, 237.9106035664349, 237.90951333060121, 237.90474623813842, 237.9020874750715, 237.9001878039199, 237.89772417842616, 237.89533784650803, 237.8945860087215, 237.89351742351914, 237.8924550608108, 237.89068894517646, 237.8876477609047, 237.87928870610304, 237.89280546783326, 237.8993340369965, 237.9674556499802, 238.00849071322813, 238.09664642914265, 238.1648100765816, 238.21205804261908, 238.23238822850206, 238.24580614727526, 238.25324640552404, 238.26264945101417, 238.27235568937633, 238.29036401468605, 238.30082771760544, 238.30935724403886, 238.31645060873706, 238.32806458157955, 238.33445344496766, 238.34009178462688, 238.34265279428615, 238.3446069575781, 238.34662023111957, 238.34847746353412, 238.35131551212444, 238.3564010790713, 238.3585805986584, 238.3615988295603, 238.36476059646625, 238.36686218447997, 238.3707923054529, 238.37949136839268, 238.3806038130837, 238.38119044008045, 238.3831739210248, 238.38591836758894, 238.3894027646033, 238.3915825759683, 238.4005704014196, 238.40266974390562, 238.4063733735305, 238.41062306049798, 238.41365092023548, 238.42927739740992, 238.43457863754395, 238.45688538382717, 238.46977298364737, 238.48592231114586, 238.49512523915655, 238.50624329841753, 238.55776556833717, 238.58108643688044, 238.597225035999, 238.64815472523955, 238.66786530056646, 238.69076370543092, 238.70080547170548, 238.71025848897483, 238.72997473001212, 238.7441469063303, 238.7755712226467, 238.78426981471392, 238.79453191149605, 238.80623515450077, 238.81652942368623, 238.82164294654072, 238.82955683677608, 238.83518528625078, 238.84041780008351, 238.84500933437516, 238.85045002851112, 238.85587494780225, 238.86106809505108, 238.87262558000606, 238.8779407721809, 238.90524408567586, 239.01245042497877, 239.03528437395929, 239.07069572472008, 239.13342767386317, 239.21691394288655, 239.2629998706218, 239.2985486362396, 239.31172657652357, 239.32167942743538, 239.34406634425304, 239.3637247584419, 239.38622276839558, 239.42831824763658, 239.44767221868426, 239.4988097550024, 239.51782544175964, 239.53047990362623, 239.54584948003983, 239.555057000318, 239.56367354209908, 239.56928980416595, 239.57329453816507, 239.57658876847597, 239.5815096600783, 239.5855365238738, 239.59854108015406, 239.61332115779663, 239.6198547836428, 239.6367482436791, 239.65249517160325, 239.6628570912045, 239.66686314407755, 239.673560308523, 239.67840801986296, 239.68246428296612, 239.68768686253625, 239.69225271756778, 239.6967993555623, 239.70000577099776, 239.70271695948847, 239.7097716009131, 239.71415013385865, 239.7280048403359, 239.73461479933687, 239.74143722933283, 239.74527924337792, 239.75486878818197, 239.76154765693525, 239.77239158088383, 239.7798278487852, 239.7853641896777, 239.79260044519026, 239.8006931997222, 239.80949724283235, 239.82072441662473, 239.82758948327378, 239.83839279309117, 239.84775524378705, 239.85598625179838, 239.8668798923846, 239.87645238086557, 239.8892972914592, 239.8962439648924, 239.9020102797056, 239.91970320232323, 239.93252191934445, 239.94112359926208, 239.94353451306225, 239.94484886792952, 239.94872663823165, 239.95124080011433, 239.95609608184193, 239.9691098689998, 239.975636784494]}],\n",
              "                        {\"template\": {\"data\": {\"bar\": [{\"error_x\": {\"color\": \"#2a3f5f\"}, \"error_y\": {\"color\": \"#2a3f5f\"}, \"marker\": {\"line\": {\"color\": \"#E5ECF6\", \"width\": 0.5}}, \"type\": \"bar\"}], \"barpolar\": [{\"marker\": {\"line\": {\"color\": \"#E5ECF6\", \"width\": 0.5}}, \"type\": \"barpolar\"}], \"carpet\": [{\"aaxis\": {\"endlinecolor\": \"#2a3f5f\", \"gridcolor\": \"white\", \"linecolor\": \"white\", \"minorgridcolor\": \"white\", \"startlinecolor\": \"#2a3f5f\"}, \"baxis\": {\"endlinecolor\": \"#2a3f5f\", \"gridcolor\": \"white\", \"linecolor\": \"white\", \"minorgridcolor\": \"white\", \"startlinecolor\": \"#2a3f5f\"}, \"type\": \"carpet\"}], \"choropleth\": [{\"colorbar\": {\"outlinewidth\": 0, \"ticks\": \"\"}, \"type\": \"choropleth\"}], \"contour\": [{\"colorbar\": {\"outlinewidth\": 0, \"ticks\": \"\"}, \"colorscale\": [[0.0, \"#0d0887\"], [0.1111111111111111, \"#46039f\"], [0.2222222222222222, \"#7201a8\"], [0.3333333333333333, \"#9c179e\"], [0.4444444444444444, \"#bd3786\"], [0.5555555555555556, \"#d8576b\"], [0.6666666666666666, \"#ed7953\"], [0.7777777777777778, \"#fb9f3a\"], [0.8888888888888888, \"#fdca26\"], [1.0, \"#f0f921\"]], \"type\": \"contour\"}], \"contourcarpet\": [{\"colorbar\": {\"outlinewidth\": 0, \"ticks\": \"\"}, \"type\": \"contourcarpet\"}], \"heatmap\": [{\"colorbar\": {\"outlinewidth\": 0, \"ticks\": \"\"}, \"colorscale\": [[0.0, \"#0d0887\"], [0.1111111111111111, \"#46039f\"], [0.2222222222222222, \"#7201a8\"], [0.3333333333333333, \"#9c179e\"], [0.4444444444444444, \"#bd3786\"], [0.5555555555555556, \"#d8576b\"], [0.6666666666666666, \"#ed7953\"], [0.7777777777777778, \"#fb9f3a\"], [0.8888888888888888, \"#fdca26\"], [1.0, \"#f0f921\"]], \"type\": \"heatmap\"}], \"heatmapgl\": [{\"colorbar\": {\"outlinewidth\": 0, \"ticks\": \"\"}, \"colorscale\": [[0.0, \"#0d0887\"], [0.1111111111111111, \"#46039f\"], [0.2222222222222222, \"#7201a8\"], [0.3333333333333333, \"#9c179e\"], [0.4444444444444444, \"#bd3786\"], [0.5555555555555556, \"#d8576b\"], [0.6666666666666666, \"#ed7953\"], [0.7777777777777778, \"#fb9f3a\"], [0.8888888888888888, \"#fdca26\"], [1.0, \"#f0f921\"]], \"type\": \"heatmapgl\"}], \"histogram\": [{\"marker\": {\"colorbar\": {\"outlinewidth\": 0, \"ticks\": \"\"}}, \"type\": \"histogram\"}], \"histogram2d\": [{\"colorbar\": {\"outlinewidth\": 0, \"ticks\": \"\"}, \"colorscale\": [[0.0, \"#0d0887\"], [0.1111111111111111, \"#46039f\"], [0.2222222222222222, \"#7201a8\"], [0.3333333333333333, \"#9c179e\"], [0.4444444444444444, \"#bd3786\"], [0.5555555555555556, \"#d8576b\"], [0.6666666666666666, \"#ed7953\"], [0.7777777777777778, \"#fb9f3a\"], [0.8888888888888888, \"#fdca26\"], [1.0, \"#f0f921\"]], \"type\": \"histogram2d\"}], \"histogram2dcontour\": [{\"colorbar\": {\"outlinewidth\": 0, \"ticks\": \"\"}, \"colorscale\": [[0.0, \"#0d0887\"], [0.1111111111111111, \"#46039f\"], [0.2222222222222222, \"#7201a8\"], [0.3333333333333333, \"#9c179e\"], [0.4444444444444444, \"#bd3786\"], [0.5555555555555556, \"#d8576b\"], [0.6666666666666666, \"#ed7953\"], [0.7777777777777778, \"#fb9f3a\"], [0.8888888888888888, \"#fdca26\"], [1.0, \"#f0f921\"]], \"type\": \"histogram2dcontour\"}], \"mesh3d\": [{\"colorbar\": {\"outlinewidth\": 0, \"ticks\": \"\"}, \"type\": \"mesh3d\"}], \"parcoords\": [{\"line\": {\"colorbar\": {\"outlinewidth\": 0, \"ticks\": \"\"}}, \"type\": \"parcoords\"}], \"pie\": [{\"automargin\": true, \"type\": \"pie\"}], \"scatter\": [{\"marker\": {\"colorbar\": {\"outlinewidth\": 0, \"ticks\": \"\"}}, \"type\": \"scatter\"}], \"scatter3d\": [{\"line\": {\"colorbar\": {\"outlinewidth\": 0, \"ticks\": \"\"}}, \"marker\": {\"colorbar\": {\"outlinewidth\": 0, \"ticks\": \"\"}}, \"type\": \"scatter3d\"}], \"scattercarpet\": [{\"marker\": {\"colorbar\": {\"outlinewidth\": 0, \"ticks\": \"\"}}, \"type\": \"scattercarpet\"}], \"scattergeo\": [{\"marker\": {\"colorbar\": {\"outlinewidth\": 0, \"ticks\": \"\"}}, \"type\": \"scattergeo\"}], \"scattergl\": [{\"marker\": {\"colorbar\": {\"outlinewidth\": 0, \"ticks\": \"\"}}, \"type\": \"scattergl\"}], \"scattermapbox\": [{\"marker\": {\"colorbar\": {\"outlinewidth\": 0, \"ticks\": \"\"}}, \"type\": \"scattermapbox\"}], \"scatterpolar\": [{\"marker\": {\"colorbar\": {\"outlinewidth\": 0, \"ticks\": \"\"}}, \"type\": \"scatterpolar\"}], \"scatterpolargl\": [{\"marker\": {\"colorbar\": {\"outlinewidth\": 0, \"ticks\": \"\"}}, \"type\": \"scatterpolargl\"}], \"scatterternary\": [{\"marker\": {\"colorbar\": {\"outlinewidth\": 0, \"ticks\": \"\"}}, \"type\": \"scatterternary\"}], \"surface\": [{\"colorbar\": {\"outlinewidth\": 0, \"ticks\": \"\"}, \"colorscale\": [[0.0, \"#0d0887\"], [0.1111111111111111, \"#46039f\"], [0.2222222222222222, \"#7201a8\"], [0.3333333333333333, \"#9c179e\"], [0.4444444444444444, \"#bd3786\"], [0.5555555555555556, \"#d8576b\"], [0.6666666666666666, \"#ed7953\"], [0.7777777777777778, \"#fb9f3a\"], [0.8888888888888888, \"#fdca26\"], [1.0, \"#f0f921\"]], \"type\": \"surface\"}], \"table\": [{\"cells\": {\"fill\": {\"color\": \"#EBF0F8\"}, \"line\": {\"color\": \"white\"}}, \"header\": {\"fill\": {\"color\": \"#C8D4E3\"}, \"line\": {\"color\": \"white\"}}, \"type\": \"table\"}]}, \"layout\": {\"annotationdefaults\": {\"arrowcolor\": \"#2a3f5f\", \"arrowhead\": 0, \"arrowwidth\": 1}, \"coloraxis\": {\"colorbar\": {\"outlinewidth\": 0, \"ticks\": \"\"}}, \"colorscale\": {\"diverging\": [[0, \"#8e0152\"], [0.1, \"#c51b7d\"], [0.2, \"#de77ae\"], [0.3, \"#f1b6da\"], [0.4, \"#fde0ef\"], [0.5, \"#f7f7f7\"], [0.6, \"#e6f5d0\"], [0.7, \"#b8e186\"], [0.8, \"#7fbc41\"], [0.9, \"#4d9221\"], [1, \"#276419\"]], \"sequential\": [[0.0, \"#0d0887\"], [0.1111111111111111, \"#46039f\"], [0.2222222222222222, \"#7201a8\"], [0.3333333333333333, \"#9c179e\"], [0.4444444444444444, \"#bd3786\"], [0.5555555555555556, \"#d8576b\"], [0.6666666666666666, \"#ed7953\"], [0.7777777777777778, \"#fb9f3a\"], [0.8888888888888888, \"#fdca26\"], [1.0, \"#f0f921\"]], \"sequentialminus\": [[0.0, \"#0d0887\"], [0.1111111111111111, \"#46039f\"], [0.2222222222222222, \"#7201a8\"], [0.3333333333333333, \"#9c179e\"], [0.4444444444444444, \"#bd3786\"], [0.5555555555555556, \"#d8576b\"], [0.6666666666666666, \"#ed7953\"], [0.7777777777777778, \"#fb9f3a\"], [0.8888888888888888, \"#fdca26\"], [1.0, \"#f0f921\"]]}, \"colorway\": [\"#636efa\", \"#EF553B\", \"#00cc96\", \"#ab63fa\", \"#FFA15A\", \"#19d3f3\", \"#FF6692\", \"#B6E880\", \"#FF97FF\", \"#FECB52\"], \"font\": {\"color\": \"#2a3f5f\"}, \"geo\": {\"bgcolor\": \"white\", \"lakecolor\": \"white\", \"landcolor\": \"#E5ECF6\", \"showlakes\": true, \"showland\": true, \"subunitcolor\": \"white\"}, \"hoverlabel\": {\"align\": \"left\"}, \"hovermode\": \"closest\", \"mapbox\": {\"style\": \"light\"}, \"paper_bgcolor\": \"white\", \"plot_bgcolor\": \"#E5ECF6\", \"polar\": {\"angularaxis\": {\"gridcolor\": \"white\", \"linecolor\": \"white\", \"ticks\": \"\"}, \"bgcolor\": \"#E5ECF6\", \"radialaxis\": {\"gridcolor\": \"white\", \"linecolor\": \"white\", \"ticks\": \"\"}}, \"scene\": {\"xaxis\": {\"backgroundcolor\": \"#E5ECF6\", \"gridcolor\": \"white\", \"gridwidth\": 2, \"linecolor\": \"white\", \"showbackground\": true, \"ticks\": \"\", \"zerolinecolor\": \"white\"}, \"yaxis\": {\"backgroundcolor\": \"#E5ECF6\", \"gridcolor\": \"white\", \"gridwidth\": 2, \"linecolor\": \"white\", \"showbackground\": true, \"ticks\": \"\", \"zerolinecolor\": \"white\"}, \"zaxis\": {\"backgroundcolor\": \"#E5ECF6\", \"gridcolor\": \"white\", \"gridwidth\": 2, \"linecolor\": \"white\", \"showbackground\": true, \"ticks\": \"\", \"zerolinecolor\": \"white\"}}, \"shapedefaults\": {\"line\": {\"color\": \"#2a3f5f\"}}, \"ternary\": {\"aaxis\": {\"gridcolor\": \"white\", \"linecolor\": \"white\", \"ticks\": \"\"}, \"baxis\": {\"gridcolor\": \"white\", \"linecolor\": \"white\", \"ticks\": \"\"}, \"bgcolor\": \"#E5ECF6\", \"caxis\": {\"gridcolor\": \"white\", \"linecolor\": \"white\", \"ticks\": \"\"}}, \"title\": {\"x\": 0.05}, \"xaxis\": {\"automargin\": true, \"gridcolor\": \"white\", \"linecolor\": \"white\", \"ticks\": \"\", \"title\": {\"standoff\": 15}, \"zerolinecolor\": \"white\", \"zerolinewidth\": 2}, \"yaxis\": {\"automargin\": true, \"gridcolor\": \"white\", \"linecolor\": \"white\", \"ticks\": \"\", \"title\": {\"standoff\": 15}, \"zerolinecolor\": \"white\", \"zerolinewidth\": 2}}}},\n",
              "                        {\"responsive\": true}\n",
              "                    ).then(function(){\n",
              "                            \n",
              "var gd = document.getElementById('29d55874-de0e-49cb-94df-d07c6b069b56');\n",
              "var x = new MutationObserver(function (mutations, observer) {{\n",
              "        var display = window.getComputedStyle(gd).display;\n",
              "        if (!display || display === 'none') {{\n",
              "            console.log([gd, 'removed!']);\n",
              "            Plotly.purge(gd);\n",
              "            observer.disconnect();\n",
              "        }}\n",
              "}});\n",
              "\n",
              "// Listen for the removal of the full notebook cells\n",
              "var notebookContainer = gd.closest('#notebook-container');\n",
              "if (notebookContainer) {{\n",
              "    x.observe(notebookContainer, {childList: true});\n",
              "}}\n",
              "\n",
              "// Listen for the clearing of the current output cell\n",
              "var outputEl = gd.closest('.output');\n",
              "if (outputEl) {{\n",
              "    x.observe(outputEl, {childList: true});\n",
              "}}\n",
              "\n",
              "                        })\n",
              "                };\n",
              "                \n",
              "            </script>\n",
              "        </div>\n",
              "</body>\n",
              "</html>"
            ]
          },
          "metadata": {
            "tags": []
          }
        }
      ]
    },
    {
      "cell_type": "code",
      "metadata": {
        "id": "D4loKKC7tjvu"
      },
      "source": [
        ""
      ],
      "execution_count": null,
      "outputs": []
    }
  ]
}