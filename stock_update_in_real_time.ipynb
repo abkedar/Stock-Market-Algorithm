{
  "nbformat": 4,
  "nbformat_minor": 0,
  "metadata": {
    "colab": {
      "name": "stock_update_in_real_time",
      "provenance": []
    },
    "kernelspec": {
      "name": "python3",
      "display_name": "Python 3"
    }
  },
  "cells": [
    {
      "cell_type": "code",
      "metadata": {
        "id": "Kbyvmgx0wuTc"
      },
      "source": [
        "# Description : Get the price of cruptocurrencies in real time."
      ],
      "execution_count": 1,
      "outputs": []
    },
    {
      "cell_type": "code",
      "metadata": {
        "id": "6nmb6TExxZrM"
      },
      "source": [
        "# Import Libraries\n",
        "from bs4 import BeautifulSoup\n",
        "import requests\n",
        "import time"
      ],
      "execution_count": 2,
      "outputs": []
    },
    {
      "cell_type": "code",
      "metadata": {
        "id": "xsLslOyMy_Yt"
      },
      "source": [
        "# <div class=\"BNeawe iBp4i AP7Wnd\">\n",
        "\n",
        "# Create a function to get the price of cryptocurrency\n",
        "def get_crypto_price(share):\n",
        "      # Get the url for example:\n",
        "    # \"https://markets.businessinsider.com/currencies/ltc-usd\"\n",
        "    #coin = \"bitcoin\"\n",
        "    url = \"https://www.google.com/search?q=\"+share+\"+share+price\"\n",
        "\n",
        "    # Make a request to the website\n",
        "    HTML = requests.get(url)\n",
        "\n",
        "    # Parse the HTML\n",
        "    soup = BeautifulSoup(HTML.text, 'html.parser')\n",
        "\n",
        "    # print soup to find where text is the contains the price of the cryptocurrency\n",
        "    #print(soup.prettify())\n",
        "\n",
        "    # Find the current price\n",
        "    text = soup.find('div', attrs={'class':\"BNeawe iBp4i AP7Wnd\"}).find('div', attrs={'class':\"BNeawe iBp4i AP7Wnd\"}).text\n",
        "    return(text)"
      ],
      "execution_count": 102,
      "outputs": []
    },
    {
      "cell_type": "code",
      "metadata": {
        "colab": {
          "base_uri": "https://localhost:8080/"
        },
        "id": "RPzs7FgLJzHs",
        "outputId": "48c32fa3-c060-4d10-da26-a3195f741c24"
      },
      "source": [
        "# Get the price of crypto currency\n",
        "price = get_crypto_price(\"sbi\")\n",
        "\n",
        "# Print the price\n",
        "print(price)"
      ],
      "execution_count": 103,
      "outputs": [
        {
          "output_type": "stream",
          "text": [
            "241.60 +2.90 (1.21%)\n"
          ],
          "name": "stdout"
        }
      ]
    },
    {
      "cell_type": "code",
      "metadata": {
        "id": "BY2N_yOHVj2q"
      },
      "source": [
        "# Create a function  to consistently show the price of the cryptocurrency when it changes\n",
        "def main():\n",
        "\n",
        "  last_price = -1\n",
        "  # Create the loop to continue show the price\n",
        "  while True:\n",
        "    # Choose the cryptocurrency that I want to get the price for\n",
        "    share = 'sbi'\n",
        "    # Get the price of the cryptocurreny\n",
        "    price = get_crypto_price(share)\n",
        "    # Check if the price changed\n",
        "    if price != last_price:\n",
        "      print(share+' price ', price)\n",
        "      last_price = price\n",
        "    time.sleep(3)"
      ],
      "execution_count": 104,
      "outputs": []
    },
    {
      "cell_type": "code",
      "metadata": {
        "colab": {
          "base_uri": "https://localhost:8080/",
          "height": 330
        },
        "id": "hsv-MreiW4vn",
        "outputId": "2be59d0b-2be8-4cd0-b026-10e5e91e7f38"
      },
      "source": [
        "# Run/execute the main function \n",
        "main()"
      ],
      "execution_count": 105,
      "outputs": [
        {
          "output_type": "stream",
          "text": [
            "sbi price  241.60 +2.90 (1.21%)\n",
            "sbi price  241.50 +2.80 (1.17%)\n",
            "sbi price  241.55 +2.85 (1.19%)\n",
            "sbi price  241.50 +2.80 (1.17%)\n"
          ],
          "name": "stdout"
        },
        {
          "output_type": "error",
          "ename": "KeyboardInterrupt",
          "evalue": "ignored",
          "traceback": [
            "\u001b[0;31m---------------------------------------------------------------------------\u001b[0m",
            "\u001b[0;31mKeyboardInterrupt\u001b[0m                         Traceback (most recent call last)",
            "\u001b[0;32m<ipython-input-105-9d4c4fc08e73>\u001b[0m in \u001b[0;36m<module>\u001b[0;34m()\u001b[0m\n\u001b[1;32m      1\u001b[0m \u001b[0;31m# Run/execute the main function\u001b[0m\u001b[0;34m\u001b[0m\u001b[0;34m\u001b[0m\u001b[0;34m\u001b[0m\u001b[0m\n\u001b[0;32m----> 2\u001b[0;31m \u001b[0mmain\u001b[0m\u001b[0;34m(\u001b[0m\u001b[0;34m)\u001b[0m\u001b[0;34m\u001b[0m\u001b[0;34m\u001b[0m\u001b[0m\n\u001b[0m",
            "\u001b[0;32m<ipython-input-104-9a0992ff74c0>\u001b[0m in \u001b[0;36mmain\u001b[0;34m()\u001b[0m\n\u001b[1;32m     13\u001b[0m       \u001b[0mprint\u001b[0m\u001b[0;34m(\u001b[0m\u001b[0mshare\u001b[0m\u001b[0;34m+\u001b[0m\u001b[0;34m' price '\u001b[0m\u001b[0;34m,\u001b[0m \u001b[0mprice\u001b[0m\u001b[0;34m)\u001b[0m\u001b[0;34m\u001b[0m\u001b[0;34m\u001b[0m\u001b[0m\n\u001b[1;32m     14\u001b[0m       \u001b[0mlast_price\u001b[0m \u001b[0;34m=\u001b[0m \u001b[0mprice\u001b[0m\u001b[0;34m\u001b[0m\u001b[0;34m\u001b[0m\u001b[0m\n\u001b[0;32m---> 15\u001b[0;31m     \u001b[0mtime\u001b[0m\u001b[0;34m.\u001b[0m\u001b[0msleep\u001b[0m\u001b[0;34m(\u001b[0m\u001b[0;36m3\u001b[0m\u001b[0;34m)\u001b[0m\u001b[0;34m\u001b[0m\u001b[0;34m\u001b[0m\u001b[0m\n\u001b[0m",
            "\u001b[0;31mKeyboardInterrupt\u001b[0m: "
          ]
        }
      ]
    },
    {
      "cell_type": "code",
      "metadata": {
        "id": "uGXRl1RTO7AP"
      },
      "source": [
        ""
      ],
      "execution_count": null,
      "outputs": []
    }
  ]
}